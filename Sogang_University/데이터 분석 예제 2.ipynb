{
 "cells": [
  {
   "cell_type": "markdown",
   "id": "8f0113fb",
   "metadata": {},
   "source": [
    "## 연습문제 1\n",
    "- PresidentsParty.txt 파일을 데이터프레임 Presidents로 불러오시오."
   ]
  },
  {
   "cell_type": "code",
   "execution_count": 1,
   "id": "4eb82f4c",
   "metadata": {},
   "outputs": [],
   "source": [
    "import pandas as pd\n",
    "Presidents = pd.read_csv('PresidentsParty.txt', sep='\\t',\n",
    "                        index_col = 0)"
   ]
  },
  {
   "cell_type": "markdown",
   "id": "e19b6d9e",
   "metadata": {},
   "source": [
    "## 미국 대통령 소속 정당 bar plot"
   ]
  },
  {
   "cell_type": "code",
   "execution_count": 3,
   "id": "c3f1bd04",
   "metadata": {},
   "outputs": [
    {
     "data": {
      "text/plain": [
       "<AxesSubplot:>"
      ]
     },
     "execution_count": 3,
     "metadata": {},
     "output_type": "execute_result"
    },
    {
     "data": {
      "image/png": "[encoded data removed]",
      "text/plain": [
       "<Figure size 432x288 with 1 Axes>"
      ]
     },
     "metadata": {
      "needs_background": "light"
     },
     "output_type": "display_data"
    }
   ],
   "source": [
    "%matplotlib inline\n",
    "import matplotlib.pyplot as plt\n",
    "Presidents.Party.value_counts().plot.bar()"
   ]
  },
  {
   "cell_type": "markdown",
   "id": "d471f0f9",
   "metadata": {},
   "source": [
    "## 연습문제 2\n",
    "- 데이터프레임 Presidents의 Party의 값 중 'Republican' 과 'Democrat'을 제외한 정당 소속명을 모두 'ETC'로 변환 후 bar plot을 생성하시오."
   ]
  },
  {
   "cell_type": "code",
   "execution_count": 4,
   "id": "4a5ee1b0",
   "metadata": {},
   "outputs": [
    {
     "data": {
      "text/plain": [
       "<AxesSubplot:>"
      ]
     },
     "execution_count": 4,
     "metadata": {},
     "output_type": "execute_result"
    },
    {
     "data": {
      "image/png": "[encoded data removed]",
      "text/plain": [
       "<Figure size 432x288 with 1 Axes>"
      ]
     },
     "metadata": {
      "needs_background": "light"
     },
     "output_type": "display_data"
    }
   ],
   "source": [
    "Presidents.Party[~Presidents.Party.isin(['Republican',\n",
    "                                        'Democrat'])] = 'ETC'\n",
    "Presidents.Party.value_counts().plot.bar()"
   ]
  },
  {
   "cell_type": "markdown",
   "id": "e6cc707f",
   "metadata": {},
   "source": [
    "## groupby"
   ]
  },
  {
   "cell_type": "code",
   "execution_count": 5,
   "id": "fabad46b",
   "metadata": {},
   "outputs": [
    {
     "data": {
      "text/plain": [
       "Party\n",
       "Democrat      22\n",
       "ETC           14\n",
       "Republican    24\n",
       "dtype: int64"
      ]
     },
     "execution_count": 5,
     "metadata": {},
     "output_type": "execute_result"
    }
   ],
   "source": [
    "# value_counts는 series에 대해 적용해봄. groupby는 다양하게 적용 가능\n",
    "Presidents.groupby('Party').size() # level별 행의 갯수 출력\n",
    "# 출력이 Series임을 알 수 있음. "
   ]
  },
  {
   "cell_type": "code",
   "execution_count": 10,
   "id": "da41b5c9",
   "metadata": {},
   "outputs": [
    {
     "data": {
      "text/plain": [
       "Party       President             \n",
       "Democrat    Andrew Jackson            2\n",
       "            Barack Obama              2\n",
       "            Bill Clinton              2\n",
       "            Franklin Pierce           1\n",
       "            Franklin Roosevelt        3\n",
       "            Grover Cleveland          2\n",
       "            Harry S. Truman           2\n",
       "            James Buchanan            1\n",
       "            James K. Polk             1\n",
       "            Jimmy Carter              1\n",
       "            John F. Kennedy           1\n",
       "            Lyndon B. Johnson         1\n",
       "            Martin Van Buren          1\n",
       "            Woodrow Wilson            2\n",
       "ETC         Andrew Johnson            1\n",
       "            George Washington         2\n",
       "            James Madison             2\n",
       "            James Monroe              2\n",
       "            John Adams                1\n",
       "            John Quincy Adams         1\n",
       "            John Tyler                1\n",
       "            Thomas Jefferson          2\n",
       "            William Henry Harrison    1\n",
       "            Zachary Taylor            1\n",
       "Republican  Abraham Lincoln           1\n",
       "            Benjamin Harrison         1\n",
       "            Calvin Coolidge           1\n",
       "            Chester A. Arthur         1\n",
       "            Donald Trump              1\n",
       "            Dwight D. Eisenhower      2\n",
       "            George Bush               1\n",
       "            George W. Bush            2\n",
       "            Herbert Hoover            1\n",
       "            James A. Garfield         1\n",
       "            Richard M. Nixon          2\n",
       "            Ronald Reagan             2\n",
       "            Rutherford B. Hayes       1\n",
       "            Theodore Roosevelt        2\n",
       "            Ulysses S. Grant          2\n",
       "            Warren G. Harding         1\n",
       "            William Howard Taft       1\n",
       "            William McKinley          1\n",
       "dtype: int64"
      ]
     },
     "execution_count": 10,
     "metadata": {},
     "output_type": "execute_result"
    }
   ],
   "source": [
    "Presidents.groupby(['Party','President']).size()"
   ]
  },
  {
   "cell_type": "code",
   "execution_count": 12,
   "id": "1453708d",
   "metadata": {},
   "outputs": [
    {
     "data": {
      "text/plain": [
       "([<matplotlib.axis.YTick at 0x20089daf460>,\n",
       "  <matplotlib.axis.YTick at 0x2009f614b20>,\n",
       "  <matplotlib.axis.YTick at 0x2009f595040>,\n",
       "  <matplotlib.axis.YTick at 0x2009f68e5e0>],\n",
       " [Text(0, 0, ''), Text(0, 0, ''), Text(0, 0, ''), Text(0, 0, '')])"
      ]
     },
     "execution_count": 12,
     "metadata": {},
     "output_type": "execute_result"
    },
    {
     "data": {
      "image/png": "[encoded data removed]",
      "text/plain": [
       "<Figure size 576x216 with 1 Axes>"
      ]
     },
     "metadata": {
      "needs_background": "light"
     },
     "output_type": "display_data"
    }
   ],
   "source": [
    "Presidents.groupby(['Party','President']).size().plot.bar(figsize=(8,3))\n",
    "plt.yticks(range(4))"
   ]
  },
  {
   "cell_type": "markdown",
   "id": "d2c576fc",
   "metadata": {},
   "source": [
    "## hierarchical indexing"
   ]
  },
  {
   "cell_type": "code",
   "execution_count": 13,
   "id": "cf255bf7",
   "metadata": {},
   "outputs": [
    {
     "data": {
      "text/plain": [
       "Party     President         \n",
       "Democrat  Andrew Jackson        2\n",
       "          Barack Obama          2\n",
       "          Bill Clinton          2\n",
       "          Franklin Pierce       1\n",
       "          Franklin Roosevelt    3\n",
       "dtype: int64"
      ]
     },
     "execution_count": 13,
     "metadata": {},
     "output_type": "execute_result"
    }
   ],
   "source": [
    "a = Presidents.groupby(['Party','President']).size()\n",
    "a.head()"
   ]
  },
  {
   "cell_type": "code",
   "execution_count": 14,
   "id": "2bc7ac7d",
   "metadata": {},
   "outputs": [
    {
     "data": {
      "text/plain": [
       "President\n",
       "Andrew Jackson        2\n",
       "Barack Obama          2\n",
       "Bill Clinton          2\n",
       "Franklin Pierce       1\n",
       "Franklin Roosevelt    3\n",
       "dtype: int64"
      ]
     },
     "execution_count": 14,
     "metadata": {},
     "output_type": "execute_result"
    }
   ],
   "source": [
    "a['Democrat'].head()"
   ]
  },
  {
   "cell_type": "code",
   "execution_count": 15,
   "id": "64931379",
   "metadata": {},
   "outputs": [
    {
     "data": {
      "text/plain": [
       "Party       President           \n",
       "Democrat    Andrew Jackson          2\n",
       "            Barack Obama            2\n",
       "            Bill Clinton            2\n",
       "            Franklin Roosevelt      3\n",
       "            Grover Cleveland        2\n",
       "            Harry S. Truman         2\n",
       "            Woodrow Wilson          2\n",
       "Republican  Dwight D. Eisenhower    2\n",
       "            George W. Bush          2\n",
       "            Richard M. Nixon        2\n",
       "            Ronald Reagan           2\n",
       "            Theodore Roosevelt      2\n",
       "            Ulysses S. Grant        2\n",
       "dtype: int64"
      ]
     },
     "execution_count": 15,
     "metadata": {},
     "output_type": "execute_result"
    }
   ],
   "source": [
    "a[a>1][['Democrat','Republican']]"
   ]
  },
  {
   "cell_type": "code",
   "execution_count": 16,
   "id": "6e17cf1c",
   "metadata": {},
   "outputs": [
    {
     "data": {
      "text/plain": [
       "([<matplotlib.axis.YTick at 0x2009f7da580>,\n",
       "  <matplotlib.axis.YTick at 0x2009f7d2d90>,\n",
       "  <matplotlib.axis.YTick at 0x2009f7d21f0>,\n",
       "  <matplotlib.axis.YTick at 0x2009f8373a0>],\n",
       " [Text(0, 0, ''), Text(0, 0, ''), Text(0, 0, ''), Text(0, 0, '')])"
      ]
     },
     "execution_count": 16,
     "metadata": {},
     "output_type": "execute_result"
    },
    {
     "data": {
      "image/png": "[encoded data removed]",
      "text/plain": [
       "<Figure size 360x216 with 1 Axes>"
      ]
     },
     "metadata": {
      "needs_background": "light"
     },
     "output_type": "display_data"
    }
   ],
   "source": [
    "a[a>1][['Democrat','Republican']].plot.bar(figsize=(5,3))\n",
    "plt.yticks(range(4))"
   ]
  },
  {
   "cell_type": "markdown",
   "id": "3c65e6bb",
   "metadata": {},
   "source": [
    "## 연습문제 3\n",
    "- 데이터프레임 Presidents 로부터 미국 대통령 중 2회 이상 연임한 대통령의 수를 정당별로 구분하여 내림차순으로 정렬하여 bar chart를 만드시오."
   ]
  },
  {
   "cell_type": "code",
   "execution_count": 17,
   "id": "a2ddec86",
   "metadata": {},
   "outputs": [
    {
     "data": {
      "text/plain": [
       "<AxesSubplot:xlabel='Party'>"
      ]
     },
     "execution_count": 17,
     "metadata": {},
     "output_type": "execute_result"
    },
    {
     "data": {
      "image/png": "[encoded data removed]",
      "text/plain": [
       "<Figure size 432x288 with 1 Axes>"
      ]
     },
     "metadata": {
      "needs_background": "light"
     },
     "output_type": "display_data"
    }
   ],
   "source": [
    "a = Presidents.groupby(['Party','President']).size()\n",
    "a[a>1].groupby('Party').size().sort_values(ascending = False).plot.bar()"
   ]
  },
  {
   "cell_type": "markdown",
   "id": "e35c259a",
   "metadata": {},
   "source": [
    "## unstack"
   ]
  },
  {
   "cell_type": "code",
   "execution_count": 21,
   "id": "b05e5066",
   "metadata": {},
   "outputs": [
    {
     "data": {
      "text/plain": [
       "Party        \n",
       "Democrat    1     7\n",
       "            2     6\n",
       "            3     1\n",
       "ETC         1     6\n",
       "            2     4\n",
       "Republican  1    12\n",
       "            2     6\n",
       "dtype: int64"
      ]
     },
     "execution_count": 21,
     "metadata": {},
     "output_type": "execute_result"
    }
   ],
   "source": [
    "a = Presidents.groupby(['Party','President']).size().groupby('Party').value_counts()\n",
    "a"
   ]
  },
  {
   "cell_type": "code",
   "execution_count": 34,
   "id": "b5ee82eb",
   "metadata": {},
   "outputs": [
    {
     "data": {
      "text/html": [
       "<div>\n",
       "<style scoped>\n",
       "    .dataframe tbody tr th:only-of-type {\n",
       "        vertical-align: middle;\n",
       "    }\n",
       "\n",
       "    .dataframe tbody tr th {\n",
       "        vertical-align: top;\n",
       "    }\n",
       "\n",
       "    .dataframe thead th {\n",
       "        text-align: right;\n",
       "    }\n",
       "</style>\n",
       "<table border=\"1\" class=\"dataframe\">\n",
       "  <thead>\n",
       "    <tr style=\"text-align: right;\">\n",
       "      <th></th>\n",
       "      <th>1</th>\n",
       "      <th>2</th>\n",
       "      <th>3</th>\n",
       "    </tr>\n",
       "    <tr>\n",
       "      <th>Party</th>\n",
       "      <th></th>\n",
       "      <th></th>\n",
       "      <th></th>\n",
       "    </tr>\n",
       "  </thead>\n",
       "  <tbody>\n",
       "    <tr>\n",
       "      <th>Democrat</th>\n",
       "      <td>7</td>\n",
       "      <td>6</td>\n",
       "      <td>1</td>\n",
       "    </tr>\n",
       "    <tr>\n",
       "      <th>ETC</th>\n",
       "      <td>6</td>\n",
       "      <td>4</td>\n",
       "      <td>0</td>\n",
       "    </tr>\n",
       "    <tr>\n",
       "      <th>Republican</th>\n",
       "      <td>12</td>\n",
       "      <td>6</td>\n",
       "      <td>0</td>\n",
       "    </tr>\n",
       "  </tbody>\n",
       "</table>\n",
       "</div>"
      ],
      "text/plain": [
       "             1  2  3\n",
       "Party               \n",
       "Democrat     7  6  1\n",
       "ETC          6  4  0\n",
       "Republican  12  6  0"
      ]
     },
     "execution_count": 34,
     "metadata": {},
     "output_type": "execute_result"
    }
   ],
   "source": [
    "b = a.unstack().fillna(0).astype('i')\n",
    "b"
   ]
  },
  {
   "cell_type": "markdown",
   "id": "57ea90e9",
   "metadata": {},
   "source": [
    "## 연습문제 4\n",
    "- 데이터프레임 Presidents로부터 정당별 미국 대통령 취임 횟수를 추출한 b로부터 bar chart로 만드시오."
   ]
  },
  {
   "cell_type": "code",
   "execution_count": 35,
   "id": "6b0f04ee",
   "metadata": {},
   "outputs": [
    {
     "data": {
      "text/plain": [
       "Text(0.5, 1.0, '정당별 역대 미국 대통령 동일 인물 취임 횟수')"
      ]
     },
     "execution_count": 35,
     "metadata": {},
     "output_type": "execute_result"
    },
    {
     "data": {
      "image/png": "[encoded data removed]",
      "text/plain": [
       "<Figure size 432x288 with 1 Axes>"
      ]
     },
     "metadata": {
      "needs_background": "light"
     },
     "output_type": "display_data"
    }
   ],
   "source": [
    "b.columns = [str(i) + '회' for i in b.columns]\n",
    "plt.rcParams['font.family'] = 'Malgun Gothic'\n",
    "b.plot.barh(stacked=True)\n",
    "plt.title('정당별 역대 미국 대통령 동일 인물 취임 횟수')"
   ]
  },
  {
   "cell_type": "markdown",
   "id": "903f5826",
   "metadata": {},
   "source": [
    "## 카이제곱 검정"
   ]
  },
  {
   "cell_type": "code",
   "execution_count": 36,
   "id": "93658266",
   "metadata": {},
   "outputs": [
    {
     "data": {
      "text/html": [
       "<div>\n",
       "<style scoped>\n",
       "    .dataframe tbody tr th:only-of-type {\n",
       "        vertical-align: middle;\n",
       "    }\n",
       "\n",
       "    .dataframe tbody tr th {\n",
       "        vertical-align: top;\n",
       "    }\n",
       "\n",
       "    .dataframe thead th {\n",
       "        text-align: right;\n",
       "    }\n",
       "</style>\n",
       "<table border=\"1\" class=\"dataframe\">\n",
       "  <thead>\n",
       "    <tr style=\"text-align: right;\">\n",
       "      <th></th>\n",
       "      <th>1회</th>\n",
       "      <th>2회</th>\n",
       "      <th>3회</th>\n",
       "    </tr>\n",
       "    <tr>\n",
       "      <th>Party</th>\n",
       "      <th></th>\n",
       "      <th></th>\n",
       "      <th></th>\n",
       "    </tr>\n",
       "  </thead>\n",
       "  <tbody>\n",
       "    <tr>\n",
       "      <th>Democrat</th>\n",
       "      <td>7</td>\n",
       "      <td>6</td>\n",
       "      <td>1</td>\n",
       "    </tr>\n",
       "    <tr>\n",
       "      <th>ETC</th>\n",
       "      <td>6</td>\n",
       "      <td>4</td>\n",
       "      <td>0</td>\n",
       "    </tr>\n",
       "    <tr>\n",
       "      <th>Republican</th>\n",
       "      <td>12</td>\n",
       "      <td>6</td>\n",
       "      <td>0</td>\n",
       "    </tr>\n",
       "  </tbody>\n",
       "</table>\n",
       "</div>"
      ],
      "text/plain": [
       "            1회  2회  3회\n",
       "Party                 \n",
       "Democrat     7   6   1\n",
       "ETC          6   4   0\n",
       "Republican  12   6   0"
      ]
     },
     "execution_count": 36,
     "metadata": {},
     "output_type": "execute_result"
    }
   ],
   "source": [
    "b"
   ]
  },
  {
   "cell_type": "code",
   "execution_count": 41,
   "id": "b4b894f2",
   "metadata": {},
   "outputs": [
    {
     "name": "stdout",
     "output_type": "stream",
     "text": [
      "Chi2: 2.5680000000000005\n",
      "p-value: 0.6325021189887472\n",
      "DF: 4\n",
      "Expected:\n",
      " [[ 8.33333333  5.33333333  0.33333333]\n",
      " [ 5.95238095  3.80952381  0.23809524]\n",
      " [10.71428571  6.85714286  0.42857143]]\n"
     ]
    }
   ],
   "source": [
    "from scipy.stats import chi2_contingency\n",
    "chi2, p, df, expected = chi2_contingency(b)\n",
    "print(f'Chi2: {chi2}\\np-value: {p}\\nDF: {df}')\n",
    "print('Expected:\\n',expected)"
   ]
  },
  {
   "cell_type": "markdown",
   "id": "261ca72a",
   "metadata": {},
   "source": [
    "결론 : b에 대해 민주당 7 6 1 공화당 12 6 0 이지만 p value가 0.05보다 크기에 통계적으로 유의미한 차이가 아니다. <br>\n",
    "민주당과 공화당의 1회 2회 차이는 주목할만한 차이가 아니고, 랜덤한 차이다.\n",
    "\n",
    "expected는 5보다 커야한다. 5보다 작은 것이 절반에 해당하기에 카이 제곱 검정을 수행하기에 적절하지 못하다.\n",
    "\n",
    "값의 수가 적기때문에 바람직하지 않다.\n",
    "이 경우에는 fisher exact test 가 바람직하다.."
   ]
  }
 ],
 "metadata": {
  "kernelspec": {
   "display_name": "Python 3",
   "language": "python",
   "name": "python3"
  },
  "language_info": {
   "codemirror_mode": {
    "name": "ipython",
    "version": 3
   },
   "file_extension": ".py",
   "mimetype": "text/x-python",
   "name": "python",
   "nbconvert_exporter": "python",
   "pygments_lexer": "ipython3",
   "version": "3.8.8"
  }
 },
 "nbformat": 4,
 "nbformat_minor": 5
}
