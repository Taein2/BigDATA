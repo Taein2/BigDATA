{
 "cells": [
  {
   "cell_type": "code",
   "execution_count": 1,
   "id": "15df72a6",
   "metadata": {},
   "outputs": [
    {
     "data": {
      "text/plain": [
       "array([[ 0,  1,  2,  3],\n",
       "       [ 4,  5,  6,  7],\n",
       "       [ 8,  9, 10, 11],\n",
       "       [12, 13, 14, 15]])"
      ]
     },
     "execution_count": 1,
     "metadata": {},
     "output_type": "execute_result"
    }
   ],
   "source": [
    "import numpy as np\n",
    "a = np.arange(0,16).reshape(4,4)\n",
    "a"
   ]
  },
  {
   "cell_type": "code",
   "execution_count": 2,
   "id": "aa2213cd",
   "metadata": {},
   "outputs": [
    {
     "data": {
      "text/plain": [
       "120"
      ]
     },
     "execution_count": 2,
     "metadata": {},
     "output_type": "execute_result"
    }
   ],
   "source": [
    "# 메소드 vs 함수\n",
    "np.sum(a)"
   ]
  },
  {
   "cell_type": "code",
   "execution_count": 3,
   "id": "0d0a9805",
   "metadata": {},
   "outputs": [
    {
     "data": {
      "text/plain": [
       "array([24, 28, 32, 36])"
      ]
     },
     "execution_count": 3,
     "metadata": {},
     "output_type": "execute_result"
    }
   ],
   "source": [
    "np.sum(a,0) # 열별 합계값"
   ]
  },
  {
   "cell_type": "code",
   "execution_count": 4,
   "id": "7f63ff12",
   "metadata": {},
   "outputs": [
    {
     "data": {
      "text/plain": [
       "array([ 6, 22, 38, 54])"
      ]
     },
     "execution_count": 4,
     "metadata": {},
     "output_type": "execute_result"
    }
   ],
   "source": [
    "np.sum(a,1) # 행별 합계값"
   ]
  },
  {
   "cell_type": "code",
   "execution_count": 7,
   "id": "44086e94",
   "metadata": {},
   "outputs": [
    {
     "name": "stdout",
     "output_type": "stream",
     "text": [
      "[24 28 32 36]\n",
      "[ 6 22 38 54]\n"
     ]
    }
   ],
   "source": [
    "print(a.sum(0))\n",
    "print(a.sum(1))"
   ]
  },
  {
   "cell_type": "code",
   "execution_count": 9,
   "id": "cdeb0c9b",
   "metadata": {},
   "outputs": [
    {
     "name": "stdout",
     "output_type": "stream",
     "text": [
      "120\n",
      "120\n"
     ]
    }
   ],
   "source": [
    "# 함수 오른쪽에서 왼쪽으로\n",
    "print(np.sum(np.sum(a,1)))\n",
    "# 메소드 왼쪽에서 오른쪽으로\n",
    "print(a.sum(1).sum())"
   ]
  },
  {
   "cell_type": "code",
   "execution_count": 16,
   "id": "68a7bb54",
   "metadata": {},
   "outputs": [
    {
     "name": "stdout",
     "output_type": "stream",
     "text": [
      "7.5\n",
      "[6. 7. 8. 9.]\n",
      "[0 1 2 3]\n",
      "[ 3  7 11 15]\n",
      "4.6097722286464435\n",
      "7.5\n"
     ]
    }
   ],
   "source": [
    "print(a.mean()) # method\n",
    "print(a.mean(0)) # 0은 열 1은 행\n",
    "print(a.min(0)) # 0은 열 1은 행\n",
    "print(a.max(1)) # 0은 열 1은 행\n",
    "print(a.std()) # 표준편차\n",
    "print(np.median(a)) # 함수"
   ]
  },
  {
   "cell_type": "code",
   "execution_count": 18,
   "id": "3b415ce8",
   "metadata": {},
   "outputs": [
    {
     "data": {
      "text/plain": [
       "array([  0,   1,   3,   6,  10,  15,  21,  28,  36,  45,  55,  66,  78,\n",
       "        91, 105, 120], dtype=int32)"
      ]
     },
     "execution_count": 18,
     "metadata": {},
     "output_type": "execute_result"
    }
   ],
   "source": [
    "a.cumsum() # 누적 합"
   ]
  },
  {
   "cell_type": "code",
   "execution_count": 19,
   "id": "a116456f",
   "metadata": {},
   "outputs": [
    {
     "data": {
      "text/plain": [
       "array([[ 0,  1,  2,  3],\n",
       "       [ 4,  6,  8, 10],\n",
       "       [12, 15, 18, 21],\n",
       "       [24, 28, 32, 36]], dtype=int32)"
      ]
     },
     "execution_count": 19,
     "metadata": {},
     "output_type": "execute_result"
    }
   ],
   "source": [
    "a.cumsum(0) # 컬럼별 누적 합 0 열 1 행"
   ]
  },
  {
   "cell_type": "code",
   "execution_count": 22,
   "id": "800097da",
   "metadata": {},
   "outputs": [
    {
     "data": {
      "text/plain": [
       "array([  0,   1,   2,   3,   4,   5,   6,   7,   8,   9,  10,  11, 100])"
      ]
     },
     "execution_count": 22,
     "metadata": {},
     "output_type": "execute_result"
    }
   ],
   "source": [
    "# append\n",
    "a = np.arange(0,12).reshape(3,4)\n",
    "np.append(a,100)"
   ]
  },
  {
   "cell_type": "code",
   "execution_count": 23,
   "id": "e83a732f",
   "metadata": {},
   "outputs": [
    {
     "data": {
      "text/plain": [
       "array([ 0,  1,  2,  3,  4,  5,  6,  7,  8,  9, 10, 11,  8,  9, 10, 11])"
      ]
     },
     "execution_count": 23,
     "metadata": {},
     "output_type": "execute_result"
    }
   ],
   "source": [
    "np.append(a,a[2]) # a에 a[2] 인 8 9 10 11 을 append"
   ]
  },
  {
   "cell_type": "code",
   "execution_count": 24,
   "id": "736f625e",
   "metadata": {},
   "outputs": [
    {
     "data": {
      "text/plain": [
       "array([ 0,  1,  2,  3,  4,  5,  6,  7,  8,  9, 10, 11,  2,  3,  6,  7, 10,\n",
       "       11])"
      ]
     },
     "execution_count": 24,
     "metadata": {},
     "output_type": "execute_result"
    }
   ],
   "source": [
    "#  행 , 열 -> ,2:  2열부터 전체 칼럼\n",
    "np.append(a, a[:,2:])"
   ]
  },
  {
   "cell_type": "code",
   "execution_count": 25,
   "id": "ab70ef04",
   "metadata": {},
   "outputs": [
    {
     "data": {
      "text/plain": [
       "array([[ 0,  1,  2,  3],\n",
       "       [ 4,  5,  6,  7],\n",
       "       [ 8,  9, 10, 11]])"
      ]
     },
     "execution_count": 25,
     "metadata": {},
     "output_type": "execute_result"
    }
   ],
   "source": [
    "a"
   ]
  },
  {
   "cell_type": "code",
   "execution_count": 26,
   "id": "7a89149c",
   "metadata": {},
   "outputs": [
    {
     "data": {
      "text/plain": [
       "array([[ 2,  3],\n",
       "       [ 6,  7],\n",
       "       [10, 11]])"
      ]
     },
     "execution_count": 26,
     "metadata": {},
     "output_type": "execute_result"
    }
   ],
   "source": [
    "a[:,2:]"
   ]
  },
  {
   "cell_type": "code",
   "execution_count": 28,
   "id": "7c97d6fc",
   "metadata": {},
   "outputs": [
    {
     "data": {
      "text/plain": [
       "array([[ 0,  1,  2,  3,  2,  3],\n",
       "       [ 4,  5,  6,  7,  6,  7],\n",
       "       [ 8,  9, 10, 11, 10, 11]])"
      ]
     },
     "execution_count": 28,
     "metadata": {},
     "output_type": "execute_result"
    }
   ],
   "source": [
    "np.append(a,a[:,2:],1) # 2열부터 -> 1이면 행으로 붙임"
   ]
  },
  {
   "cell_type": "code",
   "execution_count": 29,
   "id": "1c312d4f",
   "metadata": {},
   "outputs": [
    {
     "data": {
      "text/plain": [
       "array([[ 0,  1,  2,  3],\n",
       "       [ 4,  5,  6,  7],\n",
       "       [ 8,  9, 10, 11],\n",
       "       [ 8,  9, 10, 11]])"
      ]
     },
     "execution_count": 29,
     "metadata": {},
     "output_type": "execute_result"
    }
   ],
   "source": [
    "np.append(a,a[2:3],0)"
   ]
  },
  {
   "cell_type": "markdown",
   "id": "cf50acab",
   "metadata": {},
   "source": [
    "### 연습문제 1 ndarray 행별 합계 변환"
   ]
  },
  {
   "cell_type": "code",
   "execution_count": 39,
   "id": "16fbbcf2",
   "metadata": {},
   "outputs": [
    {
     "data": {
      "text/plain": [
       "array([[ 0,  1,  2,  3],\n",
       "       [ 4,  5,  6,  7],\n",
       "       [ 8,  9, 10, 11],\n",
       "       [12, 13, 14, 15]])"
      ]
     },
     "execution_count": 39,
     "metadata": {},
     "output_type": "execute_result"
    }
   ],
   "source": [
    "a = np.arange(0,16).reshape(4,4)\n",
    "a"
   ]
  },
  {
   "cell_type": "code",
   "execution_count": 40,
   "id": "f6d8f43b",
   "metadata": {},
   "outputs": [
    {
     "data": {
      "text/plain": [
       "array([[ 0,  1,  2,  3,  6],\n",
       "       [ 4,  5,  6,  7, 22],\n",
       "       [ 8,  9, 10, 11, 38],\n",
       "       [12, 13, 14, 15, 54]])"
      ]
     },
     "execution_count": 40,
     "metadata": {},
     "output_type": "execute_result"
    }
   ],
   "source": [
    "np.append(a, a.sum(1).reshape(4,1),1)"
   ]
  },
  {
   "cell_type": "markdown",
   "id": "d306e39c",
   "metadata": {},
   "source": [
    "### 연습문제 2\n",
    "##### [01_data]폴더의 확장자 txt파일 불러오기\n",
    "##### 각 파일 마침표 쉼표 빈도 추출\n",
    "##### ndarray 4,2 만들기"
   ]
  },
  {
   "cell_type": "code",
   "execution_count": 49,
   "id": "381e84db",
   "metadata": {},
   "outputs": [
    {
     "data": {
      "text/plain": [
       "array([[0.05882353, 0.04705882],\n",
       "       [0.05747126, 0.05747126],\n",
       "       [0.04761905, 0.04761905],\n",
       "       [0.05      , 0.1       ]])"
      ]
     },
     "execution_count": 49,
     "metadata": {},
     "output_type": "execute_result"
    }
   ],
   "source": [
    "import re,os\n",
    "import numpy as np\n",
    "from collections import Counter\n",
    "a = np.array([]).reshape(0,2)\n",
    "for i in os.listdir('./01_data'):\n",
    "    if i.endswith('.txt'):\n",
    "        text = open('./01_data/' + i).read()\n",
    "        # Counter 데이터 타입\n",
    "        punct = Counter(re.findall('[.,]',text)) # . 또는 , \n",
    "        size = len(text.split())\n",
    "        # punct는 내부 데이터 타입이 dict 마침표,쉼표의 빈도 / size \n",
    "        a = np.append(a, np.array([punct['.']/size,\n",
    "                                    punct[',']/size]).reshape(1,2),0)\n",
    "a"
   ]
  },
  {
   "cell_type": "code",
   "execution_count": 52,
   "id": "959ac23b",
   "metadata": {},
   "outputs": [
    {
     "data": {
      "text/plain": [
       "array([[0.04705882, 0.05882353],\n",
       "       [0.05747126, 0.05747126],\n",
       "       [0.04761905, 0.04761905],\n",
       "       [0.05      , 0.1       ]])"
      ]
     },
     "execution_count": 52,
     "metadata": {},
     "output_type": "execute_result"
    }
   ],
   "source": [
    "a.sort(); a # 오름차순"
   ]
  },
  {
   "cell_type": "code",
   "execution_count": 53,
   "id": "579e57d4",
   "metadata": {},
   "outputs": [
    {
     "data": {
      "text/plain": [
       "array([[0.05882353, 0.04705882],\n",
       "       [0.05747126, 0.05747126],\n",
       "       [0.04761905, 0.04761905],\n",
       "       [0.1       , 0.05      ]])"
      ]
     },
     "execution_count": 53,
     "metadata": {},
     "output_type": "execute_result"
    }
   ],
   "source": [
    "a[:,::-1].sort(); a #내림차순"
   ]
  },
  {
   "cell_type": "code",
   "execution_count": 55,
   "id": "3d9930bb",
   "metadata": {},
   "outputs": [
    {
     "data": {
      "text/plain": [
       "array([[0.04761905, 0.04705882],\n",
       "       [0.05747126, 0.04761905],\n",
       "       [0.05882353, 0.05      ],\n",
       "       [0.1       , 0.05747126]])"
      ]
     },
     "execution_count": 55,
     "metadata": {},
     "output_type": "execute_result"
    }
   ],
   "source": [
    "a.sort(0); a # 열별로 오름차순"
   ]
  },
  {
   "cell_type": "code",
   "execution_count": 57,
   "id": "3e35f2fb",
   "metadata": {},
   "outputs": [
    {
     "data": {
      "text/plain": [
       "array([[0.1       , 0.05747126],\n",
       "       [0.05882353, 0.05      ],\n",
       "       [0.05747126, 0.04761905],\n",
       "       [0.04761905, 0.04705882]])"
      ]
     },
     "execution_count": 57,
     "metadata": {},
     "output_type": "execute_result"
    }
   ],
   "source": [
    "a[::-1].sort(0); a # 열별로 내림차순"
   ]
  },
  {
   "cell_type": "code",
   "execution_count": 60,
   "id": "0c1db643",
   "metadata": {},
   "outputs": [],
   "source": [
    "np.savetxt('out4.txt',a,delimiter='\\t') # 컬럼 구분을 \\t"
   ]
  },
  {
   "cell_type": "code",
   "execution_count": 62,
   "id": "5031ba44",
   "metadata": {},
   "outputs": [],
   "source": [
    "np.savetxt('out5.txt',a,fmt='%.4f',delimiter='\\t') # float 포멧팅"
   ]
  },
  {
   "cell_type": "code",
   "execution_count": 65,
   "id": "a87dbf68",
   "metadata": {},
   "outputs": [
    {
     "data": {
      "text/plain": [
       "array([[0.1       , 0.05747126],\n",
       "       [0.05882353, 0.05      ],\n",
       "       [0.05747126, 0.04761905],\n",
       "       [0.04761905, 0.04705882]])"
      ]
     },
     "execution_count": 65,
     "metadata": {},
     "output_type": "execute_result"
    }
   ],
   "source": [
    "# 불러오기 ndarray 형식\n",
    "np.loadtxt('out4.txt',delimiter='\\t')"
   ]
  },
  {
   "cell_type": "code",
   "execution_count": 66,
   "id": "b295d83b",
   "metadata": {},
   "outputs": [
    {
     "data": {
      "text/plain": [
       "array([[0.1   , 0.0575],\n",
       "       [0.0588, 0.05  ],\n",
       "       [0.0575, 0.0476],\n",
       "       [0.0476, 0.0471]])"
      ]
     },
     "execution_count": 66,
     "metadata": {},
     "output_type": "execute_result"
    }
   ],
   "source": [
    "np.loadtxt('out5.txt',dtype='float',delimiter='\\t')"
   ]
  }
 ],
 "metadata": {
  "kernelspec": {
   "display_name": "Python 3",
   "language": "python",
   "name": "python3"
  },
  "language_info": {
   "codemirror_mode": {
    "name": "ipython",
    "version": 3
   },
   "file_extension": ".py",
   "mimetype": "text/x-python",
   "name": "python",
   "nbconvert_exporter": "python",
   "pygments_lexer": "ipython3",
   "version": "3.8.8"
  }
 },
 "nbformat": 4,
 "nbformat_minor": 5
}
