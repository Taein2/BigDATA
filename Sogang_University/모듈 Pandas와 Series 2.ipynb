{
 "cells": [
  {
   "cell_type": "code",
   "execution_count": 1,
   "id": "dbfd6cb4",
   "metadata": {},
   "outputs": [
    {
     "data": {
      "text/plain": [
       "1     3.0\n",
       "3    10.0\n",
       "5     NaN\n",
       "dtype: float64"
      ]
     },
     "execution_count": 1,
     "metadata": {},
     "output_type": "execute_result"
    }
   ],
   "source": [
    "import pandas as pd, numpy as np\n",
    "a = pd.Series([3,10,np.nan], index = np.arange(1,6,2))\n",
    "a"
   ]
  },
  {
   "cell_type": "code",
   "execution_count": 2,
   "id": "3cd52675",
   "metadata": {},
   "outputs": [
    {
     "data": {
      "text/plain": [
       "True"
      ]
     },
     "execution_count": 2,
     "metadata": {},
     "output_type": "execute_result"
    }
   ],
   "source": [
    "1 in a"
   ]
  },
  {
   "cell_type": "code",
   "execution_count": 3,
   "id": "014ceb73",
   "metadata": {},
   "outputs": [
    {
     "data": {
      "text/plain": [
       "False"
      ]
     },
     "execution_count": 3,
     "metadata": {},
     "output_type": "execute_result"
    }
   ],
   "source": [
    "10.0 in a # False"
   ]
  },
  {
   "cell_type": "code",
   "execution_count": 5,
   "id": "e758b1d3",
   "metadata": {},
   "outputs": [
    {
     "data": {
      "text/plain": [
       "array([ 3., 10., nan])"
      ]
     },
     "execution_count": 5,
     "metadata": {},
     "output_type": "execute_result"
    }
   ],
   "source": [
    "a.values"
   ]
  },
  {
   "cell_type": "code",
   "execution_count": 6,
   "id": "28ee726a",
   "metadata": {},
   "outputs": [
    {
     "data": {
      "text/plain": [
       "True"
      ]
     },
     "execution_count": 6,
     "metadata": {},
     "output_type": "execute_result"
    }
   ],
   "source": [
    "10 in a.values # True "
   ]
  },
  {
   "cell_type": "code",
   "execution_count": 7,
   "id": "706d73bd",
   "metadata": {},
   "outputs": [
    {
     "data": {
      "text/plain": [
       "1    False\n",
       "3    False\n",
       "5     True\n",
       "dtype: bool"
      ]
     },
     "execution_count": 7,
     "metadata": {},
     "output_type": "execute_result"
    }
   ],
   "source": [
    "a.isnull()"
   ]
  },
  {
   "cell_type": "code",
   "execution_count": 8,
   "id": "3076036f",
   "metadata": {},
   "outputs": [
    {
     "data": {
      "text/plain": [
       "1     True\n",
       "3     True\n",
       "5    False\n",
       "dtype: bool"
      ]
     },
     "execution_count": 8,
     "metadata": {},
     "output_type": "execute_result"
    }
   ],
   "source": [
    "0 < a"
   ]
  },
  {
   "cell_type": "code",
   "execution_count": 9,
   "id": "139cf6a7",
   "metadata": {},
   "outputs": [
    {
     "data": {
      "text/plain": [
       "1     3.0\n",
       "3    10.0\n",
       "dtype: float64"
      ]
     },
     "execution_count": 9,
     "metadata": {},
     "output_type": "execute_result"
    }
   ],
   "source": [
    "a[0 < a] # Series가 출력됨"
   ]
  },
  {
   "cell_type": "code",
   "execution_count": 10,
   "id": "6aca4af4",
   "metadata": {},
   "outputs": [
    {
     "data": {
      "text/plain": [
       "1     3.0\n",
       "3    10.0\n",
       "dtype: float64"
      ]
     },
     "execution_count": 10,
     "metadata": {},
     "output_type": "execute_result"
    }
   ],
   "source": [
    "a[(0 < a ) | (a < 10)]  # 0보다 크거나 10보다 작은 값들의 Series가 출력됨"
   ]
  },
  {
   "cell_type": "code",
   "execution_count": 12,
   "id": "9c717a21",
   "metadata": {},
   "outputs": [
    {
     "data": {
      "text/plain": [
       "1    13.0\n",
       "3    20.0\n",
       "5     NaN\n",
       "dtype: float64"
      ]
     },
     "execution_count": 12,
     "metadata": {},
     "output_type": "execute_result"
    }
   ],
   "source": [
    "a + 10"
   ]
  },
  {
   "cell_type": "code",
   "execution_count": 13,
   "id": "d1e604be",
   "metadata": {},
   "outputs": [
    {
     "data": {
      "text/plain": [
       "1     4.0\n",
       "3    12.0\n",
       "5     NaN\n",
       "dtype: float64"
      ]
     },
     "execution_count": 13,
     "metadata": {},
     "output_type": "execute_result"
    }
   ],
   "source": [
    "a + [1,2,3]"
   ]
  },
  {
   "cell_type": "code",
   "execution_count": 14,
   "id": "18edbe54",
   "metadata": {},
   "outputs": [
    {
     "data": {
      "text/plain": [
       "1    14.0\n",
       "3    21.0\n",
       "5     NaN\n",
       "dtype: float64"
      ]
     },
     "execution_count": 14,
     "metadata": {},
     "output_type": "execute_result"
    }
   ],
   "source": [
    "a + [11]"
   ]
  },
  {
   "cell_type": "code",
   "execution_count": 15,
   "id": "4ac567f1",
   "metadata": {},
   "outputs": [
    {
     "data": {
      "text/plain": [
       "1     6.0\n",
       "3    20.0\n",
       "5     NaN\n",
       "dtype: float64"
      ]
     },
     "execution_count": 15,
     "metadata": {},
     "output_type": "execute_result"
    }
   ],
   "source": [
    "a + a"
   ]
  },
  {
   "cell_type": "markdown",
   "id": "421fc298",
   "metadata": {},
   "source": [
    "# 예제"
   ]
  },
  {
   "cell_type": "code",
   "execution_count": 16,
   "id": "4612b294",
   "metadata": {},
   "outputs": [
    {
     "data": {
      "text/plain": [
       "apples      20\n",
       "oranges     33\n",
       "cherries    52\n",
       "pears       10\n",
       "dtype: int64"
      ]
     },
     "execution_count": 16,
     "metadata": {},
     "output_type": "execute_result"
    }
   ],
   "source": [
    "fruits = ['apples','oranges','cherries','pears']\n",
    "S1 = pd.Series([20,33,52,10], index = fruits)\n",
    "S1"
   ]
  },
  {
   "cell_type": "code",
   "execution_count": 17,
   "id": "8ae5bfa2",
   "metadata": {},
   "outputs": [
    {
     "data": {
      "text/plain": [
       "apples      17\n",
       "cherries    13\n",
       "oranges     31\n",
       "pears       32\n",
       "dtype: int64"
      ]
     },
     "execution_count": 17,
     "metadata": {},
     "output_type": "execute_result"
    }
   ],
   "source": [
    "S2 = pd.Series([17,13,31,32], index = sorted(fruits))\n",
    "S2"
   ]
  },
  {
   "cell_type": "code",
   "execution_count": 19,
   "id": "d0154300",
   "metadata": {},
   "outputs": [
    {
     "data": {
      "text/plain": [
       "apples      37\n",
       "cherries    65\n",
       "oranges     64\n",
       "pears       42\n",
       "dtype: int64"
      ]
     },
     "execution_count": 19,
     "metadata": {},
     "output_type": "execute_result"
    }
   ],
   "source": [
    "S1 + S2 # 동일 원소끼리 연산 (Series의 장점)"
   ]
  },
  {
   "cell_type": "code",
   "execution_count": 20,
   "id": "a27d4223",
   "metadata": {},
   "outputs": [
    {
     "name": "stdout",
     "output_type": "stream",
     "text": [
      "합계:  208\n"
     ]
    }
   ],
   "source": [
    "print(\"합계: \", sum(S1) + sum(S2))"
   ]
  },
  {
   "cell_type": "code",
   "execution_count": 22,
   "id": "a3c41784",
   "metadata": {},
   "outputs": [
    {
     "data": {
      "text/plain": [
       "cherries       65.0\n",
       "oranges        64.0\n",
       "peaches         NaN\n",
       "pears          42.0\n",
       "raspberries     NaN\n",
       "dtype: float64"
      ]
     },
     "execution_count": 22,
     "metadata": {},
     "output_type": "execute_result"
    }
   ],
   "source": [
    "fruits = ['peaches','oranges','cherries','pears']\n",
    "fruits2 = ['raspberries','cherries','oranges','pears']\n",
    "S1 = pd.Series([20,33,52,10], index = fruits)\n",
    "S2 = pd.Series([17,13,31,32], index = fruits2)\n",
    "S1 + S2"
   ]
  },
  {
   "cell_type": "markdown",
   "id": "acd8203a",
   "metadata": {},
   "source": [
    "# 사전을 이용한 Series 생성"
   ]
  },
  {
   "cell_type": "code",
   "execution_count": 23,
   "id": "a2910013",
   "metadata": {},
   "outputs": [
    {
     "data": {
      "text/plain": [
       "Ohio      25000\n",
       "Texas     71000\n",
       "Oregon    16000\n",
       "Utah       5000\n",
       "dtype: int64"
      ]
     },
     "execution_count": 23,
     "metadata": {},
     "output_type": "execute_result"
    }
   ],
   "source": [
    "a = {'Ohio':25000, 'Texas':71000, 'Oregon':16000, 'Utah':5000}\n",
    "b = pd.Series(a)\n",
    "b"
   ]
  },
  {
   "cell_type": "code",
   "execution_count": 24,
   "id": "4b633d56",
   "metadata": {},
   "outputs": [
    {
     "data": {
      "text/plain": [
       "Ohio          25000.0\n",
       "California        NaN\n",
       "Texas         71000.0\n",
       "Oregon        16000.0\n",
       "dtype: float64"
      ]
     },
     "execution_count": 24,
     "metadata": {},
     "output_type": "execute_result"
    }
   ],
   "source": [
    "c = ['Ohio','California','Texas','Oregon']\n",
    "pd.Series(a,c) # a에 California는 없음"
   ]
  },
  {
   "cell_type": "markdown",
   "id": "b81bded0",
   "metadata": {},
   "source": [
    "# name"
   ]
  },
  {
   "cell_type": "code",
   "execution_count": 32,
   "id": "509403d3",
   "metadata": {},
   "outputs": [
    {
     "data": {
      "text/plain": [
       "'population'"
      ]
     },
     "execution_count": 32,
     "metadata": {},
     "output_type": "execute_result"
    }
   ],
   "source": [
    "b.name = 'population'\n",
    "b.name"
   ]
  },
  {
   "cell_type": "code",
   "execution_count": 35,
   "id": "70647631",
   "metadata": {},
   "outputs": [
    {
     "data": {
      "text/plain": [
       "state\n",
       "Ohio      25000\n",
       "Texas     71000\n",
       "Oregon    16000\n",
       "Utah       5000\n",
       "Name: population, dtype: int64"
      ]
     },
     "execution_count": 35,
     "metadata": {},
     "output_type": "execute_result"
    }
   ],
   "source": [
    "b.index.name = 'state'\n",
    "b"
   ]
  },
  {
   "cell_type": "code",
   "execution_count": 36,
   "id": "d3dc8b47",
   "metadata": {},
   "outputs": [
    {
     "data": {
      "text/plain": [
       "Index(['Ohio', 'Texas', 'Oregon', 'Utah'], dtype='object', name='state')"
      ]
     },
     "execution_count": 36,
     "metadata": {},
     "output_type": "execute_result"
    }
   ],
   "source": [
    "b.index"
   ]
  },
  {
   "cell_type": "code",
   "execution_count": 37,
   "id": "6b0a0d29",
   "metadata": {},
   "outputs": [
    {
     "data": {
      "text/plain": [
       "'state'"
      ]
     },
     "execution_count": 37,
     "metadata": {},
     "output_type": "execute_result"
    }
   ],
   "source": [
    "b.index.name"
   ]
  },
  {
   "cell_type": "markdown",
   "id": "62620509",
   "metadata": {},
   "source": [
    "# apply"
   ]
  },
  {
   "cell_type": "code",
   "execution_count": 38,
   "id": "106f5eb8",
   "metadata": {},
   "outputs": [
    {
     "data": {
      "text/plain": [
       "state\n",
       "Ohio      25000.0\n",
       "Texas     71000.0\n",
       "Oregon    16000.0\n",
       "Utah       5000.0\n",
       "Name: population, dtype: float64"
      ]
     },
     "execution_count": 38,
     "metadata": {},
     "output_type": "execute_result"
    }
   ],
   "source": [
    "b.apply(float)"
   ]
  },
  {
   "cell_type": "code",
   "execution_count": 39,
   "id": "125d5864",
   "metadata": {},
   "outputs": [
    {
     "data": {
      "text/plain": [
       "state\n",
       "Ohio      0.213675\n",
       "Texas     0.606838\n",
       "Oregon    0.136752\n",
       "Utah      0.042735\n",
       "Name: population, dtype: float64"
      ]
     },
     "execution_count": 39,
     "metadata": {},
     "output_type": "execute_result"
    }
   ],
   "source": [
    "b.apply(lambda x : x/b.sum()) # 상대빈도"
   ]
  },
  {
   "cell_type": "markdown",
   "id": "4024cfbd",
   "metadata": {},
   "source": [
    "# missing data: NaN"
   ]
  },
  {
   "cell_type": "code",
   "execution_count": 40,
   "id": "209068ae",
   "metadata": {},
   "outputs": [
    {
     "data": {
      "text/plain": [
       "Ohio          35000.0\n",
       "California        NaN\n",
       "Texas         71000.0\n",
       "Oregon        16000.0\n",
       "dtype: float64"
      ]
     },
     "execution_count": 40,
     "metadata": {},
     "output_type": "execute_result"
    }
   ],
   "source": [
    "a = {'Ohio':35000, 'Texas':71000,\n",
    "    'Oregon':16000, 'Utah':5000}\n",
    "c = ['Ohio','California','Texas','Oregon']\n",
    "d = pd.Series(a,c)\n",
    "d"
   ]
  },
  {
   "cell_type": "code",
   "execution_count": 41,
   "id": "75d36256",
   "metadata": {},
   "outputs": [
    {
     "data": {
      "text/plain": [
       "Ohio          False\n",
       "California     True\n",
       "Texas         False\n",
       "Oregon        False\n",
       "dtype: bool"
      ]
     },
     "execution_count": 41,
     "metadata": {},
     "output_type": "execute_result"
    }
   ],
   "source": [
    "pd.isnull(d) # d.isnull() 같음"
   ]
  },
  {
   "cell_type": "code",
   "execution_count": 43,
   "id": "3bb8c1d7",
   "metadata": {},
   "outputs": [
    {
     "data": {
      "text/plain": [
       "California   NaN\n",
       "dtype: float64"
      ]
     },
     "execution_count": 43,
     "metadata": {},
     "output_type": "execute_result"
    }
   ],
   "source": [
    "d[pd.isnull(d)] # nan 행만 출력 d[d.isnull()] 같음"
   ]
  },
  {
   "cell_type": "code",
   "execution_count": 45,
   "id": "ee626976",
   "metadata": {},
   "outputs": [
    {
     "data": {
      "text/plain": [
       "Ohio      35000.0\n",
       "Texas     71000.0\n",
       "Oregon    16000.0\n",
       "dtype: float64"
      ]
     },
     "execution_count": 45,
     "metadata": {},
     "output_type": "execute_result"
    }
   ],
   "source": [
    "d[d.notnull()] # null값이 아닌 행만"
   ]
  },
  {
   "cell_type": "code",
   "execution_count": 46,
   "id": "76c10fad",
   "metadata": {},
   "outputs": [
    {
     "data": {
      "text/plain": [
       "Ohio      35000.0\n",
       "Texas     71000.0\n",
       "Oregon    16000.0\n",
       "dtype: float64"
      ]
     },
     "execution_count": 46,
     "metadata": {},
     "output_type": "execute_result"
    }
   ],
   "source": [
    "d.dropna() # pd.Series.dropna(d) 와 같음 "
   ]
  },
  {
   "cell_type": "code",
   "execution_count": 48,
   "id": "2f5e8f9d",
   "metadata": {},
   "outputs": [
    {
     "data": {
      "text/plain": [
       "Ohio          35000.0\n",
       "California        0.0\n",
       "Texas         71000.0\n",
       "Oregon        16000.0\n",
       "dtype: float64"
      ]
     },
     "execution_count": 48,
     "metadata": {},
     "output_type": "execute_result"
    }
   ],
   "source": [
    "d.fillna(0) # nan을 0으로 채움"
   ]
  },
  {
   "cell_type": "markdown",
   "id": "27397a98",
   "metadata": {},
   "source": [
    "# 추가, 제거"
   ]
  },
  {
   "cell_type": "code",
   "execution_count": 49,
   "id": "7aa9f0e9",
   "metadata": {},
   "outputs": [
    {
     "data": {
      "text/plain": [
       "Ohio          35000.0\n",
       "California        NaN\n",
       "Texas         71000.0\n",
       "Oregon        16000.0\n",
       "dtype: float64"
      ]
     },
     "execution_count": 49,
     "metadata": {},
     "output_type": "execute_result"
    }
   ],
   "source": [
    "d"
   ]
  },
  {
   "cell_type": "code",
   "execution_count": 51,
   "id": "10166048",
   "metadata": {},
   "outputs": [
    {
     "data": {
      "text/plain": [
       "Ohio          35000.0\n",
       "California        0.0\n",
       "Texas         71000.0\n",
       "Oregon        16000.0\n",
       "dtype: float64"
      ]
     },
     "execution_count": 51,
     "metadata": {},
     "output_type": "execute_result"
    }
   ],
   "source": [
    "d[d.isnull()] = 0 # null에 0집어넣음\n",
    "d"
   ]
  },
  {
   "cell_type": "code",
   "execution_count": 52,
   "id": "72a44c94",
   "metadata": {},
   "outputs": [
    {
     "data": {
      "text/plain": [
       "Ohio          35000.0\n",
       "California        0.0\n",
       "Texas         71000.0\n",
       "Oregon        16000.0\n",
       "Arizona       10000.0\n",
       "dtype: float64"
      ]
     },
     "execution_count": 52,
     "metadata": {},
     "output_type": "execute_result"
    }
   ],
   "source": [
    "d.append(pd.Series({'Arizona':10000}))"
   ]
  },
  {
   "cell_type": "code",
   "execution_count": 53,
   "id": "c0a14456",
   "metadata": {},
   "outputs": [
    {
     "data": {
      "text/plain": [
       "California        0.0\n",
       "Texas         71000.0\n",
       "Oregon        16000.0\n",
       "dtype: float64"
      ]
     },
     "execution_count": 53,
     "metadata": {},
     "output_type": "execute_result"
    }
   ],
   "source": [
    "del d['Ohio']\n",
    "d"
   ]
  },
  {
   "cell_type": "markdown",
   "id": "0011c3ac",
   "metadata": {},
   "source": [
    "# 연습문제1\n",
    "## 1. 확장자 txt파일 모두 불러오기\n",
    "## 2. 텍스트를 소문자 변환 후 어휘 단위 분리\n",
    "## 3. 어휘 앞 그리고 뒤 문장부호 하나 이상 연쇄 제거\n",
    "## 4. 4개 파일의 the, a, an의 빈도와 합계 빈도를 오른쪽과 같은 Series로 만드시오."
   ]
  },
  {
   "cell_type": "code",
   "execution_count": 55,
   "id": "de56af47",
   "metadata": {},
   "outputs": [
    {
     "data": {
      "text/plain": [
       "the    18\n",
       "a       8\n",
       "an      3\n",
       "합계     29\n",
       "dtype: int64"
      ]
     },
     "execution_count": 55,
     "metadata": {},
     "output_type": "execute_result"
    }
   ],
   "source": [
    "import os, re\n",
    "import pandas as pd\n",
    "from collections import Counter\n",
    "a = ' '.join(open('./01_data/'+i).read().lower() for i in os.listdir('./01_data')\n",
    "            if i.endswith('.txt'))\n",
    "b = re.findall('\\\\b(the|a|an)\\\\b',a)\n",
    "c = pd.Series(dict(Counter(b).most_common()))\n",
    "c.append(pd.Series({'합계':c.sum()}))"
   ]
  }
 ],
 "metadata": {
  "kernelspec": {
   "display_name": "Python 3",
   "language": "python",
   "name": "python3"
  },
  "language_info": {
   "codemirror_mode": {
    "name": "ipython",
    "version": 3
   },
   "file_extension": ".py",
   "mimetype": "text/x-python",
   "name": "python",
   "nbconvert_exporter": "python",
   "pygments_lexer": "ipython3",
   "version": "3.8.8"
  }
 },
 "nbformat": 4,
 "nbformat_minor": 5
}
