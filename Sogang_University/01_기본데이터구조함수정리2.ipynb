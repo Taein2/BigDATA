{
 "cells": [
  {
   "cell_type": "code",
   "execution_count": 80,
   "id": "ed5b9235",
   "metadata": {},
   "outputs": [
    {
     "data": {
      "text/plain": [
       "' \\nl like\\t\\npro'"
      ]
     },
     "execution_count": 80,
     "metadata": {},
     "output_type": "execute_result"
    }
   ],
   "source": [
    "# a.upper()\n",
    "# a.lower()\n",
    "# a.capitalize() 문자열의 첫 단어만 upper\n",
    "# a.title()  문자열의 첫 단어들을 upper\n",
    "# a.count(), a.find('e'),a.find('e',3), a.find('e',3,6)\n",
    "# a.rfind('e') 오른쪽부터 검색\n",
    "# a.endswith('UK.') 해당 문자열로 끝나는지 확인\n",
    "# a.startswith('t') 해당 문자열로 시작하는지 확인\n",
    "# 'abc123'.isalnum() 숫자,문자로 구성되어있으면 True 아니면 False\n",
    "# 'abc123'.isalpha() 문자로만 구성되어있으면 True 아니면 False\n",
    "# '123'.isdigit() 숫자로만 구성되어있으면 True 아니면 False\n",
    "# 'abc'.islower() 소문자로만 구성되어있으면 True 아니면 False\n",
    "# 'ABC'.isupper() 대문자로만 구성되어있으면 True 아니면 False\n",
    "# 'Abc Def'.istitle() 제목문자열로 적합한지 단어의 처음알파벳들이 대문자 True 아니면 False\n",
    "# 'abc123%^&.'.isprintable() 시각적으로 볼 수 있는 문자(숫자,문자,문장부호)면 True 아니면 False\n",
    "# '\\t \\n'.isspace() 탭,스페이스,줄넘김으로 구성되면 True 아니면 False\n",
    "# a.strip() 구분자 없으면 공백 제거\n",
    "# a.rstrip() 오른쪽 공백 제거\n",
    "# a.lstrip() 왼쪽 공백 제거\n",
    "a = '\\t \\nl like\\t\\nprogramming.\\n\\n'\n",
    "a.strip('\\n.\\tgnimar') \n",
    "# a.replace('m','M') m을 M으로 치환\n",
    "# a.split() 공백문자 연쇄들을 없애고 공백문자를 기준으로 문자열을 리스트로 구성\n",
    "# a.split('\\n') \\n을 기준으로 분리\n",
    "# a.splitlines() 기본적으로 구분자는 '\\n'\n",
    "# a.splitlines(False) , a.splitlines(True) 와 같이 사용 True면 원소들의 맨 마지막에 \\n이 들어있음\n",
    "# a.partition('n') 출력 결과 튜플 : 구분자도 출력됨, 출력 원소값은 3개로 구성됨\n",
    "# ':'.join(a.split()) ex) I:like:programming"
   ]
  },
  {
   "cell_type": "markdown",
   "id": "d8f123c5",
   "metadata": {},
   "source": [
    "### 연습문제 1\n",
    "##### a = '\\nabc\\nabc\\nabc' 왼쪽의 변수 a를 이용하여 변수 b ['\\n','abc\\n','abc\\n'] 를 도출하기 위한 코드를 작성하시오."
   ]
  },
  {
   "cell_type": "code",
   "execution_count": 81,
   "id": "1070a8db",
   "metadata": {},
   "outputs": [
    {
     "data": {
      "text/plain": [
       "['\\n', 'abc\\n', 'abc\\n']"
      ]
     },
     "execution_count": 81,
     "metadata": {},
     "output_type": "execute_result"
    }
   ],
   "source": [
    "a = '\\nabc\\nabc\\nabc' \n",
    "b = a.strip('abc').splitlines(True) # 맨 뒤에 abc만 제거\n",
    "b"
   ]
  },
  {
   "cell_type": "markdown",
   "id": "46360b26",
   "metadata": {},
   "source": [
    "### 연습문제 2\n",
    "##### 다음 ? 칸에 들어갈 한 줄 코드는?"
   ]
  },
  {
   "cell_type": "code",
   "execution_count": 82,
   "id": "6e797db7",
   "metadata": {},
   "outputs": [],
   "source": [
    "# a = 'A:apple'\n",
    "# b = ?\n",
    "# b\n",
    "# 출력 결과 : 'A*:*apple'\n",
    "# 출력 결과2: ['A','Apple']"
   ]
  },
  {
   "cell_type": "code",
   "execution_count": 83,
   "id": "ac72e2fa",
   "metadata": {},
   "outputs": [
    {
     "data": {
      "text/plain": [
       "'A*:*apple'"
      ]
     },
     "execution_count": 83,
     "metadata": {},
     "output_type": "execute_result"
    }
   ],
   "source": [
    "# 연습문제 2-1 해설\n",
    "a = 'A:apple'\n",
    "# b = a.replace(':','*:*') 이렇게도 가능은함 하지만 교수님이 요구하신건 partition\n",
    "b = '*'.join(a.partition(':'))\n",
    "b"
   ]
  },
  {
   "cell_type": "code",
   "execution_count": 84,
   "id": "4f0fbb3f",
   "metadata": {},
   "outputs": [
    {
     "data": {
      "text/plain": [
       "['A', 'Apple']"
      ]
     },
     "execution_count": 84,
     "metadata": {},
     "output_type": "execute_result"
    }
   ],
   "source": [
    "# 연습문제 2-2 해설\n",
    "b = a.title().split(':')\n",
    "b"
   ]
  },
  {
   "cell_type": "code",
   "execution_count": 85,
   "id": "47997327",
   "metadata": {},
   "outputs": [],
   "source": [
    "# list method\n",
    "# a.append(3) 추가 \n",
    "# a.extend([4,5]) 추가는 동일하나 여러개의 object를 추가\n",
    "# a.remove(2) 삭제\n",
    "# a.insert(2,10) 2번 인덱스에 10 삽입\n",
    "# a.count(3) 리스트에 3의 갯수 출력\n",
    "# a.reverse() 리스트 원소 배열 정반대 출력\n",
    "# a.sort() 알파벳 오름차순 출력\n",
    "# a.sort(reverse = True) 내림차순 출력"
   ]
  },
  {
   "cell_type": "code",
   "execution_count": 86,
   "id": "73b48046",
   "metadata": {},
   "outputs": [
    {
     "name": "stdout",
     "output_type": "stream",
     "text": [
      "{'b': 1, 'a': 2}\n",
      "2\n",
      "3\n",
      "{'b': 1, 'a': 3, 'c': 3}\n",
      "dict_keys(['b', 'a', 'c'])\n",
      "dict_values([1, 3, 3])\n",
      "dict_items([('b', 1), ('a', 3), ('c', 3)])\n",
      "{'b': 4, 'a': 3, 'c': 3, 'd': 5}\n"
     ]
    }
   ],
   "source": [
    "# dic method\n",
    "a = {'b':1, 'a':2}\n",
    "print(a)\n",
    "print(a['a']) # a key의 값 출력\n",
    "a['a'] = 3 # a의 value값 3으로 변경\n",
    "print(a['a'])\n",
    "a['c'] = 3 # a에 key c, value 3 삽입 \n",
    "print(a)\n",
    "print(a.keys()) # key 출력\n",
    "print(a.values()) # value 출력\n",
    "print(a.items()) # key와 value의 쌍\n",
    "a.update({'b':4,'d':5}) # key가 존재하면 value 변경 없으면 추가삽입\n",
    "print(a)"
   ]
  },
  {
   "cell_type": "code",
   "execution_count": 87,
   "id": "514d0f86",
   "metadata": {},
   "outputs": [
    {
     "name": "stdout",
     "output_type": "stream",
     "text": [
      "{'bc', 'ab'}\n",
      "{1, 'bc', 'ab'}\n",
      "{1, 2, 3, 'ab', 'bc'}\n",
      "{1, 2, 'ab', 'bc'}\n",
      "----------------------\n",
      "{1, 2, 3, 4}\n",
      "{1, 2, 3, 4}\n",
      "{2, 3}\n",
      "{2, 3}\n",
      "{1}\n",
      "{1}\n",
      "{1, 4}\n",
      "{1, 4}\n",
      "----------------------\n",
      "{1, 2, 3, 4}\n",
      "{2, 3, 4}\n",
      "{1}\n",
      "{1, 4}\n"
     ]
    }
   ],
   "source": [
    "# set method\n",
    "a = {'ab','bc','bc'} # 중복되면 하나만 출력\n",
    "print(a)\n",
    "a.add(1) # set의 경우 순서가 없으나 대체적으로 오름차순\n",
    "print(a)\n",
    "a.update([2,3])\n",
    "print(a)\n",
    "a.discard(3) # 삭제\n",
    "print(a)\n",
    "print('----------------------')\n",
    "a = {1,2,3}; b = {2,3,4}\n",
    "print(a.union(b)) # 합집합\n",
    "print(a | b)# 합집합\n",
    "print(a.intersection(b)) # 교집합\n",
    "print(a & b) # 교집합\n",
    "print(a.difference(b)) # 차집합 ex)a에 포함되지 않은 b\n",
    "print(a-b) # 차집합\n",
    "print(a.symmetric_difference(b)) # 대칭차집합\n",
    "print(a^b)\n",
    "print('----------------------')\n",
    "a.update(b) # a에 b 합쳐서 합집합 표현\n",
    "print(a)\n",
    "a.intersection_update(b) # 현재 a = {1,2,3,4} b = {2,3,4}\n",
    "print(a)\n",
    "a = {1,2,3}; b = {2,3,4}\n",
    "a.difference_update(b) # a -= b\n",
    "print(a)\n",
    "a = {1,2,3}; b = {2,3,4}\n",
    "a.symmetric_difference_update(b) # a ^= b\n",
    "print(a)"
   ]
  },
  {
   "cell_type": "markdown",
   "id": "4bff5ecd",
   "metadata": {},
   "source": [
    "### 연습문제 3\n",
    "##### a = \"I am not good in programming.\"\n",
    "##### b = ?\n",
    "##### b\n",
    "##### 출력 결과  : ['l',' ','a','m', ... ,'i','n','g','.']\n",
    "##### 출력 결과2: ['.',' ','m','i','p','o','n','d','r','g','t','l','a'] \n",
    "##### 출력 결과3: {'I':1,' ':5, 'a':2 ,...,'r':2,'.':1}\n",
    "##### 출력 결과4: [('l',1), (' ',5), .... ('.',1)]"
   ]
  },
  {
   "cell_type": "code",
   "execution_count": 88,
   "id": "5c4d0ae7",
   "metadata": {},
   "outputs": [
    {
     "data": {
      "text/plain": [
       "['I',\n",
       " ' ',\n",
       " 'a',\n",
       " 'm',\n",
       " ' ',\n",
       " 'n',\n",
       " 'o',\n",
       " 't',\n",
       " ' ',\n",
       " 'g',\n",
       " 'o',\n",
       " 'o',\n",
       " 'd',\n",
       " ' ',\n",
       " 'i',\n",
       " 'n',\n",
       " ' ',\n",
       " 'p',\n",
       " 'r',\n",
       " 'o',\n",
       " 'g',\n",
       " 'r',\n",
       " 'a',\n",
       " 'm',\n",
       " 'm',\n",
       " 'i',\n",
       " 'n',\n",
       " 'g']"
      ]
     },
     "execution_count": 88,
     "metadata": {},
     "output_type": "execute_result"
    }
   ],
   "source": [
    "a = \"I am not good in programming\"\n",
    "b = list(a)\n",
    "b"
   ]
  },
  {
   "cell_type": "code",
   "execution_count": 89,
   "id": "83015b7d",
   "metadata": {},
   "outputs": [
    {
     "data": {
      "text/plain": [
       "['I', ' ', 't', 'a', 'o', 'd', 'p', 'g', 'r', 'i', 'n', 'm']"
      ]
     },
     "execution_count": 89,
     "metadata": {},
     "output_type": "execute_result"
    }
   ],
   "source": [
    "b = list(set(a))\n",
    "b"
   ]
  },
  {
   "cell_type": "code",
   "execution_count": 90,
   "id": "0d560f69",
   "metadata": {},
   "outputs": [
    {
     "data": {
      "text/plain": [
       "{'I': 1,\n",
       " ' ': 5,\n",
       " 'a': 2,\n",
       " 'm': 3,\n",
       " 'n': 3,\n",
       " 'o': 4,\n",
       " 't': 1,\n",
       " 'g': 3,\n",
       " 'd': 1,\n",
       " 'i': 2,\n",
       " 'p': 1,\n",
       " 'r': 2}"
      ]
     },
     "execution_count": 90,
     "metadata": {},
     "output_type": "execute_result"
    }
   ],
   "source": [
    "b = {}\n",
    "\n",
    "for word in a:\n",
    "    b[word]= a.count(word)\n",
    "b"
   ]
  },
  {
   "cell_type": "code",
   "execution_count": 91,
   "id": "e37e0a0d",
   "metadata": {},
   "outputs": [
    {
     "data": {
      "text/plain": [
       "[('I', 1),\n",
       " (' ', 5),\n",
       " ('a', 2),\n",
       " ('m', 3),\n",
       " ('n', 3),\n",
       " ('o', 4),\n",
       " ('t', 1),\n",
       " ('g', 3),\n",
       " ('d', 1),\n",
       " ('i', 2),\n",
       " ('p', 1),\n",
       " ('r', 2)]"
      ]
     },
     "execution_count": 91,
     "metadata": {},
     "output_type": "execute_result"
    }
   ],
   "source": [
    "c = list(b.items())\n",
    "c"
   ]
  }
 ],
 "metadata": {
  "kernelspec": {
   "display_name": "Python 3",
   "language": "python",
   "name": "python3"
  },
  "language_info": {
   "codemirror_mode": {
    "name": "ipython",
    "version": 3
   },
   "file_extension": ".py",
   "mimetype": "text/x-python",
   "name": "python",
   "nbconvert_exporter": "python",
   "pygments_lexer": "ipython3",
   "version": "3.8.8"
  }
 },
 "nbformat": 4,
 "nbformat_minor": 5
}
