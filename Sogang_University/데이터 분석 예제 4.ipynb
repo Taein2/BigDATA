{
 "cells": [
  {
   "cell_type": "markdown",
   "id": "8cfd788d",
   "metadata": {},
   "source": [
    "## 연습문제 1\n",
    "- AmericaFreedom.txt 파일을 데이터프레임 Address로 불러오시오."
   ]
  },
  {
   "cell_type": "code",
   "execution_count": 2,
   "id": "bc2ff9c9",
   "metadata": {},
   "outputs": [],
   "source": [
    "import pandas as pd\n",
    "Address = pd.read_csv('AmericaFreedom.txt', sep ='\\t', index_col = 0)"
   ]
  },
  {
   "cell_type": "markdown",
   "id": "189ea699",
   "metadata": {},
   "source": [
    "## 기술 통계"
   ]
  },
  {
   "cell_type": "code",
   "execution_count": 3,
   "id": "463aedc7",
   "metadata": {},
   "outputs": [
    {
     "data": {
      "text/html": [
       "<div>\n",
       "<style scoped>\n",
       "    .dataframe tbody tr th:only-of-type {\n",
       "        vertical-align: middle;\n",
       "    }\n",
       "\n",
       "    .dataframe tbody tr th {\n",
       "        vertical-align: top;\n",
       "    }\n",
       "\n",
       "    .dataframe thead th {\n",
       "        text-align: right;\n",
       "    }\n",
       "</style>\n",
       "<table border=\"1\" class=\"dataframe\">\n",
       "  <thead>\n",
       "    <tr style=\"text-align: right;\">\n",
       "      <th></th>\n",
       "      <th>America</th>\n",
       "      <th>Freedom</th>\n",
       "    </tr>\n",
       "  </thead>\n",
       "  <tbody>\n",
       "    <tr>\n",
       "      <th>count</th>\n",
       "      <td>58.000000</td>\n",
       "      <td>58.000000</td>\n",
       "    </tr>\n",
       "    <tr>\n",
       "      <th>mean</th>\n",
       "      <td>0.001025</td>\n",
       "      <td>0.000965</td>\n",
       "    </tr>\n",
       "    <tr>\n",
       "      <th>std</th>\n",
       "      <td>0.001525</td>\n",
       "      <td>0.001240</td>\n",
       "    </tr>\n",
       "    <tr>\n",
       "      <th>min</th>\n",
       "      <td>0.000000</td>\n",
       "      <td>0.000000</td>\n",
       "    </tr>\n",
       "    <tr>\n",
       "      <th>25%</th>\n",
       "      <td>0.000000</td>\n",
       "      <td>0.000000</td>\n",
       "    </tr>\n",
       "    <tr>\n",
       "      <th>50%</th>\n",
       "      <td>0.000000</td>\n",
       "      <td>0.000553</td>\n",
       "    </tr>\n",
       "    <tr>\n",
       "      <th>75%</th>\n",
       "      <td>0.001845</td>\n",
       "      <td>0.001454</td>\n",
       "    </tr>\n",
       "    <tr>\n",
       "      <th>max</th>\n",
       "      <td>0.006181</td>\n",
       "      <td>0.005350</td>\n",
       "    </tr>\n",
       "  </tbody>\n",
       "</table>\n",
       "</div>"
      ],
      "text/plain": [
       "         America    Freedom\n",
       "count  58.000000  58.000000\n",
       "mean    0.001025   0.000965\n",
       "std     0.001525   0.001240\n",
       "min     0.000000   0.000000\n",
       "25%     0.000000   0.000000\n",
       "50%     0.000000   0.000553\n",
       "75%     0.001845   0.001454\n",
       "max     0.006181   0.005350"
      ]
     },
     "execution_count": 3,
     "metadata": {},
     "output_type": "execute_result"
    }
   ],
   "source": [
    "Address.describe()"
   ]
  },
  {
   "cell_type": "code",
   "execution_count": 4,
   "id": "c208d028",
   "metadata": {},
   "outputs": [
    {
     "data": {
      "text/plain": [
       "<AxesSubplot:>"
      ]
     },
     "execution_count": 4,
     "metadata": {},
     "output_type": "execute_result"
    },
    {
     "data": {
      "image/png": "[encoded data removed]",
      "text/plain": [
       "<Figure size 432x288 with 1 Axes>"
      ]
     },
     "metadata": {
      "needs_background": "light"
     },
     "output_type": "display_data"
    }
   ],
   "source": [
    "%matplotlib inline\n",
    "import matplotlib.pyplot as plt\n",
    "Address.boxplot()"
   ]
  },
  {
   "cell_type": "markdown",
   "id": "c6e51490",
   "metadata": {},
   "source": [
    "# 추론 통계 : 가설 검정\n",
    "- 영가설(null hypothesis)<br>\n",
    "1) Ho로 표시, 귀무가설이라고 함<br>\n",
    "2) 표본1과 표본2의 차이가 없을 것이라는 가설,<br>\n",
    "    즉 Ho : 표본1 = 표본2<br>\n",
    "- 대립가설(alternative hypothesis)<br>\n",
    "1) H1으로 표시, 연구가설이라고도 함<br>\n",
    "2) 포본1과 표본2의 차이가 있을 것이라는 가설,<br>\n",
    "    즉 H1 : 표본1 != 표본2<br>\n",
    "- 유의도 수준<br>\n",
    "1) p-value<br>\n",
    "2) 0.05, 0.01, 0.001 학문영역에 따라 다름..<br>\n",
    "<br>\n",
    "- 결론\n",
    "- 학문에서 0.05 의 학문분야에서 0.05와 같거나 크면 영가설을 주장 <br>\n",
    "- 0.05보다 작으면 대립가설을 주장"
   ]
  },
  {
   "cell_type": "markdown",
   "id": "4fa69b22",
   "metadata": {},
   "source": [
    "## 두 표본 : 평균 / 중앙값 비교\n",
    "- 평균비교\n",
    "1. 정규성 검정(정규분포)\n",
    "2. 등분산 검정\n",
    "3. two sample t-test(등분산/이분산)\n",
    "--------------------------------\n",
    "- 중앙값 비교\n",
    "1. 정규성 검정(비정규분포)\n",
    "2. two sample Wilcoxon rank sum test"
   ]
  },
  {
   "cell_type": "markdown",
   "id": "047c0c9d",
   "metadata": {},
   "source": [
    "## 정규성 검정"
   ]
  },
  {
   "cell_type": "code",
   "execution_count": 13,
   "id": "d81da633",
   "metadata": {},
   "outputs": [
    {
     "data": {
      "text/html": [
       "<div>\n",
       "<style scoped>\n",
       "    .dataframe tbody tr th:only-of-type {\n",
       "        vertical-align: middle;\n",
       "    }\n",
       "\n",
       "    .dataframe tbody tr th {\n",
       "        vertical-align: top;\n",
       "    }\n",
       "\n",
       "    .dataframe thead th {\n",
       "        text-align: right;\n",
       "    }\n",
       "</style>\n",
       "<table border=\"1\" class=\"dataframe\">\n",
       "  <thead>\n",
       "    <tr style=\"text-align: right;\">\n",
       "      <th></th>\n",
       "      <th>0</th>\n",
       "      <th>1</th>\n",
       "    </tr>\n",
       "  </thead>\n",
       "  <tbody>\n",
       "    <tr>\n",
       "      <th>America</th>\n",
       "      <td>0.721343</td>\n",
       "      <td>3.554773e-09</td>\n",
       "    </tr>\n",
       "    <tr>\n",
       "      <th>Freedom</th>\n",
       "      <td>0.785276</td>\n",
       "      <td>8.584406e-08</td>\n",
       "    </tr>\n",
       "  </tbody>\n",
       "</table>\n",
       "</div>"
      ],
      "text/plain": [
       "                0             1\n",
       "America  0.721343  3.554773e-09\n",
       "Freedom  0.785276  8.584406e-08"
      ]
     },
     "execution_count": 13,
     "metadata": {},
     "output_type": "execute_result"
    }
   ],
   "source": [
    "from scipy import stats\n",
    "Address.apply(stats.shapiro).T"
   ]
  },
  {
   "cell_type": "markdown",
   "id": "de199223",
   "metadata": {},
   "source": [
    "0 : W  ,         1 :  p-value\n",
    "- p-value < 0.05 : 비정규분포\n",
    "- p-value >= 0.05 : 정규분포"
   ]
  },
  {
   "cell_type": "markdown",
   "id": "1ccfcf8b",
   "metadata": {},
   "source": [
    "## two_sample t-test : 평균 비교 ( 정규 분포)\n",
    "- 비정규분포가 맞지만 일단은 정규분포 실습을 위해 실행"
   ]
  },
  {
   "cell_type": "code",
   "execution_count": 14,
   "id": "1cefd661",
   "metadata": {},
   "outputs": [
    {
     "data": {
      "text/plain": [
       "LeveneResult(statistic=0.30562499438905616, pvalue=0.5814597818540479)"
      ]
     },
     "execution_count": 14,
     "metadata": {},
     "output_type": "execute_result"
    }
   ],
   "source": [
    "stats.levene(Address.America, Address.Freedom)"
   ]
  },
  {
   "cell_type": "markdown",
   "id": "1b9c8624",
   "metadata": {},
   "source": [
    "등분산 검정\n",
    "- p-value < 0.05 : 이분산\n",
    "- p-value >= 0.05 : 등분산\n",
    "\n",
    "여기서는 등분산임을 확인"
   ]
  },
  {
   "cell_type": "code",
   "execution_count": 15,
   "id": "5d7a1ef3",
   "metadata": {},
   "outputs": [
    {
     "data": {
      "text/plain": [
       "Ttest_indResult(statistic=0.23240740886954162, pvalue=0.8166383124417862)"
      ]
     },
     "execution_count": 15,
     "metadata": {},
     "output_type": "execute_result"
    }
   ],
   "source": [
    "stats.ttest_ind(Address.America, Address.Freedom) # 등분산"
   ]
  },
  {
   "cell_type": "code",
   "execution_count": 16,
   "id": "49ff1e6f",
   "metadata": {},
   "outputs": [
    {
     "data": {
      "text/plain": [
       "Ttest_indResult(statistic=0.23240740886954162, pvalue=0.8166556095214181)"
      ]
     },
     "execution_count": 16,
     "metadata": {},
     "output_type": "execute_result"
    }
   ],
   "source": [
    "stats.ttest_ind(Address.America, Address.Freedom, equal_var=False) # 이분산"
   ]
  },
  {
   "cell_type": "markdown",
   "id": "aafd26cb",
   "metadata": {},
   "source": [
    "- p-value < 0.05 : 대립가설\n",
    "- p-value >= 0.05 : 영가설\n",
    "\n",
    "영가설을 주장"
   ]
  },
  {
   "cell_type": "markdown",
   "id": "a963ba11",
   "metadata": {},
   "source": [
    "## two-sample Wilcoxon rank sum test: 중앙값 비교 (비정규 분포) "
   ]
  },
  {
   "cell_type": "code",
   "execution_count": 17,
   "id": "857e46d9",
   "metadata": {},
   "outputs": [
    {
     "data": {
      "text/plain": [
       "RanksumsResult(statistic=-0.657077596648461, pvalue=0.5111310233540058)"
      ]
     },
     "execution_count": 17,
     "metadata": {},
     "output_type": "execute_result"
    }
   ],
   "source": [
    "stats.ranksums(Address.America, Address.Freedom)"
   ]
  },
  {
   "cell_type": "markdown",
   "id": "90315391",
   "metadata": {},
   "source": [
    "- p-value < 0.05 : 대립가설\n",
    "- p-value >= 0.05 : 영가설\n",
    "\n",
    "영가설 주장\n",
    "결론 america와 freedom 단어의 중앙값 차이는 없다"
   ]
  },
  {
   "cell_type": "markdown",
   "id": "a6976443",
   "metadata": {},
   "source": [
    "## 20세기 이후 : America vs Freedom"
   ]
  },
  {
   "cell_type": "markdown",
   "id": "6364df24",
   "metadata": {},
   "source": [
    "- 비정규분포가 된 이유는 freedom과 america의 추세도를 보니, 1900년도 이전에 사용이 잘 안됨\n",
    "\n",
    "- 이 특성들을 이용하여 1900 <= 1 <= 1950 \n",
    "- 2차세계대전\n",
    "- 1950 <= 2\n",
    "- 단계로 실행 해보는건 어떤가 ? "
   ]
  },
  {
   "cell_type": "markdown",
   "id": "5593e2e6",
   "metadata": {},
   "source": [
    "## 연습문제 2\n",
    "- Address_20C 만들기\n",
    "1. 행 인덱스 >= 1900 추출\n",
    "2. Period 컬럼 삽입\n",
    "3. 1950 > 행인덱스 >= 1900 : I\n",
    "4. 행인덱스 >= 1950 : II"
   ]
  },
  {
   "cell_type": "code",
   "execution_count": 20,
   "id": "dbf75c79",
   "metadata": {},
   "outputs": [
    {
     "data": {
      "text/html": [
       "<div>\n",
       "<style scoped>\n",
       "    .dataframe tbody tr th:only-of-type {\n",
       "        vertical-align: middle;\n",
       "    }\n",
       "\n",
       "    .dataframe tbody tr th {\n",
       "        vertical-align: top;\n",
       "    }\n",
       "\n",
       "    .dataframe thead th {\n",
       "        text-align: right;\n",
       "    }\n",
       "</style>\n",
       "<table border=\"1\" class=\"dataframe\">\n",
       "  <thead>\n",
       "    <tr style=\"text-align: right;\">\n",
       "      <th></th>\n",
       "      <th>America</th>\n",
       "      <th>Freedom</th>\n",
       "    </tr>\n",
       "  </thead>\n",
       "  <tbody>\n",
       "    <tr>\n",
       "      <th>1789</th>\n",
       "      <td>0.000000</td>\n",
       "      <td>0.000000</td>\n",
       "    </tr>\n",
       "    <tr>\n",
       "      <th>1793</th>\n",
       "      <td>0.000000</td>\n",
       "      <td>0.000000</td>\n",
       "    </tr>\n",
       "    <tr>\n",
       "      <th>1797</th>\n",
       "      <td>0.001726</td>\n",
       "      <td>0.000000</td>\n",
       "    </tr>\n",
       "    <tr>\n",
       "      <th>1801</th>\n",
       "      <td>0.000000</td>\n",
       "      <td>0.002317</td>\n",
       "    </tr>\n",
       "    <tr>\n",
       "      <th>1805</th>\n",
       "      <td>0.000000</td>\n",
       "      <td>0.000923</td>\n",
       "    </tr>\n",
       "  </tbody>\n",
       "</table>\n",
       "</div>"
      ],
      "text/plain": [
       "       America   Freedom\n",
       "1789  0.000000  0.000000\n",
       "1793  0.000000  0.000000\n",
       "1797  0.001726  0.000000\n",
       "1801  0.000000  0.002317\n",
       "1805  0.000000  0.000923"
      ]
     },
     "execution_count": 20,
     "metadata": {},
     "output_type": "execute_result"
    }
   ],
   "source": [
    "Address.head()"
   ]
  },
  {
   "cell_type": "code",
   "execution_count": 32,
   "id": "7531ef78",
   "metadata": {},
   "outputs": [],
   "source": [
    "Address_20C = pd.concat(\n",
    "    [Address.loc[Address.index >= 1900],\n",
    "     pd.DataFrame({'Period':\n",
    "                   ['I' if i < 1950 else 'II'\n",
    "                  for i in Address.index[Address.index >= 1900]]},\n",
    "                 index = Address.index[Address.index >= 1900])], axis = 1)"
   ]
  },
  {
   "cell_type": "code",
   "execution_count": 33,
   "id": "a0164bae",
   "metadata": {},
   "outputs": [
    {
     "data": {
      "text/plain": [
       "(30, 3)"
      ]
     },
     "execution_count": 33,
     "metadata": {},
     "output_type": "execute_result"
    }
   ],
   "source": [
    "Address_20C.shape"
   ]
  },
  {
   "cell_type": "code",
   "execution_count": 34,
   "id": "c49e7de3",
   "metadata": {},
   "outputs": [
    {
     "data": {
      "text/html": [
       "<div>\n",
       "<style scoped>\n",
       "    .dataframe tbody tr th:only-of-type {\n",
       "        vertical-align: middle;\n",
       "    }\n",
       "\n",
       "    .dataframe tbody tr th {\n",
       "        vertical-align: top;\n",
       "    }\n",
       "\n",
       "    .dataframe thead th {\n",
       "        text-align: right;\n",
       "    }\n",
       "</style>\n",
       "<table border=\"1\" class=\"dataframe\">\n",
       "  <thead>\n",
       "    <tr style=\"text-align: right;\">\n",
       "      <th></th>\n",
       "      <th>America</th>\n",
       "      <th>Freedom</th>\n",
       "      <th>Period</th>\n",
       "    </tr>\n",
       "  </thead>\n",
       "  <tbody>\n",
       "    <tr>\n",
       "      <th>1901</th>\n",
       "      <td>0.000000</td>\n",
       "      <td>0.001808</td>\n",
       "      <td>I</td>\n",
       "    </tr>\n",
       "    <tr>\n",
       "      <th>1905</th>\n",
       "      <td>0.000000</td>\n",
       "      <td>0.000000</td>\n",
       "      <td>I</td>\n",
       "    </tr>\n",
       "    <tr>\n",
       "      <th>1909</th>\n",
       "      <td>0.000553</td>\n",
       "      <td>0.000184</td>\n",
       "      <td>I</td>\n",
       "    </tr>\n",
       "    <tr>\n",
       "      <th>1913</th>\n",
       "      <td>0.000000</td>\n",
       "      <td>0.000000</td>\n",
       "      <td>I</td>\n",
       "    </tr>\n",
       "    <tr>\n",
       "      <th>1917</th>\n",
       "      <td>0.001308</td>\n",
       "      <td>0.001308</td>\n",
       "      <td>I</td>\n",
       "    </tr>\n",
       "  </tbody>\n",
       "</table>\n",
       "</div>"
      ],
      "text/plain": [
       "       America   Freedom Period\n",
       "1901  0.000000  0.001808      I\n",
       "1905  0.000000  0.000000      I\n",
       "1909  0.000553  0.000184      I\n",
       "1913  0.000000  0.000000      I\n",
       "1917  0.001308  0.001308      I"
      ]
     },
     "execution_count": 34,
     "metadata": {},
     "output_type": "execute_result"
    }
   ],
   "source": [
    "Address_20C.head()"
   ]
  },
  {
   "cell_type": "markdown",
   "id": "3b4b273e",
   "metadata": {},
   "source": [
    "## 20세기 이후 : box plot"
   ]
  },
  {
   "cell_type": "code",
   "execution_count": 35,
   "id": "d33602f7",
   "metadata": {},
   "outputs": [
    {
     "data": {
      "text/plain": [
       "I          AxesSubplot(0.1,0.15;0.363636x0.75)\n",
       "II    AxesSubplot(0.536364,0.15;0.363636x0.75)\n",
       "dtype: object"
      ]
     },
     "execution_count": 35,
     "metadata": {},
     "output_type": "execute_result"
    },
    {
     "data": {
      "image/png": "[encoded data removed]",
      "text/plain": [
       "<Figure size 432x288 with 2 Axes>"
      ]
     },
     "metadata": {
      "needs_background": "light"
     },
     "output_type": "display_data"
    }
   ],
   "source": [
    "Address_20C.groupby(['Period']).boxplot()"
   ]
  },
  {
   "cell_type": "markdown",
   "id": "cf06d67c",
   "metadata": {},
   "source": [
    "- I\n",
    "1. America보다 Freedom이 많이 사용됨\n",
    "2. America가 0인 값도 있음 Freedom도 0이 있지만 America는 50%가 언급되지 않음\n",
    "\n",
    "- II\n",
    "1. Freedom이 최솟값이 있긴하지만 많지는 않음.\n",
    "2. 4개의 박스 플롯을 볼 경우 정규분포일 경우는 약하다.  \n",
    "3. 정규성에 가까운 모습으로 차츰 보인다.."
   ]
  },
  {
   "cell_type": "markdown",
   "id": "ecafa6b4",
   "metadata": {},
   "source": [
    "## 20C 이후 : America"
   ]
  },
  {
   "cell_type": "code",
   "execution_count": 36,
   "id": "b57cc2eb",
   "metadata": {},
   "outputs": [
    {
     "data": {
      "text/plain": [
       "Period\n",
       "I     (0.7653388381004333, 0.0027188253588974476)\n",
       "II       (0.8532366752624512, 0.0120198093354702)\n",
       "dtype: object"
      ]
     },
     "execution_count": 36,
     "metadata": {},
     "output_type": "execute_result"
    }
   ],
   "source": [
    "Address_20C[['America','Period']].groupby(['Period']).apply(stats.shapiro)"
   ]
  },
  {
   "cell_type": "code",
   "execution_count": 37,
   "id": "d189bb6c",
   "metadata": {},
   "outputs": [
    {
     "data": {
      "text/plain": [
       "RanksumsResult(statistic=-3.243510750860898, pvalue=0.0011806635490339812)"
      ]
     },
     "execution_count": 37,
     "metadata": {},
     "output_type": "execute_result"
    }
   ],
   "source": [
    "stats.ranksums(Address_20C.America[Address_20C.Period == 'I'],\n",
    "              Address_20C.America[Address_20C.Period =='II'])"
   ]
  },
  {
   "cell_type": "markdown",
   "id": "bcecf786",
   "metadata": {},
   "source": [
    "- 결론 : pvalue 가 0.001이므로 0.05보다 작기 때문에 1950년 이전과 이후의 언급량의 차이가 유의미하게 있다."
   ]
  },
  {
   "cell_type": "markdown",
   "id": "67ec89c6",
   "metadata": {},
   "source": [
    "## 연습문제 3\n",
    "- Address_20C의 컬럼 Freedom과 Period의 적절한 평균 / 중앙값 비교 제시"
   ]
  },
  {
   "cell_type": "code",
   "execution_count": 38,
   "id": "2cdee2f9",
   "metadata": {},
   "outputs": [
    {
     "data": {
      "text/plain": [
       "Period\n",
       "I     (0.8378307223320007, 0.01988895982503891)\n",
       "II     (0.910194456577301, 0.10079719871282578)\n",
       "dtype: object"
      ]
     },
     "execution_count": 38,
     "metadata": {},
     "output_type": "execute_result"
    }
   ],
   "source": [
    "Address_20C[['Freedom','Period']].groupby(['Period']).apply(stats.shapiro)"
   ]
  },
  {
   "cell_type": "markdown",
   "id": "3282439a",
   "metadata": {},
   "source": [
    "- 학문분야에 따라 하나만 정규분포인 경우에 관례적으로 적용하는 학문 분야도 존재하디.\n",
    "- 두가지 다 해보자.."
   ]
  },
  {
   "cell_type": "code",
   "execution_count": 40,
   "id": "278075a5",
   "metadata": {},
   "outputs": [
    {
     "data": {
      "text/plain": [
       "LeveneResult(statistic=0.009866220468386437, pvalue=0.9215849183424364)"
      ]
     },
     "execution_count": 40,
     "metadata": {},
     "output_type": "execute_result"
    }
   ],
   "source": [
    "stats.levene(Address_20C.Freedom[Address_20C.Period=='I'],\n",
    "            Address_20C.Freedom[Address_20C.Period=='II'])"
   ]
  },
  {
   "cell_type": "markdown",
   "id": "3afda05c",
   "metadata": {},
   "source": [
    "- p-value가 0.92이기에 등분산 two_sample t-test 적용"
   ]
  },
  {
   "cell_type": "markdown",
   "id": "afbf96ea",
   "metadata": {},
   "source": [
    "## 등분산 two_sample t-test"
   ]
  },
  {
   "cell_type": "code",
   "execution_count": 43,
   "id": "ad040bc4",
   "metadata": {},
   "outputs": [
    {
     "data": {
      "text/plain": [
       "Ttest_indResult(statistic=-0.768625317648794, pvalue=0.44855067730153275)"
      ]
     },
     "execution_count": 43,
     "metadata": {},
     "output_type": "execute_result"
    }
   ],
   "source": [
    "stats.ttest_ind(Address_20C.Freedom[Address_20C.Period=='I'],\n",
    "               Address_20C.Freedom[Address_20C.Period=='II'],\n",
    "               equal_var=True) "
   ]
  },
  {
   "cell_type": "markdown",
   "id": "c2c63957",
   "metadata": {},
   "source": [
    "- Freedom은 period I 과 II의 평균차이가 없다. 즉 같다."
   ]
  },
  {
   "cell_type": "markdown",
   "id": "aeab0c37",
   "metadata": {},
   "source": [
    "## two-sample Wilcoxon rank sum test"
   ]
  },
  {
   "cell_type": "code",
   "execution_count": 44,
   "id": "db43a3ba",
   "metadata": {},
   "outputs": [
    {
     "data": {
      "text/plain": [
       "RanksumsResult(statistic=-0.9625902873522665, pvalue=0.33575317363085)"
      ]
     },
     "execution_count": 44,
     "metadata": {},
     "output_type": "execute_result"
    }
   ],
   "source": [
    "stats.ranksums(Address_20C.Freedom[Address_20C.Period=='I'],\n",
    "              Address_20C.Freedom[Address_20C.Period=='II'])"
   ]
  },
  {
   "cell_type": "markdown",
   "id": "f1acb78b",
   "metadata": {},
   "source": [
    "- Freedom은 period I 과 II의 평균차이가 없다. 즉 같다."
   ]
  }
 ],
 "metadata": {
  "kernelspec": {
   "display_name": "Python 3",
   "language": "python",
   "name": "python3"
  },
  "language_info": {
   "codemirror_mode": {
    "name": "ipython",
    "version": 3
   },
   "file_extension": ".py",
   "mimetype": "text/x-python",
   "name": "python",
   "nbconvert_exporter": "python",
   "pygments_lexer": "ipython3",
   "version": "3.8.8"
  }
 },
 "nbformat": 4,
 "nbformat_minor": 5
}
