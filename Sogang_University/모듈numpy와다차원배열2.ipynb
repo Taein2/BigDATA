{
 "cells": [
  {
   "cell_type": "code",
   "execution_count": 3,
   "id": "c07b20ce",
   "metadata": {},
   "outputs": [
    {
     "name": "stdout",
     "output_type": "stream",
     "text": [
      "range(0, 10)\n",
      "[0 1 2 3 4 5 6 7 8 9]\n"
     ]
    }
   ],
   "source": [
    "import numpy as np\n",
    "print(range(10))     # type range\n",
    "print(np.arange(10)) #type numpy.ndarray"
   ]
  },
  {
   "cell_type": "code",
   "execution_count": 8,
   "id": "e8c278a3",
   "metadata": {},
   "outputs": [
    {
     "data": {
      "text/plain": [
       "dtype('float64')"
      ]
     },
     "execution_count": 8,
     "metadata": {},
     "output_type": "execute_result"
    }
   ],
   "source": [
    "np.arange(1. , 3).dtype"
   ]
  },
  {
   "cell_type": "code",
   "execution_count": 10,
   "id": "f076433f",
   "metadata": {},
   "outputs": [
    {
     "data": {
      "text/plain": [
       "array([[ 1,  3,  5,  7,  9],\n",
       "       [11, 13, 15, 17, 19],\n",
       "       [21, 23, 25, 27, 29],\n",
       "       [31, 33, 35, 37, 39],\n",
       "       [41, 43, 45, 47, 49],\n",
       "       [51, 53, 55, 57, 59],\n",
       "       [61, 63, 65, 67, 69],\n",
       "       [71, 73, 75, 77, 79],\n",
       "       [81, 83, 85, 87, 89],\n",
       "       [91, 93, 95, 97, 99]])"
      ]
     },
     "execution_count": 10,
     "metadata": {},
     "output_type": "execute_result"
    }
   ],
   "source": [
    "a = np.arange(1,100,2)\n",
    "# 논항을 사용 변수에 넣어야함\n",
    "a.reshape(10,5)"
   ]
  },
  {
   "cell_type": "code",
   "execution_count": 14,
   "id": "b5a67e5b",
   "metadata": {},
   "outputs": [
    {
     "data": {
      "text/plain": [
       "array([[ 1,  3,  5,  7,  9, 11, 13, 15, 17, 19],\n",
       "       [21, 23, 25, 27, 29, 31, 33, 35, 37, 39],\n",
       "       [41, 43, 45, 47, 49, 51, 53, 55, 57, 59],\n",
       "       [61, 63, 65, 67, 69, 71, 73, 75, 77, 79],\n",
       "       [81, 83, 85, 87, 89, 91, 93, 95, 97, 99]])"
      ]
     },
     "execution_count": 14,
     "metadata": {},
     "output_type": "execute_result"
    }
   ],
   "source": [
    "# 앞에 변수에 저장됌 치환문을 사용\n",
    "a.shape = (5,10)\n",
    "a"
   ]
  },
  {
   "cell_type": "code",
   "execution_count": 16,
   "id": "538d95af",
   "metadata": {},
   "outputs": [
    {
     "data": {
      "text/plain": [
       "array([[1, 2, 3],\n",
       "       [4, 5, 6]])"
      ]
     },
     "execution_count": 16,
     "metadata": {},
     "output_type": "execute_result"
    }
   ],
   "source": [
    "a = np.arange(1,7).reshape(2,3)\n",
    "a"
   ]
  },
  {
   "cell_type": "code",
   "execution_count": 19,
   "id": "58e0048e",
   "metadata": {},
   "outputs": [
    {
     "data": {
      "text/plain": [
       "array([[ 3,  6,  9],\n",
       "       [ 6,  9, 12]])"
      ]
     },
     "execution_count": 19,
     "metadata": {},
     "output_type": "execute_result"
    }
   ],
   "source": [
    "a = a + [1,2,3]\n",
    "a"
   ]
  },
  {
   "cell_type": "markdown",
   "id": "229b01bd",
   "metadata": {},
   "source": [
    "### 연습문제 1 코드 작성"
   ]
  },
  {
   "cell_type": "code",
   "execution_count": 21,
   "id": "128fdde8",
   "metadata": {},
   "outputs": [
    {
     "data": {
      "text/plain": [
       "array([ 1.5,  3.5,  5.5,  7.5,  9.5, 11.5])"
      ]
     },
     "execution_count": 21,
     "metadata": {},
     "output_type": "execute_result"
    }
   ],
   "source": [
    "a = np.arange(1.5,12,2)\n",
    "a"
   ]
  },
  {
   "cell_type": "code",
   "execution_count": 26,
   "id": "4479d61f",
   "metadata": {},
   "outputs": [
    {
     "data": {
      "text/plain": [
       "array([['1.5', '3.5', '5.5'],\n",
       "       ['7.5', '9.5', '11.5']], dtype='<U32')"
      ]
     },
     "execution_count": 26,
     "metadata": {},
     "output_type": "execute_result"
    }
   ],
   "source": [
    "# dtype str도 가능\n",
    "b = np.arange(1.5,12,2).reshape(2,3).astype(dtype='U')\n",
    "b"
   ]
  },
  {
   "cell_type": "code",
   "execution_count": 29,
   "id": "31826abc",
   "metadata": {},
   "outputs": [
    {
     "data": {
      "text/plain": [
       "array([[ 3,  7],\n",
       "       [11, 15],\n",
       "       [19, 23]], dtype=int32)"
      ]
     },
     "execution_count": 29,
     "metadata": {},
     "output_type": "execute_result"
    }
   ],
   "source": [
    "c = (np.arange(1.5,12,2) * 2).reshape(3,2).astype(dtype='i')\n",
    "c"
   ]
  },
  {
   "cell_type": "code",
   "execution_count": 36,
   "id": "9cf18791",
   "metadata": {},
   "outputs": [
    {
     "name": "stdout",
     "output_type": "stream",
     "text": [
      "[1 2 3 4 5 6]\n",
      "6\n",
      "[3 4]\n",
      "[ 1  2  3  4  5 12]\n",
      "[ 1 14 13  4  5 12]\n",
      "[ 1 12 12  4  5 12]\n",
      "[ 1 14 14  4  5 12]\n"
     ]
    }
   ],
   "source": [
    "# 인덱싱과 슬라이싱 : 1차원\n",
    "a = np.arange(1,7)\n",
    "print(a)\n",
    "print(a[5])\n",
    "print(a[2:4])\n",
    "a[5] = 12\n",
    "print(a)\n",
    "a[1:3] = [14,13]\n",
    "print(a)\n",
    "a[1:3] = 12\n",
    "print(a)\n",
    "a[1:3] = [14]\n",
    "print(a)"
   ]
  },
  {
   "cell_type": "code",
   "execution_count": 45,
   "id": "e83ecc53",
   "metadata": {},
   "outputs": [
    {
     "name": "stdout",
     "output_type": "stream",
     "text": [
      "[1 3 5 7 9]\n",
      "[1 3 5 7 9]\n",
      "[1 5 9]\n",
      "[5 9]\n",
      "[9 7 5 3 1]\n",
      "[9 5 1]\n",
      "[7 5 3 1]\n",
      "[5 3 1]\n"
     ]
    }
   ],
   "source": [
    "# step : 1차원\n",
    "a = np.arange(1,10,2)\n",
    "print(a)\n",
    "print(a[::])\n",
    "print(a[::2])\n",
    "print(a[2::2])\n",
    "print(a[::-1])\n",
    "print(a[::-2])\n",
    "print(a[-2::-1]) #인덱스 -2의 값이 7\n",
    "print(a[2::-1]) #인덱스 2 의 값이 5"
   ]
  },
  {
   "cell_type": "code",
   "execution_count": 56,
   "id": "98db7514",
   "metadata": {},
   "outputs": [
    {
     "name": "stdout",
     "output_type": "stream",
     "text": [
      "[[ 1  2  3  4]\n",
      " [ 5  6  7  8]\n",
      " [ 9 10 11 12]]\n",
      "----------------\n",
      "[ 9 10 11 12]\n",
      "4\n",
      "9\n",
      "[[1 2 3 4]\n",
      " [5 6 7 8]]\n",
      "[[1 2 3 4]]\n",
      "----------------\n",
      "[1 2 3 4]\n",
      "[2 3 4]\n"
     ]
    }
   ],
   "source": [
    "# 인덱싱과 슬라이싱 : 2차원\n",
    "a = np.arange(1,13).reshape(3,4)\n",
    "print(a)\n",
    "print('----------------')\n",
    "print(a[-1])\n",
    "print(a[0][-1])\n",
    "print(a[-1][0])\n",
    "print(a[0:2])\n",
    "print(a[0:1])      # 2차원\n",
    "print('----------------')\n",
    "print(a[0:2][0])  # 차원이 줄어듬 ( 1차원 )\n",
    "print(a[0:2][0][1:]) #1차원의 슬라이싱"
   ]
  },
  {
   "cell_type": "code",
   "execution_count": 64,
   "id": "3d27cc82",
   "metadata": {},
   "outputs": [
    {
     "name": "stdout",
     "output_type": "stream",
     "text": [
      "[[ 1  2  3  4]\n",
      " [ 5  6  7  8]\n",
      " [ 9 10 11 12]]\n",
      "----------------\n",
      "[[ 1  2  3  4]\n",
      " [ 9 10 11 12]]\n",
      "[[ 9 10 11 12]\n",
      " [ 5  6  7  8]\n",
      " [ 1  2  3  4]]\n",
      "[[5 6 7 8]\n",
      " [1 2 3 4]]\n",
      "----------------\n",
      "[ 9 10 11 12]\n",
      "[[ 9 10 11 12]]\n",
      "[[1 2 3 4]]\n"
     ]
    }
   ],
   "source": [
    "# step : 2차원\n",
    "print(a)\n",
    "print('----------------')\n",
    "print(a[::2])\n",
    "print(a[::-1])\n",
    "print(a[1::-1])\n",
    "print('----------------')\n",
    "print(a[::2][1])\n",
    "print(a[::2][1:2])\n",
    "print(a[::2][::2]) # 인덱스 2가없기에 0만 출력되지만 2차원"
   ]
  },
  {
   "cell_type": "code",
   "execution_count": 74,
   "id": "089a6d97",
   "metadata": {},
   "outputs": [
    {
     "name": "stdout",
     "output_type": "stream",
     "text": [
      "2\n",
      "2\n",
      "[5 6 7 8]\n",
      "[2 6]\n",
      "[[1 2 3 4]\n",
      " [5 6 7 8]]\n",
      "[[ 1  2  3]\n",
      " [ 5  6  7]\n",
      " [ 9 10 11]]\n",
      "[1 2 3 4]\n"
     ]
    }
   ],
   "source": [
    "# 행과 열 : 인덱싱, 슬라이싱\n",
    "print(a[0][1])\n",
    "print(a[0,1])\n",
    "\n",
    "print(a[0:2][1])\n",
    "print(a[0:2,1])\n",
    "\n",
    "print(a[:][:-1])\n",
    "print(a[:,:-1])\n",
    "print(a[0,])"
   ]
  },
  {
   "cell_type": "markdown",
   "id": "d88eef92",
   "metadata": {},
   "source": [
    "### 연습문제 2 코드 완성"
   ]
  },
  {
   "cell_type": "code",
   "execution_count": 76,
   "id": "52a48bd3",
   "metadata": {},
   "outputs": [
    {
     "data": {
      "text/plain": [
       "array([[ 1,  2,  3,  4],\n",
       "       [ 5,  6,  7,  8],\n",
       "       [ 9, 10, 11, 12]])"
      ]
     },
     "execution_count": 76,
     "metadata": {},
     "output_type": "execute_result"
    }
   ],
   "source": [
    "a = np.arange(1,13).reshape(3,4)\n",
    "a"
   ]
  },
  {
   "cell_type": "code",
   "execution_count": 82,
   "id": "10f66a52",
   "metadata": {},
   "outputs": [
    {
     "data": {
      "text/plain": [
       "array([[2, 3, 4],\n",
       "       [6, 7, 8]])"
      ]
     },
     "execution_count": 82,
     "metadata": {},
     "output_type": "execute_result"
    }
   ],
   "source": [
    "a[:2,1:]"
   ]
  },
  {
   "cell_type": "code",
   "execution_count": 84,
   "id": "5081af32",
   "metadata": {},
   "outputs": [
    {
     "data": {
      "text/plain": [
       "array([ 9, 10, 11, 12])"
      ]
     },
     "execution_count": 84,
     "metadata": {},
     "output_type": "execute_result"
    }
   ],
   "source": [
    "a[2]"
   ]
  },
  {
   "cell_type": "code",
   "execution_count": 86,
   "id": "f24c029b",
   "metadata": {},
   "outputs": [
    {
     "data": {
      "text/plain": [
       "array([ 9, 10, 11, 12])"
      ]
     },
     "execution_count": 86,
     "metadata": {},
     "output_type": "execute_result"
    }
   ],
   "source": [
    "a[2,]"
   ]
  },
  {
   "cell_type": "code",
   "execution_count": 88,
   "id": "73f0d71e",
   "metadata": {},
   "outputs": [
    {
     "data": {
      "text/plain": [
       "array([[ 9, 10, 11, 12]])"
      ]
     },
     "execution_count": 88,
     "metadata": {},
     "output_type": "execute_result"
    }
   ],
   "source": [
    "a[2:,] # 2차원으로 출력"
   ]
  },
  {
   "cell_type": "code",
   "execution_count": 91,
   "id": "72994c15",
   "metadata": {},
   "outputs": [
    {
     "data": {
      "text/plain": [
       "array([[ 1,  2],\n",
       "       [ 5,  6],\n",
       "       [ 9, 10]])"
      ]
     },
     "execution_count": 91,
     "metadata": {},
     "output_type": "execute_result"
    }
   ],
   "source": [
    "a[:3,:2]   # a[:,:2]"
   ]
  },
  {
   "cell_type": "code",
   "execution_count": 93,
   "id": "edb1cae7",
   "metadata": {},
   "outputs": [
    {
     "data": {
      "text/plain": [
       "array([5, 6])"
      ]
     },
     "execution_count": 93,
     "metadata": {},
     "output_type": "execute_result"
    }
   ],
   "source": [
    "a[1,:2]"
   ]
  },
  {
   "cell_type": "code",
   "execution_count": 103,
   "id": "648d25dc",
   "metadata": {},
   "outputs": [
    {
     "data": {
      "text/plain": [
       "array([[5, 6]])"
      ]
     },
     "execution_count": 103,
     "metadata": {},
     "output_type": "execute_result"
    }
   ],
   "source": [
    "a[1:2,:2]"
   ]
  }
 ],
 "metadata": {
  "kernelspec": {
   "display_name": "Python 3",
   "language": "python",
   "name": "python3"
  },
  "language_info": {
   "codemirror_mode": {
    "name": "ipython",
    "version": 3
   },
   "file_extension": ".py",
   "mimetype": "text/x-python",
   "name": "python",
   "nbconvert_exporter": "python",
   "pygments_lexer": "ipython3",
   "version": "3.8.8"
  }
 },
 "nbformat": 4,
 "nbformat_minor": 5
}
