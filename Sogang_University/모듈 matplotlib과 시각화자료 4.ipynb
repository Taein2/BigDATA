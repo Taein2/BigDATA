{
 "cells": [
  {
   "cell_type": "markdown",
   "id": "ff4f04ca",
   "metadata": {},
   "source": [
    "## 데이터 파일: US_Presidents.txt"
   ]
  },
  {
   "cell_type": "markdown",
   "id": "b76ab022",
   "metadata": {},
   "source": [
    "## 연습문제 1 불러오기"
   ]
  },
  {
   "cell_type": "code",
   "execution_count": 6,
   "id": "5a0c4cde",
   "metadata": {},
   "outputs": [],
   "source": [
    "import pandas as pd\n",
    "Presidents = pd.read_csv('US_Presidents.txt',sep='\\t', index_col=0)"
   ]
  },
  {
   "cell_type": "code",
   "execution_count": 7,
   "id": "6008cd54",
   "metadata": {},
   "outputs": [
    {
     "data": {
      "text/html": [
       "<div>\n",
       "<style scoped>\n",
       "    .dataframe tbody tr th:only-of-type {\n",
       "        vertical-align: middle;\n",
       "    }\n",
       "\n",
       "    .dataframe tbody tr th {\n",
       "        vertical-align: top;\n",
       "    }\n",
       "\n",
       "    .dataframe thead th {\n",
       "        text-align: right;\n",
       "    }\n",
       "</style>\n",
       "<table border=\"1\" class=\"dataframe\">\n",
       "  <thead>\n",
       "    <tr style=\"text-align: right;\">\n",
       "      <th></th>\n",
       "      <th>President</th>\n",
       "      <th>Party</th>\n",
       "    </tr>\n",
       "    <tr>\n",
       "      <th>Years</th>\n",
       "      <th></th>\n",
       "      <th></th>\n",
       "    </tr>\n",
       "  </thead>\n",
       "  <tbody>\n",
       "    <tr>\n",
       "      <th>1789</th>\n",
       "      <td>George Washington</td>\n",
       "      <td>None</td>\n",
       "    </tr>\n",
       "    <tr>\n",
       "      <th>1790</th>\n",
       "      <td>George Washington</td>\n",
       "      <td>None</td>\n",
       "    </tr>\n",
       "    <tr>\n",
       "      <th>1791</th>\n",
       "      <td>George Washington</td>\n",
       "      <td>None</td>\n",
       "    </tr>\n",
       "    <tr>\n",
       "      <th>1792</th>\n",
       "      <td>George Washington</td>\n",
       "      <td>None</td>\n",
       "    </tr>\n",
       "    <tr>\n",
       "      <th>1793</th>\n",
       "      <td>George Washington</td>\n",
       "      <td>None</td>\n",
       "    </tr>\n",
       "    <tr>\n",
       "      <th>...</th>\n",
       "      <td>...</td>\n",
       "      <td>...</td>\n",
       "    </tr>\n",
       "    <tr>\n",
       "      <th>2016</th>\n",
       "      <td>Barack Obama</td>\n",
       "      <td>Democrat</td>\n",
       "    </tr>\n",
       "    <tr>\n",
       "      <th>2017</th>\n",
       "      <td>Donald Trump</td>\n",
       "      <td>Republican</td>\n",
       "    </tr>\n",
       "    <tr>\n",
       "      <th>2018</th>\n",
       "      <td>Donald Trump</td>\n",
       "      <td>Republican</td>\n",
       "    </tr>\n",
       "    <tr>\n",
       "      <th>2019</th>\n",
       "      <td>Donald Trump</td>\n",
       "      <td>Republican</td>\n",
       "    </tr>\n",
       "    <tr>\n",
       "      <th>2020</th>\n",
       "      <td>Donald Trump</td>\n",
       "      <td>Republican</td>\n",
       "    </tr>\n",
       "  </tbody>\n",
       "</table>\n",
       "<p>234 rows × 2 columns</p>\n",
       "</div>"
      ],
      "text/plain": [
       "               President       Party\n",
       "Years                               \n",
       "1789   George Washington        None\n",
       "1790   George Washington        None\n",
       "1791   George Washington        None\n",
       "1792   George Washington        None\n",
       "1793   George Washington        None\n",
       "...                  ...         ...\n",
       "2016        Barack Obama    Democrat\n",
       "2017        Donald Trump  Republican\n",
       "2018        Donald Trump  Republican\n",
       "2019        Donald Trump  Republican\n",
       "2020        Donald Trump  Republican\n",
       "\n",
       "[234 rows x 2 columns]"
      ]
     },
     "execution_count": 7,
     "metadata": {},
     "output_type": "execute_result"
    }
   ],
   "source": [
    "Presidents"
   ]
  },
  {
   "cell_type": "markdown",
   "id": "a633c112",
   "metadata": {},
   "source": [
    "## 연습문제 2 \n",
    "- 데이터프레임 Presidents의 Party 컬럼으로부터 오른쪽의 정당별 빈도를 값으로 하는 변수 Party를 만드시오."
   ]
  },
  {
   "cell_type": "code",
   "execution_count": 8,
   "id": "888d1dd5",
   "metadata": {},
   "outputs": [
    {
     "data": {
      "text/plain": [
       "Republican               93\n",
       "Democrat                 88\n",
       "Democratic-Republican    28\n",
       "Whig                      9\n",
       "None                      8\n",
       "National Union            4\n",
       "Federalist                4\n",
       "Name: Party, dtype: int64"
      ]
     },
     "execution_count": 8,
     "metadata": {},
     "output_type": "execute_result"
    }
   ],
   "source": [
    "Party = Presidents.Party.value_counts()\n",
    "Party"
   ]
  },
  {
   "cell_type": "markdown",
   "id": "43f299af",
   "metadata": {},
   "source": [
    "## Pie chart"
   ]
  },
  {
   "cell_type": "code",
   "execution_count": 9,
   "id": "2bbb4fe3",
   "metadata": {},
   "outputs": [
    {
     "data": {
      "text/plain": [
       "<AxesSubplot:ylabel='Party'>"
      ]
     },
     "execution_count": 9,
     "metadata": {},
     "output_type": "execute_result"
    },
    {
     "data": {
      "image/png": "[encoded data removed]",
      "text/plain": [
       "<Figure size 432x288 with 1 Axes>"
      ]
     },
     "metadata": {},
     "output_type": "display_data"
    }
   ],
   "source": [
    "%matplotlib inline\n",
    "import matplotlib.pyplot as plt\n",
    "Party.plot(kind = 'pie')"
   ]
  },
  {
   "cell_type": "markdown",
   "id": "f220f8d8",
   "metadata": {},
   "source": [
    "- 범주형 : 빈도 및 비율 확인 내림차순이 보기 좋음"
   ]
  },
  {
   "cell_type": "code",
   "execution_count": 11,
   "id": "b1c9bcbb",
   "metadata": {},
   "outputs": [
    {
     "data": {
      "text/plain": [
       "Text(0, 0.5, 'Party')"
      ]
     },
     "execution_count": 11,
     "metadata": {},
     "output_type": "execute_result"
    },
    {
     "data": {
      "image/png": "[encoded data removed]",
      "text/plain": [
       "<Figure size 432x288 with 1 Axes>"
      ]
     },
     "metadata": {},
     "output_type": "display_data"
    }
   ],
   "source": [
    "Party.plot.pie(textprops={'fontsize':12, 'color':'blue'},\n",
    "              colors = ['blue','orange','lightblue','red'])\n",
    "plt.ylabel(Party.name, fontsize=20,color='red')"
   ]
  },
  {
   "cell_type": "code",
   "execution_count": 12,
   "id": "188c31bf",
   "metadata": {},
   "outputs": [
    {
     "data": {
      "text/plain": [
       "<AxesSubplot:ylabel='Party'>"
      ]
     },
     "execution_count": 12,
     "metadata": {},
     "output_type": "execute_result"
    },
    {
     "data": {
      "image/png": "[encoded data removed]",
      "text/plain": [
       "<Figure size 432x288 with 1 Axes>"
      ]
     },
     "metadata": {},
     "output_type": "display_data"
    }
   ],
   "source": [
    "Party.plot.pie(labels = [i.upper() for i in Party.index], autopct = '%0.2f%%')"
   ]
  },
  {
   "cell_type": "markdown",
   "id": "30eb48c0",
   "metadata": {},
   "source": [
    "## bar plot"
   ]
  },
  {
   "cell_type": "code",
   "execution_count": 14,
   "id": "981ad259",
   "metadata": {},
   "outputs": [
    {
     "data": {
      "text/plain": [
       "<AxesSubplot:>"
      ]
     },
     "execution_count": 14,
     "metadata": {},
     "output_type": "execute_result"
    },
    {
     "data": {
      "image/png": "[encoded data removed]",
      "text/plain": [
       "<Figure size 432x288 with 1 Axes>"
      ]
     },
     "metadata": {
      "needs_background": "light"
     },
     "output_type": "display_data"
    }
   ],
   "source": [
    "Party.plot(kind = 'bar', color ='blue', alpha = 0.6) # alpha 투명도\n",
    "# Party.plot.bar(color='blue',alpha=0.6) 같음"
   ]
  },
  {
   "cell_type": "markdown",
   "id": "04b10886",
   "metadata": {},
   "source": [
    "빈도 내림차순이 바람직함..."
   ]
  },
  {
   "cell_type": "markdown",
   "id": "526e3788",
   "metadata": {},
   "source": [
    "## 연습문제 3\n",
    "- Series Party의 값을 상대빈도로 변환하여 다음의 bar plot을 생성하시오."
   ]
  },
  {
   "cell_type": "code",
   "execution_count": 15,
   "id": "d54f1fea",
   "metadata": {},
   "outputs": [
    {
     "data": {
      "text/plain": [
       "<AxesSubplot:>"
      ]
     },
     "execution_count": 15,
     "metadata": {},
     "output_type": "execute_result"
    },
    {
     "data": {
      "image/png": "[encoded data removed]",
      "text/plain": [
       "<Figure size 432x288 with 1 Axes>"
      ]
     },
     "metadata": {
      "needs_background": "light"
     },
     "output_type": "display_data"
    }
   ],
   "source": [
    "Party.apply(lambda x : x / Party.sum()).plot(kind='bar', color='blue', alpha=0.6)"
   ]
  },
  {
   "cell_type": "markdown",
   "id": "547ba492",
   "metadata": {},
   "source": [
    "## 연습문제 4\n",
    "- TDM.txt를 불러와서 어휘의 컬럼별 상대빈도로 변환하여 df 만들기"
   ]
  },
  {
   "cell_type": "code",
   "execution_count": 17,
   "id": "8d64e7f5",
   "metadata": {},
   "outputs": [
    {
     "data": {
      "text/html": [
       "<div>\n",
       "<style scoped>\n",
       "    .dataframe tbody tr th:only-of-type {\n",
       "        vertical-align: middle;\n",
       "    }\n",
       "\n",
       "    .dataframe tbody tr th {\n",
       "        vertical-align: top;\n",
       "    }\n",
       "\n",
       "    .dataframe thead th {\n",
       "        text-align: right;\n",
       "    }\n",
       "</style>\n",
       "<table border=\"1\" class=\"dataframe\">\n",
       "  <thead>\n",
       "    <tr style=\"text-align: right;\">\n",
       "      <th></th>\n",
       "      <th>01.txt</th>\n",
       "      <th>02.txt</th>\n",
       "      <th>03.txt</th>\n",
       "      <th>04.txt</th>\n",
       "    </tr>\n",
       "  </thead>\n",
       "  <tbody>\n",
       "    <tr>\n",
       "      <th>14th</th>\n",
       "      <td>0.000000</td>\n",
       "      <td>0.000000</td>\n",
       "      <td>0.000000</td>\n",
       "      <td>0.008333</td>\n",
       "    </tr>\n",
       "    <tr>\n",
       "      <th>15</th>\n",
       "      <td>0.000000</td>\n",
       "      <td>0.000000</td>\n",
       "      <td>0.000000</td>\n",
       "      <td>0.008333</td>\n",
       "    </tr>\n",
       "    <tr>\n",
       "      <th>1656</th>\n",
       "      <td>0.000000</td>\n",
       "      <td>0.000000</td>\n",
       "      <td>0.000000</td>\n",
       "      <td>0.008333</td>\n",
       "    </tr>\n",
       "    <tr>\n",
       "      <th>1761</th>\n",
       "      <td>0.000000</td>\n",
       "      <td>0.000000</td>\n",
       "      <td>0.000000</td>\n",
       "      <td>0.008333</td>\n",
       "    </tr>\n",
       "    <tr>\n",
       "      <th>17th</th>\n",
       "      <td>0.000000</td>\n",
       "      <td>0.000000</td>\n",
       "      <td>0.000000</td>\n",
       "      <td>0.008333</td>\n",
       "    </tr>\n",
       "    <tr>\n",
       "      <th>...</th>\n",
       "      <td>...</td>\n",
       "      <td>...</td>\n",
       "      <td>...</td>\n",
       "      <td>...</td>\n",
       "    </tr>\n",
       "    <tr>\n",
       "      <th>years</th>\n",
       "      <td>0.023529</td>\n",
       "      <td>0.000000</td>\n",
       "      <td>0.000000</td>\n",
       "      <td>0.000000</td>\n",
       "    </tr>\n",
       "    <tr>\n",
       "      <th>york</th>\n",
       "      <td>0.000000</td>\n",
       "      <td>0.000000</td>\n",
       "      <td>0.007937</td>\n",
       "      <td>0.000000</td>\n",
       "    </tr>\n",
       "    <tr>\n",
       "      <th>you</th>\n",
       "      <td>0.047059</td>\n",
       "      <td>0.000000</td>\n",
       "      <td>0.000000</td>\n",
       "      <td>0.000000</td>\n",
       "    </tr>\n",
       "    <tr>\n",
       "      <th>young</th>\n",
       "      <td>0.000000</td>\n",
       "      <td>0.011494</td>\n",
       "      <td>0.000000</td>\n",
       "      <td>0.000000</td>\n",
       "    </tr>\n",
       "    <tr>\n",
       "      <th>your</th>\n",
       "      <td>0.058824</td>\n",
       "      <td>0.000000</td>\n",
       "      <td>0.000000</td>\n",
       "      <td>0.000000</td>\n",
       "    </tr>\n",
       "  </tbody>\n",
       "</table>\n",
       "<p>244 rows × 4 columns</p>\n",
       "</div>"
      ],
      "text/plain": [
       "         01.txt    02.txt    03.txt    04.txt\n",
       "14th   0.000000  0.000000  0.000000  0.008333\n",
       "15     0.000000  0.000000  0.000000  0.008333\n",
       "1656   0.000000  0.000000  0.000000  0.008333\n",
       "1761   0.000000  0.000000  0.000000  0.008333\n",
       "17th   0.000000  0.000000  0.000000  0.008333\n",
       "...         ...       ...       ...       ...\n",
       "years  0.023529  0.000000  0.000000  0.000000\n",
       "york   0.000000  0.000000  0.007937  0.000000\n",
       "you    0.047059  0.000000  0.000000  0.000000\n",
       "young  0.000000  0.011494  0.000000  0.000000\n",
       "your   0.058824  0.000000  0.000000  0.000000\n",
       "\n",
       "[244 rows x 4 columns]"
      ]
     },
     "execution_count": 17,
     "metadata": {},
     "output_type": "execute_result"
    }
   ],
   "source": [
    "TDM = pd.read_csv('TDM.txt', sep='\\t', index_col = 0)\n",
    "TDM = TDM.div(TDM.sum(0), axis=1)\n",
    "TDM"
   ]
  },
  {
   "cell_type": "markdown",
   "id": "ef3b5855",
   "metadata": {},
   "source": [
    "## 연습문제 5\n",
    "- 데이터프레임 TDM으로부터 어휘 상대 빈도 합계 상위 10개로 구성되는 데이터 프레임 Top10 만들기"
   ]
  },
  {
   "cell_type": "code",
   "execution_count": 19,
   "id": "36587bad",
   "metadata": {},
   "outputs": [
    {
     "data": {
      "text/plain": [
       "to                 0.233498\n",
       "the                0.170430\n",
       "in                 0.112265\n",
       "and                0.096121\n",
       "is                 0.085930\n",
       "                     ...   \n",
       "something          0.007937\n",
       "straightforward    0.007937\n",
       "such               0.007937\n",
       "technical          0.007937\n",
       "same               0.007937\n",
       "Length: 244, dtype: float64"
      ]
     },
     "execution_count": 19,
     "metadata": {},
     "output_type": "execute_result"
    }
   ],
   "source": [
    "# sum(1) 행으로 합계 series\n",
    "TDM.sum(1).sort_values(ascending=False) #내림차순"
   ]
  },
  {
   "cell_type": "code",
   "execution_count": 20,
   "id": "c1290415",
   "metadata": {},
   "outputs": [
    {
     "data": {
      "text/html": [
       "<div>\n",
       "<style scoped>\n",
       "    .dataframe tbody tr th:only-of-type {\n",
       "        vertical-align: middle;\n",
       "    }\n",
       "\n",
       "    .dataframe tbody tr th {\n",
       "        vertical-align: top;\n",
       "    }\n",
       "\n",
       "    .dataframe thead th {\n",
       "        text-align: right;\n",
       "    }\n",
       "</style>\n",
       "<table border=\"1\" class=\"dataframe\">\n",
       "  <thead>\n",
       "    <tr style=\"text-align: right;\">\n",
       "      <th></th>\n",
       "      <th>01.txt</th>\n",
       "      <th>02.txt</th>\n",
       "      <th>03.txt</th>\n",
       "      <th>04.txt</th>\n",
       "    </tr>\n",
       "  </thead>\n",
       "  <tbody>\n",
       "    <tr>\n",
       "      <th>to</th>\n",
       "      <td>0.047059</td>\n",
       "      <td>0.057471</td>\n",
       "      <td>0.087302</td>\n",
       "      <td>0.041667</td>\n",
       "    </tr>\n",
       "    <tr>\n",
       "      <th>the</th>\n",
       "      <td>0.047059</td>\n",
       "      <td>0.034483</td>\n",
       "      <td>0.055556</td>\n",
       "      <td>0.033333</td>\n",
       "    </tr>\n",
       "    <tr>\n",
       "      <th>in</th>\n",
       "      <td>0.035294</td>\n",
       "      <td>0.011494</td>\n",
       "      <td>0.023810</td>\n",
       "      <td>0.041667</td>\n",
       "    </tr>\n",
       "    <tr>\n",
       "      <th>and</th>\n",
       "      <td>0.023529</td>\n",
       "      <td>0.022989</td>\n",
       "      <td>0.007937</td>\n",
       "      <td>0.041667</td>\n",
       "    </tr>\n",
       "    <tr>\n",
       "      <th>is</th>\n",
       "      <td>0.011765</td>\n",
       "      <td>0.034483</td>\n",
       "      <td>0.039683</td>\n",
       "      <td>0.000000</td>\n",
       "    </tr>\n",
       "    <tr>\n",
       "      <th>a</th>\n",
       "      <td>0.011765</td>\n",
       "      <td>0.022989</td>\n",
       "      <td>0.015873</td>\n",
       "      <td>0.025000</td>\n",
       "    </tr>\n",
       "    <tr>\n",
       "      <th>of</th>\n",
       "      <td>0.023529</td>\n",
       "      <td>0.011494</td>\n",
       "      <td>0.031746</td>\n",
       "      <td>0.008333</td>\n",
       "    </tr>\n",
       "    <tr>\n",
       "      <th>as</th>\n",
       "      <td>0.023529</td>\n",
       "      <td>0.022989</td>\n",
       "      <td>0.015873</td>\n",
       "      <td>0.000000</td>\n",
       "    </tr>\n",
       "    <tr>\n",
       "      <th>your</th>\n",
       "      <td>0.058824</td>\n",
       "      <td>0.000000</td>\n",
       "      <td>0.000000</td>\n",
       "      <td>0.000000</td>\n",
       "    </tr>\n",
       "    <tr>\n",
       "      <th>it</th>\n",
       "      <td>0.011765</td>\n",
       "      <td>0.000000</td>\n",
       "      <td>0.031746</td>\n",
       "      <td>0.008333</td>\n",
       "    </tr>\n",
       "  </tbody>\n",
       "</table>\n",
       "</div>"
      ],
      "text/plain": [
       "        01.txt    02.txt    03.txt    04.txt\n",
       "to    0.047059  0.057471  0.087302  0.041667\n",
       "the   0.047059  0.034483  0.055556  0.033333\n",
       "in    0.035294  0.011494  0.023810  0.041667\n",
       "and   0.023529  0.022989  0.007937  0.041667\n",
       "is    0.011765  0.034483  0.039683  0.000000\n",
       "a     0.011765  0.022989  0.015873  0.025000\n",
       "of    0.023529  0.011494  0.031746  0.008333\n",
       "as    0.023529  0.022989  0.015873  0.000000\n",
       "your  0.058824  0.000000  0.000000  0.000000\n",
       "it    0.011765  0.000000  0.031746  0.008333"
      ]
     },
     "execution_count": 20,
     "metadata": {},
     "output_type": "execute_result"
    }
   ],
   "source": [
    "Top10 = TDM.loc[TDM.sum(1).sort_values(ascending=False).index[:10]]\n",
    "Top10"
   ]
  },
  {
   "cell_type": "markdown",
   "id": "7a44bc03",
   "metadata": {},
   "source": [
    "## bar plot"
   ]
  },
  {
   "cell_type": "code",
   "execution_count": 21,
   "id": "74fd4353",
   "metadata": {},
   "outputs": [
    {
     "data": {
      "text/plain": [
       "<AxesSubplot:>"
      ]
     },
     "execution_count": 21,
     "metadata": {},
     "output_type": "execute_result"
    },
    {
     "data": {
      "image/png": "[encoded data removed]",
      "text/plain": [
       "<Figure size 432x288 with 1 Axes>"
      ]
     },
     "metadata": {
      "needs_background": "light"
     },
     "output_type": "display_data"
    }
   ],
   "source": [
    "Top10.sum(1).plot.bar()"
   ]
  },
  {
   "cell_type": "markdown",
   "id": "319ced54",
   "metadata": {},
   "source": [
    "- 상대빈도 합계 값이 to가 가장 많이 사용됨 , \n",
    "- 정렬이 왜 중요? 어떠한 어휘가 가장 많이 사용되고 2순위와의 간격등을 손쉽게 파악 가능"
   ]
  },
  {
   "cell_type": "code",
   "execution_count": 22,
   "id": "dcb2459f",
   "metadata": {},
   "outputs": [
    {
     "data": {
      "text/plain": [
       "<AxesSubplot:>"
      ]
     },
     "execution_count": 22,
     "metadata": {},
     "output_type": "execute_result"
    },
    {
     "data": {
      "image/png": "[encoded data removed]",
      "text/plain": [
       "<Figure size 432x288 with 1 Axes>"
      ]
     },
     "metadata": {
      "needs_background": "light"
     },
     "output_type": "display_data"
    }
   ],
   "source": [
    "Top10.plot.bar()"
   ]
  },
  {
   "cell_type": "code",
   "execution_count": 24,
   "id": "b3355417",
   "metadata": {},
   "outputs": [
    {
     "data": {
      "text/plain": [
       "<matplotlib.legend.Legend at 0x1dbdf503760>"
      ]
     },
     "execution_count": 24,
     "metadata": {},
     "output_type": "execute_result"
    },
    {
     "data": {
      "image/png": "[encoded data removed]",
      "text/plain": [
       "<Figure size 432x288 with 1 Axes>"
      ]
     },
     "metadata": {
      "needs_background": "light"
     },
     "output_type": "display_data"
    }
   ],
   "source": [
    "Top10.T.plot.bar()\n",
    "plt.legend(loc='upper right', fontsize='x-small') #범례 오른쪽 상단, 폰트 크기 매우 작음"
   ]
  },
  {
   "cell_type": "code",
   "execution_count": 25,
   "id": "91f91814",
   "metadata": {},
   "outputs": [
    {
     "data": {
      "text/plain": [
       "<AxesSubplot:>"
      ]
     },
     "execution_count": 25,
     "metadata": {},
     "output_type": "execute_result"
    },
    {
     "data": {
      "image/png": "[encoded data removed]",
      "text/plain": [
       "<Figure size 432x288 with 1 Axes>"
      ]
     },
     "metadata": {
      "needs_background": "light"
     },
     "output_type": "display_data"
    }
   ],
   "source": [
    "Top10.plot.barh(stacked=True)"
   ]
  },
  {
   "cell_type": "markdown",
   "id": "70e42380",
   "metadata": {},
   "source": [
    "가장 오른쪽 끝의 합산된 결과가 1로 표준화되면 비교하기가 편함 "
   ]
  },
  {
   "cell_type": "markdown",
   "id": "0add4bfe",
   "metadata": {},
   "source": [
    "## 연습문제 6\n",
    "- Top10의 stacked bar를 다음과 같이 출력하려면 어떻게 해야 할까?"
   ]
  },
  {
   "cell_type": "code",
   "execution_count": 27,
   "id": "e382bbe1",
   "metadata": {},
   "outputs": [
    {
     "data": {
      "text/html": [
       "<div>\n",
       "<style scoped>\n",
       "    .dataframe tbody tr th:only-of-type {\n",
       "        vertical-align: middle;\n",
       "    }\n",
       "\n",
       "    .dataframe tbody tr th {\n",
       "        vertical-align: top;\n",
       "    }\n",
       "\n",
       "    .dataframe thead th {\n",
       "        text-align: right;\n",
       "    }\n",
       "</style>\n",
       "<table border=\"1\" class=\"dataframe\">\n",
       "  <thead>\n",
       "    <tr style=\"text-align: right;\">\n",
       "      <th></th>\n",
       "      <th>01.txt</th>\n",
       "      <th>02.txt</th>\n",
       "      <th>03.txt</th>\n",
       "      <th>04.txt</th>\n",
       "    </tr>\n",
       "  </thead>\n",
       "  <tbody>\n",
       "    <tr>\n",
       "      <th>to</th>\n",
       "      <td>0.047059</td>\n",
       "      <td>0.057471</td>\n",
       "      <td>0.087302</td>\n",
       "      <td>0.041667</td>\n",
       "    </tr>\n",
       "    <tr>\n",
       "      <th>the</th>\n",
       "      <td>0.047059</td>\n",
       "      <td>0.034483</td>\n",
       "      <td>0.055556</td>\n",
       "      <td>0.033333</td>\n",
       "    </tr>\n",
       "    <tr>\n",
       "      <th>in</th>\n",
       "      <td>0.035294</td>\n",
       "      <td>0.011494</td>\n",
       "      <td>0.023810</td>\n",
       "      <td>0.041667</td>\n",
       "    </tr>\n",
       "    <tr>\n",
       "      <th>and</th>\n",
       "      <td>0.023529</td>\n",
       "      <td>0.022989</td>\n",
       "      <td>0.007937</td>\n",
       "      <td>0.041667</td>\n",
       "    </tr>\n",
       "    <tr>\n",
       "      <th>is</th>\n",
       "      <td>0.011765</td>\n",
       "      <td>0.034483</td>\n",
       "      <td>0.039683</td>\n",
       "      <td>0.000000</td>\n",
       "    </tr>\n",
       "    <tr>\n",
       "      <th>a</th>\n",
       "      <td>0.011765</td>\n",
       "      <td>0.022989</td>\n",
       "      <td>0.015873</td>\n",
       "      <td>0.025000</td>\n",
       "    </tr>\n",
       "    <tr>\n",
       "      <th>of</th>\n",
       "      <td>0.023529</td>\n",
       "      <td>0.011494</td>\n",
       "      <td>0.031746</td>\n",
       "      <td>0.008333</td>\n",
       "    </tr>\n",
       "    <tr>\n",
       "      <th>as</th>\n",
       "      <td>0.023529</td>\n",
       "      <td>0.022989</td>\n",
       "      <td>0.015873</td>\n",
       "      <td>0.000000</td>\n",
       "    </tr>\n",
       "    <tr>\n",
       "      <th>your</th>\n",
       "      <td>0.058824</td>\n",
       "      <td>0.000000</td>\n",
       "      <td>0.000000</td>\n",
       "      <td>0.000000</td>\n",
       "    </tr>\n",
       "    <tr>\n",
       "      <th>it</th>\n",
       "      <td>0.011765</td>\n",
       "      <td>0.000000</td>\n",
       "      <td>0.031746</td>\n",
       "      <td>0.008333</td>\n",
       "    </tr>\n",
       "  </tbody>\n",
       "</table>\n",
       "</div>"
      ],
      "text/plain": [
       "        01.txt    02.txt    03.txt    04.txt\n",
       "to    0.047059  0.057471  0.087302  0.041667\n",
       "the   0.047059  0.034483  0.055556  0.033333\n",
       "in    0.035294  0.011494  0.023810  0.041667\n",
       "and   0.023529  0.022989  0.007937  0.041667\n",
       "is    0.011765  0.034483  0.039683  0.000000\n",
       "a     0.011765  0.022989  0.015873  0.025000\n",
       "of    0.023529  0.011494  0.031746  0.008333\n",
       "as    0.023529  0.022989  0.015873  0.000000\n",
       "your  0.058824  0.000000  0.000000  0.000000\n",
       "it    0.011765  0.000000  0.031746  0.008333"
      ]
     },
     "execution_count": 27,
     "metadata": {},
     "output_type": "execute_result"
    }
   ],
   "source": [
    "Top10"
   ]
  },
  {
   "cell_type": "code",
   "execution_count": 28,
   "id": "35835e89",
   "metadata": {},
   "outputs": [
    {
     "data": {
      "text/plain": [
       "<AxesSubplot:>"
      ]
     },
     "execution_count": 28,
     "metadata": {},
     "output_type": "execute_result"
    },
    {
     "data": {
      "image/png": "[encoded data removed]",
      "text/plain": [
       "<Figure size 432x288 with 1 Axes>"
      ]
     },
     "metadata": {
      "needs_background": "light"
     },
     "output_type": "display_data"
    }
   ],
   "source": [
    "Top10.div(Top10.sum(1), axis=0).plot.barh(stacked=True)"
   ]
  },
  {
   "cell_type": "code",
   "execution_count": 29,
   "id": "fe370647",
   "metadata": {},
   "outputs": [
    {
     "data": {
      "text/plain": [
       "<AxesSubplot:>"
      ]
     },
     "execution_count": 29,
     "metadata": {},
     "output_type": "execute_result"
    },
    {
     "data": {
      "image/png": "[encoded data removed]",
      "text/plain": [
       "<Figure size 432x288 with 1 Axes>"
      ]
     },
     "metadata": {
      "needs_background": "light"
     },
     "output_type": "display_data"
    }
   ],
   "source": [
    "Top10.T.div(Top10.sum(1)).T.plot.barh(stacked=True) # 같음"
   ]
  }
 ],
 "metadata": {
  "kernelspec": {
   "display_name": "Python 3",
   "language": "python",
   "name": "python3"
  },
  "language_info": {
   "codemirror_mode": {
    "name": "ipython",
    "version": 3
   },
   "file_extension": ".py",
   "mimetype": "text/x-python",
   "name": "python",
   "nbconvert_exporter": "python",
   "pygments_lexer": "ipython3",
   "version": "3.8.8"
  }
 },
 "nbformat": 4,
 "nbformat_minor": 5
}
