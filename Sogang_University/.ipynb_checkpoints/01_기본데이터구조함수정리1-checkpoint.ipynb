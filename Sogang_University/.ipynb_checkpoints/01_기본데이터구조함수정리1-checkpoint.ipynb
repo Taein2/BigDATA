{
 "cells": [
  {
   "cell_type": "markdown",
   "id": "d13aeb79",
   "metadata": {},
   "source": [
    "### 연습문제 1\n",
    "##### 0부터 100까지의 짝수를 합산하여 print 출력"
   ]
  },
  {
   "cell_type": "code",
   "execution_count": 11,
   "id": "9d6e44db",
   "metadata": {},
   "outputs": [
    {
     "name": "stdout",
     "output_type": "stream",
     "text": [
      "0 0\n",
      "2 2\n",
      "4 6\n",
      "6 12\n",
      "8 20\n",
      "10 30\n",
      "12 42\n",
      "14 56\n",
      "16 72\n",
      "18 90\n",
      "20 110\n",
      "22 132\n",
      "24 156\n",
      "26 182\n",
      "28 210\n",
      "30 240\n",
      "32 272\n",
      "34 306\n",
      "36 342\n",
      "38 380\n",
      "40 420\n",
      "42 462\n",
      "44 506\n",
      "46 552\n",
      "48 600\n",
      "50 650\n",
      "52 702\n",
      "54 756\n",
      "56 812\n",
      "58 870\n",
      "60 930\n",
      "62 992\n",
      "64 1056\n",
      "66 1122\n",
      "68 1190\n",
      "70 1260\n",
      "72 1332\n",
      "74 1406\n",
      "76 1482\n",
      "78 1560\n",
      "80 1640\n",
      "82 1722\n",
      "84 1806\n",
      "86 1892\n",
      "88 1980\n",
      "90 2070\n",
      "92 2162\n",
      "94 2256\n",
      "96 2352\n",
      "98 2450\n",
      "100 2550\n"
     ]
    }
   ],
   "source": [
    "sum = 0\n",
    "for i in range(0,101,2):\n",
    "    sum += i\n",
    "    print(i,sum)\n"
   ]
  },
  {
   "cell_type": "markdown",
   "id": "8b33f9ed",
   "metadata": {},
   "source": [
    "### 연습문제 2\n",
    "##### a = ['cat' 'tiger', 'elephant'] 변수명 a의 원소 중 문자열 길이가 3보다 큰 문자열만 print 출력\n"
   ]
  },
  {
   "cell_type": "code",
   "execution_count": 12,
   "id": "8fe62b9f",
   "metadata": {},
   "outputs": [
    {
     "name": "stdout",
     "output_type": "stream",
     "text": [
      "tiger\n",
      "elephant\n"
     ]
    }
   ],
   "source": [
    "a = ['cat','tiger','elephant']\n",
    "for word in a:\n",
    "    if len(word) > 3:\n",
    "        print(word)"
   ]
  }
 ],
 "metadata": {
  "kernelspec": {
   "display_name": "Python 3",
   "language": "python",
   "name": "python3"
  },
  "language_info": {
   "codemirror_mode": {
    "name": "ipython",
    "version": 3
   },
   "file_extension": ".py",
   "mimetype": "text/x-python",
   "name": "python",
   "nbconvert_exporter": "python",
   "pygments_lexer": "ipython3",
   "version": "3.8.8"
  }
 },
 "nbformat": 4,
 "nbformat_minor": 5
}
