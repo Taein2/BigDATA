{
 "cells": [
  {
   "cell_type": "markdown",
   "id": "b9c97785",
   "metadata": {},
   "source": [
    "## 데이터 파일 : InauguralAddress 폴더\n",
    "- 1789~ 2017년 미국 대통령 취임 연설문 58개"
   ]
  },
  {
   "cell_type": "markdown",
   "id": "6fa2cf60",
   "metadata": {},
   "source": [
    "## 연습문제 1\n",
    "- 현재 작업폴더 밑의 InauguralAddress 폴더로부터 파일명 목록을 추출하고 파일명으로부터 아래의 변수 Address를 만드시오."
   ]
  },
  {
   "cell_type": "code",
   "execution_count": 8,
   "id": "7e1ccd1f",
   "metadata": {},
   "outputs": [
    {
     "data": {
      "text/plain": [
       "1789    Washington\n",
       "1793    Washington\n",
       "1797         Adams\n",
       "1801     Jefferson\n",
       "1805     Jefferson\n",
       "Name: Presidents, dtype: object"
      ]
     },
     "execution_count": 8,
     "metadata": {},
     "output_type": "execute_result"
    }
   ],
   "source": [
    "import os, re\n",
    "import pandas as pd\n",
    "Address = pd.Series(dict([re.search('(\\d{4})[-]([a-z]+)',\n",
    "                                   i, re.I).groups()\n",
    "                         for i in os.listdir('./InauguralAddress')]),\n",
    "                   name = 'Presidents')\n",
    "Address.head()"
   ]
  },
  {
   "cell_type": "markdown",
   "id": "3e47e62c",
   "metadata": {},
   "source": [
    "## 연습문제 2\n",
    "- US_Presidents.txt(Years, President, Party 컬럼 구성)를 오른쪽 데이터프레임 Presidents로 불러오시오."
   ]
  },
  {
   "cell_type": "code",
   "execution_count": 9,
   "id": "08f538f9",
   "metadata": {},
   "outputs": [],
   "source": [
    "import pandas as pd\n",
    "Presidents = pd.read_csv('US_Presidents.txt', sep='\\t', index_col=0)"
   ]
  },
  {
   "cell_type": "code",
   "execution_count": 10,
   "id": "8f965a0c",
   "metadata": {},
   "outputs": [
    {
     "data": {
      "text/html": [
       "<div>\n",
       "<style scoped>\n",
       "    .dataframe tbody tr th:only-of-type {\n",
       "        vertical-align: middle;\n",
       "    }\n",
       "\n",
       "    .dataframe tbody tr th {\n",
       "        vertical-align: top;\n",
       "    }\n",
       "\n",
       "    .dataframe thead th {\n",
       "        text-align: right;\n",
       "    }\n",
       "</style>\n",
       "<table border=\"1\" class=\"dataframe\">\n",
       "  <thead>\n",
       "    <tr style=\"text-align: right;\">\n",
       "      <th></th>\n",
       "      <th>President</th>\n",
       "      <th>Party</th>\n",
       "    </tr>\n",
       "    <tr>\n",
       "      <th>Years</th>\n",
       "      <th></th>\n",
       "      <th></th>\n",
       "    </tr>\n",
       "  </thead>\n",
       "  <tbody>\n",
       "    <tr>\n",
       "      <th>1789</th>\n",
       "      <td>George Washington</td>\n",
       "      <td>None</td>\n",
       "    </tr>\n",
       "    <tr>\n",
       "      <th>1790</th>\n",
       "      <td>George Washington</td>\n",
       "      <td>None</td>\n",
       "    </tr>\n",
       "    <tr>\n",
       "      <th>1791</th>\n",
       "      <td>George Washington</td>\n",
       "      <td>None</td>\n",
       "    </tr>\n",
       "    <tr>\n",
       "      <th>1792</th>\n",
       "      <td>George Washington</td>\n",
       "      <td>None</td>\n",
       "    </tr>\n",
       "    <tr>\n",
       "      <th>1793</th>\n",
       "      <td>George Washington</td>\n",
       "      <td>None</td>\n",
       "    </tr>\n",
       "    <tr>\n",
       "      <th>...</th>\n",
       "      <td>...</td>\n",
       "      <td>...</td>\n",
       "    </tr>\n",
       "    <tr>\n",
       "      <th>2016</th>\n",
       "      <td>Barack Obama</td>\n",
       "      <td>Democrat</td>\n",
       "    </tr>\n",
       "    <tr>\n",
       "      <th>2017</th>\n",
       "      <td>Donald Trump</td>\n",
       "      <td>Republican</td>\n",
       "    </tr>\n",
       "    <tr>\n",
       "      <th>2018</th>\n",
       "      <td>Donald Trump</td>\n",
       "      <td>Republican</td>\n",
       "    </tr>\n",
       "    <tr>\n",
       "      <th>2019</th>\n",
       "      <td>Donald Trump</td>\n",
       "      <td>Republican</td>\n",
       "    </tr>\n",
       "    <tr>\n",
       "      <th>2020</th>\n",
       "      <td>Donald Trump</td>\n",
       "      <td>Republican</td>\n",
       "    </tr>\n",
       "  </tbody>\n",
       "</table>\n",
       "<p>234 rows × 2 columns</p>\n",
       "</div>"
      ],
      "text/plain": [
       "               President       Party\n",
       "Years                               \n",
       "1789   George Washington        None\n",
       "1790   George Washington        None\n",
       "1791   George Washington        None\n",
       "1792   George Washington        None\n",
       "1793   George Washington        None\n",
       "...                  ...         ...\n",
       "2016        Barack Obama    Democrat\n",
       "2017        Donald Trump  Republican\n",
       "2018        Donald Trump  Republican\n",
       "2019        Donald Trump  Republican\n",
       "2020        Donald Trump  Republican\n",
       "\n",
       "[234 rows x 2 columns]"
      ]
     },
     "execution_count": 10,
     "metadata": {},
     "output_type": "execute_result"
    }
   ],
   "source": [
    "Presidents"
   ]
  },
  {
   "cell_type": "markdown",
   "id": "3c915cb9",
   "metadata": {},
   "source": [
    "## 연습문제 3\n",
    "- Presidents 행인덱스 중 Address 인덱스와 중복되는 것만 추출하여 Presidents로 생성"
   ]
  },
  {
   "cell_type": "code",
   "execution_count": 18,
   "id": "f2e8cf43",
   "metadata": {},
   "outputs": [
    {
     "data": {
      "text/html": [
       "<div>\n",
       "<style scoped>\n",
       "    .dataframe tbody tr th:only-of-type {\n",
       "        vertical-align: middle;\n",
       "    }\n",
       "\n",
       "    .dataframe tbody tr th {\n",
       "        vertical-align: top;\n",
       "    }\n",
       "\n",
       "    .dataframe thead th {\n",
       "        text-align: right;\n",
       "    }\n",
       "</style>\n",
       "<table border=\"1\" class=\"dataframe\">\n",
       "  <thead>\n",
       "    <tr style=\"text-align: right;\">\n",
       "      <th></th>\n",
       "      <th>President</th>\n",
       "      <th>Party</th>\n",
       "    </tr>\n",
       "    <tr>\n",
       "      <th>Years</th>\n",
       "      <th></th>\n",
       "      <th></th>\n",
       "    </tr>\n",
       "  </thead>\n",
       "  <tbody>\n",
       "    <tr>\n",
       "      <th>1789</th>\n",
       "      <td>George Washington</td>\n",
       "      <td>None</td>\n",
       "    </tr>\n",
       "    <tr>\n",
       "      <th>1793</th>\n",
       "      <td>George Washington</td>\n",
       "      <td>None</td>\n",
       "    </tr>\n",
       "    <tr>\n",
       "      <th>1797</th>\n",
       "      <td>John Adams</td>\n",
       "      <td>Federalist</td>\n",
       "    </tr>\n",
       "    <tr>\n",
       "      <th>1801</th>\n",
       "      <td>Thomas Jefferson</td>\n",
       "      <td>Democratic-Republican</td>\n",
       "    </tr>\n",
       "    <tr>\n",
       "      <th>1805</th>\n",
       "      <td>Thomas Jefferson</td>\n",
       "      <td>Democratic-Republican</td>\n",
       "    </tr>\n",
       "  </tbody>\n",
       "</table>\n",
       "</div>"
      ],
      "text/plain": [
       "               President                  Party\n",
       "Years                                          \n",
       "1789   George Washington                   None\n",
       "1793   George Washington                   None\n",
       "1797          John Adams             Federalist\n",
       "1801    Thomas Jefferson  Democratic-Republican\n",
       "1805    Thomas Jefferson  Democratic-Republican"
      ]
     },
     "execution_count": 18,
     "metadata": {},
     "output_type": "execute_result"
    }
   ],
   "source": [
    "Presidents = Presidents.loc[Address.index.astype('i')]\n",
    "Presidents.head()"
   ]
  },
  {
   "cell_type": "markdown",
   "id": "fde81129",
   "metadata": {},
   "source": [
    "## 연습문제 4\n",
    "- 데이터프레임 Presidents를 아래와 같은 PresidentsParty.txt 파일로 저장하시오."
   ]
  },
  {
   "cell_type": "code",
   "execution_count": 19,
   "id": "91c440c8",
   "metadata": {},
   "outputs": [],
   "source": [
    "Presidents.to_csv('PresidentsParty.txt',sep='\\t')"
   ]
  },
  {
   "cell_type": "markdown",
   "id": "11f43efd",
   "metadata": {},
   "source": [
    "## 명목척도 : 기술통계량"
   ]
  },
  {
   "cell_type": "code",
   "execution_count": 20,
   "id": "632a56e4",
   "metadata": {},
   "outputs": [
    {
     "data": {
      "text/html": [
       "<div>\n",
       "<style scoped>\n",
       "    .dataframe tbody tr th:only-of-type {\n",
       "        vertical-align: middle;\n",
       "    }\n",
       "\n",
       "    .dataframe tbody tr th {\n",
       "        vertical-align: top;\n",
       "    }\n",
       "\n",
       "    .dataframe thead th {\n",
       "        text-align: right;\n",
       "    }\n",
       "</style>\n",
       "<table border=\"1\" class=\"dataframe\">\n",
       "  <thead>\n",
       "    <tr style=\"text-align: right;\">\n",
       "      <th></th>\n",
       "      <th>President</th>\n",
       "      <th>Party</th>\n",
       "    </tr>\n",
       "  </thead>\n",
       "  <tbody>\n",
       "    <tr>\n",
       "      <th>count</th>\n",
       "      <td>60</td>\n",
       "      <td>60</td>\n",
       "    </tr>\n",
       "    <tr>\n",
       "      <th>unique</th>\n",
       "      <td>42</td>\n",
       "      <td>7</td>\n",
       "    </tr>\n",
       "    <tr>\n",
       "      <th>top</th>\n",
       "      <td>Franklin Roosevelt</td>\n",
       "      <td>Republican</td>\n",
       "    </tr>\n",
       "    <tr>\n",
       "      <th>freq</th>\n",
       "      <td>3</td>\n",
       "      <td>24</td>\n",
       "    </tr>\n",
       "  </tbody>\n",
       "</table>\n",
       "</div>"
      ],
      "text/plain": [
       "                 President       Party\n",
       "count                   60          60\n",
       "unique                  42           7\n",
       "top     Franklin Roosevelt  Republican\n",
       "freq                     3          24"
      ]
     },
     "execution_count": 20,
     "metadata": {},
     "output_type": "execute_result"
    }
   ],
   "source": [
    "Presidents.describe() # unique 서로 다른 갯수"
   ]
  },
  {
   "cell_type": "markdown",
   "id": "38991070",
   "metadata": {},
   "source": [
    "## 연습문제 5\n",
    "- 데이터프레임 Presidents의 Presidents 칼럼을 이용하여 기술 통계를 제시한다면 적절한 차트는 무엇인가? 적절한 차트를 선택하여 차트를 생성하시오."
   ]
  },
  {
   "cell_type": "code",
   "execution_count": 24,
   "id": "0fb8475f",
   "metadata": {},
   "outputs": [
    {
     "data": {
      "text/plain": [
       "<AxesSubplot:ylabel='President'>"
      ]
     },
     "execution_count": 24,
     "metadata": {},
     "output_type": "execute_result"
    },
    {
     "data": {
      "image/png": "[encoded data removed]",
      "text/plain": [
       "<Figure size 432x288 with 1 Axes>"
      ]
     },
     "metadata": {},
     "output_type": "display_data"
    }
   ],
   "source": [
    "%matplotlib inline\n",
    "import matplotlib.pyplot as plt\n",
    "Presidents['President'].value_counts().plot.pie()\n",
    "# 매우 보기 힘듬"
   ]
  },
  {
   "cell_type": "code",
   "execution_count": 28,
   "id": "8fc6f144",
   "metadata": {},
   "outputs": [
    {
     "data": {
      "text/plain": [
       "([<matplotlib.axis.YTick at 0x29214254a90>,\n",
       "  <matplotlib.axis.YTick at 0x29214254310>,\n",
       "  <matplotlib.axis.YTick at 0x29214238100>,\n",
       "  <matplotlib.axis.YTick at 0x292152fa3a0>],\n",
       " [Text(0, 0, ''), Text(0, 0, ''), Text(0, 0, ''), Text(0, 0, '')])"
      ]
     },
     "execution_count": 28,
     "metadata": {},
     "output_type": "execute_result"
    },
    {
     "data": {
      "image/png": "[encoded data removed]",
      "text/plain": [
       "<Figure size 576x216 with 1 Axes>"
      ]
     },
     "metadata": {
      "needs_background": "light"
     },
     "output_type": "display_data"
    }
   ],
   "source": [
    "Presidents['President'].value_counts().plot.bar(figsize=(8,3))\n",
    "plt.yticks(range(4)) # 빈도수 정리 완료"
   ]
  },
  {
   "cell_type": "markdown",
   "id": "e9ffa8af",
   "metadata": {},
   "source": [
    "## 연습문제 6\n",
    "- 데이터프레임 Presidents의 President 칼럼을 이용하여 다음과 같이 동일 인명 대통령 취임 횟수를 산출하여 차트를 생성하시오."
   ]
  },
  {
   "cell_type": "code",
   "execution_count": 32,
   "id": "264243a6",
   "metadata": {},
   "outputs": [
    {
     "data": {
      "text/plain": [
       "1    25\n",
       "2    16\n",
       "3     1\n",
       "Name: President, dtype: int64"
      ]
     },
     "execution_count": 32,
     "metadata": {},
     "output_type": "execute_result"
    }
   ],
   "source": [
    "Presidents['President'].value_counts().value_counts()\n",
    "# 빈도값에 대한 빈도 합계 counts된 결과"
   ]
  },
  {
   "cell_type": "code",
   "execution_count": 39,
   "id": "ec905252",
   "metadata": {},
   "outputs": [
    {
     "data": {
      "text/plain": [
       "([<matplotlib.axis.XTick at 0x29217cc7d90>,\n",
       "  <matplotlib.axis.XTick at 0x29217cc7fa0>,\n",
       "  <matplotlib.axis.XTick at 0x2921800b1f0>],\n",
       " [Text(0, 0, '1회'), Text(1, 0, '2회'), Text(2, 0, '3회')])"
      ]
     },
     "execution_count": 39,
     "metadata": {},
     "output_type": "execute_result"
    },
    {
     "data": {
      "image/png": "[encoded data removed]",
      "text/plain": [
       "<Figure size 432x288 with 2 Axes>"
      ]
     },
     "metadata": {
      "needs_background": "light"
     },
     "output_type": "display_data"
    }
   ],
   "source": [
    "a = Presidents['President'].value_counts().value_counts()\n",
    "plt.rcParams['font.family'] = 'Malgun Gothic'\n",
    "plt.subplot(1,2,1)\n",
    "a.plot.pie(labels=[str(i) + '회' for i in a.index],\n",
    "          autopct = '%0.2f%%') # 분포 상대 비율 %0.2f로 하고 %% 퍼센티지 백분율 적용\n",
    "plt.subplot(1,2,2)\n",
    "a.plot.bar()\n",
    "plt.xticks(range(3), [str(i) + '회' for i in a.index])"
   ]
  },
  {
   "cell_type": "markdown",
   "id": "2ae24b77",
   "metadata": {},
   "source": [
    "## 연습문제 7\n",
    "- 데이터프레임 Presidents의 President 칼럼을 이용하여 다음과 같이 '최장 재임 미국 대통령'과 '2회 연임 미국 대통령'을 추출하여 함수 print를 이용하여 출력하시오"
   ]
  },
  {
   "cell_type": "code",
   "execution_count": 40,
   "id": "de06fc97",
   "metadata": {},
   "outputs": [
    {
     "name": "stdout",
     "output_type": "stream",
     "text": [
      "최장 재임 미국 대통령 :  Franklin Roosevelt\n"
     ]
    }
   ],
   "source": [
    "print('최장 재임 미국 대통령 : ',Presidents['President'].value_counts().idxmax())"
   ]
  },
  {
   "cell_type": "code",
   "execution_count": 47,
   "id": "31d884a8",
   "metadata": {},
   "outputs": [
    {
     "name": "stdout",
     "output_type": "stream",
     "text": [
      "2회 연임 미국 대통령:\n",
      "George W. Bush\n",
      "Grover Cleveland\n",
      "Bill Clinton\n",
      "Dwight D. Eisenhower\n",
      "Ulysses S. Grant\n",
      "Andrew Jackson\n",
      "Thomas Jefferson\n",
      "James Madison\n",
      "James Monroe\n",
      "Richard M. Nixon\n",
      "Barack Obama\n",
      "Ronald Reagan\n",
      "Theodore Roosevelt\n",
      "Harry S. Truman\n",
      "George Washington\n",
      "Woodrow Wilson\n"
     ]
    }
   ],
   "source": [
    "a = Presidents['President'].value_counts()\n",
    "b = [' '.join(j) for j in sorted([i.split()\n",
    "                                for i in a[a==2].index],\n",
    "                                key = lambda x : x[-1])]\n",
    "print('2회 연임 미국 대통령:\\n' + '\\n'.join(b))"
   ]
  },
  {
   "cell_type": "markdown",
   "id": "669bfddc",
   "metadata": {},
   "source": [
    "## isin"
   ]
  },
  {
   "cell_type": "code",
   "execution_count": 48,
   "id": "1a0c5882",
   "metadata": {},
   "outputs": [
    {
     "data": {
      "text/html": [
       "<div>\n",
       "<style scoped>\n",
       "    .dataframe tbody tr th:only-of-type {\n",
       "        vertical-align: middle;\n",
       "    }\n",
       "\n",
       "    .dataframe tbody tr th {\n",
       "        vertical-align: top;\n",
       "    }\n",
       "\n",
       "    .dataframe thead th {\n",
       "        text-align: right;\n",
       "    }\n",
       "</style>\n",
       "<table border=\"1\" class=\"dataframe\">\n",
       "  <thead>\n",
       "    <tr style=\"text-align: right;\">\n",
       "      <th></th>\n",
       "      <th>President</th>\n",
       "      <th>Party</th>\n",
       "    </tr>\n",
       "    <tr>\n",
       "      <th>Years</th>\n",
       "      <th></th>\n",
       "      <th></th>\n",
       "    </tr>\n",
       "  </thead>\n",
       "  <tbody>\n",
       "    <tr>\n",
       "      <th>1789</th>\n",
       "      <td>George Washington</td>\n",
       "      <td>None</td>\n",
       "    </tr>\n",
       "    <tr>\n",
       "      <th>1793</th>\n",
       "      <td>George Washington</td>\n",
       "      <td>None</td>\n",
       "    </tr>\n",
       "    <tr>\n",
       "      <th>1801</th>\n",
       "      <td>Thomas Jefferson</td>\n",
       "      <td>Democratic-Republican</td>\n",
       "    </tr>\n",
       "    <tr>\n",
       "      <th>1805</th>\n",
       "      <td>Thomas Jefferson</td>\n",
       "      <td>Democratic-Republican</td>\n",
       "    </tr>\n",
       "    <tr>\n",
       "      <th>1809</th>\n",
       "      <td>James Madison</td>\n",
       "      <td>Democratic-Republican</td>\n",
       "    </tr>\n",
       "    <tr>\n",
       "      <th>1813</th>\n",
       "      <td>James Madison</td>\n",
       "      <td>Democratic-Republican</td>\n",
       "    </tr>\n",
       "    <tr>\n",
       "      <th>1817</th>\n",
       "      <td>James Monroe</td>\n",
       "      <td>Democratic-Republican</td>\n",
       "    </tr>\n",
       "    <tr>\n",
       "      <th>1821</th>\n",
       "      <td>James Monroe</td>\n",
       "      <td>Democratic-Republican</td>\n",
       "    </tr>\n",
       "    <tr>\n",
       "      <th>1829</th>\n",
       "      <td>Andrew Jackson</td>\n",
       "      <td>Democrat</td>\n",
       "    </tr>\n",
       "    <tr>\n",
       "      <th>1833</th>\n",
       "      <td>Andrew Jackson</td>\n",
       "      <td>Democrat</td>\n",
       "    </tr>\n",
       "    <tr>\n",
       "      <th>1869</th>\n",
       "      <td>Ulysses S. Grant</td>\n",
       "      <td>Republican</td>\n",
       "    </tr>\n",
       "    <tr>\n",
       "      <th>1873</th>\n",
       "      <td>Ulysses S. Grant</td>\n",
       "      <td>Republican</td>\n",
       "    </tr>\n",
       "    <tr>\n",
       "      <th>1885</th>\n",
       "      <td>Grover Cleveland</td>\n",
       "      <td>Democrat</td>\n",
       "    </tr>\n",
       "    <tr>\n",
       "      <th>1893</th>\n",
       "      <td>Grover Cleveland</td>\n",
       "      <td>Democrat</td>\n",
       "    </tr>\n",
       "    <tr>\n",
       "      <th>1901</th>\n",
       "      <td>Theodore Roosevelt</td>\n",
       "      <td>Republican</td>\n",
       "    </tr>\n",
       "    <tr>\n",
       "      <th>1905</th>\n",
       "      <td>Theodore Roosevelt</td>\n",
       "      <td>Republican</td>\n",
       "    </tr>\n",
       "    <tr>\n",
       "      <th>1913</th>\n",
       "      <td>Woodrow Wilson</td>\n",
       "      <td>Democrat</td>\n",
       "    </tr>\n",
       "    <tr>\n",
       "      <th>1917</th>\n",
       "      <td>Woodrow Wilson</td>\n",
       "      <td>Democrat</td>\n",
       "    </tr>\n",
       "    <tr>\n",
       "      <th>1945</th>\n",
       "      <td>Harry S. Truman</td>\n",
       "      <td>Democrat</td>\n",
       "    </tr>\n",
       "    <tr>\n",
       "      <th>1949</th>\n",
       "      <td>Harry S. Truman</td>\n",
       "      <td>Democrat</td>\n",
       "    </tr>\n",
       "    <tr>\n",
       "      <th>1953</th>\n",
       "      <td>Dwight D. Eisenhower</td>\n",
       "      <td>Republican</td>\n",
       "    </tr>\n",
       "    <tr>\n",
       "      <th>1957</th>\n",
       "      <td>Dwight D. Eisenhower</td>\n",
       "      <td>Republican</td>\n",
       "    </tr>\n",
       "    <tr>\n",
       "      <th>1969</th>\n",
       "      <td>Richard M. Nixon</td>\n",
       "      <td>Republican</td>\n",
       "    </tr>\n",
       "    <tr>\n",
       "      <th>1973</th>\n",
       "      <td>Richard M. Nixon</td>\n",
       "      <td>Republican</td>\n",
       "    </tr>\n",
       "    <tr>\n",
       "      <th>1981</th>\n",
       "      <td>Ronald Reagan</td>\n",
       "      <td>Republican</td>\n",
       "    </tr>\n",
       "    <tr>\n",
       "      <th>1985</th>\n",
       "      <td>Ronald Reagan</td>\n",
       "      <td>Republican</td>\n",
       "    </tr>\n",
       "    <tr>\n",
       "      <th>1993</th>\n",
       "      <td>Bill Clinton</td>\n",
       "      <td>Democrat</td>\n",
       "    </tr>\n",
       "    <tr>\n",
       "      <th>1997</th>\n",
       "      <td>Bill Clinton</td>\n",
       "      <td>Democrat</td>\n",
       "    </tr>\n",
       "    <tr>\n",
       "      <th>2001</th>\n",
       "      <td>George W. Bush</td>\n",
       "      <td>Republican</td>\n",
       "    </tr>\n",
       "    <tr>\n",
       "      <th>2005</th>\n",
       "      <td>George W. Bush</td>\n",
       "      <td>Republican</td>\n",
       "    </tr>\n",
       "    <tr>\n",
       "      <th>2009</th>\n",
       "      <td>Barack Obama</td>\n",
       "      <td>Democrat</td>\n",
       "    </tr>\n",
       "    <tr>\n",
       "      <th>2013</th>\n",
       "      <td>Barack Obama</td>\n",
       "      <td>Democrat</td>\n",
       "    </tr>\n",
       "  </tbody>\n",
       "</table>\n",
       "</div>"
      ],
      "text/plain": [
       "                  President                  Party\n",
       "Years                                             \n",
       "1789      George Washington                   None\n",
       "1793      George Washington                   None\n",
       "1801       Thomas Jefferson  Democratic-Republican\n",
       "1805       Thomas Jefferson  Democratic-Republican\n",
       "1809          James Madison  Democratic-Republican\n",
       "1813          James Madison  Democratic-Republican\n",
       "1817           James Monroe  Democratic-Republican\n",
       "1821           James Monroe  Democratic-Republican\n",
       "1829         Andrew Jackson               Democrat\n",
       "1833         Andrew Jackson               Democrat\n",
       "1869       Ulysses S. Grant             Republican\n",
       "1873       Ulysses S. Grant             Republican\n",
       "1885       Grover Cleveland               Democrat\n",
       "1893       Grover Cleveland               Democrat\n",
       "1901     Theodore Roosevelt             Republican\n",
       "1905     Theodore Roosevelt             Republican\n",
       "1913         Woodrow Wilson               Democrat\n",
       "1917         Woodrow Wilson               Democrat\n",
       "1945        Harry S. Truman               Democrat\n",
       "1949        Harry S. Truman               Democrat\n",
       "1953   Dwight D. Eisenhower             Republican\n",
       "1957   Dwight D. Eisenhower             Republican\n",
       "1969       Richard M. Nixon             Republican\n",
       "1973       Richard M. Nixon             Republican\n",
       "1981          Ronald Reagan             Republican\n",
       "1985          Ronald Reagan             Republican\n",
       "1993           Bill Clinton               Democrat\n",
       "1997           Bill Clinton               Democrat\n",
       "2001         George W. Bush             Republican\n",
       "2005         George W. Bush             Republican\n",
       "2009           Barack Obama               Democrat\n",
       "2013           Barack Obama               Democrat"
      ]
     },
     "execution_count": 48,
     "metadata": {},
     "output_type": "execute_result"
    }
   ],
   "source": [
    "a = Presidents['President'].value_counts()\n",
    "Presidents[Presidents.President.isin(a[a==2].index)]"
   ]
  },
  {
   "cell_type": "code",
   "execution_count": 49,
   "id": "5f87c300",
   "metadata": {},
   "outputs": [
    {
     "data": {
      "text/html": [
       "<div>\n",
       "<style scoped>\n",
       "    .dataframe tbody tr th:only-of-type {\n",
       "        vertical-align: middle;\n",
       "    }\n",
       "\n",
       "    .dataframe tbody tr th {\n",
       "        vertical-align: top;\n",
       "    }\n",
       "\n",
       "    .dataframe thead th {\n",
       "        text-align: right;\n",
       "    }\n",
       "</style>\n",
       "<table border=\"1\" class=\"dataframe\">\n",
       "  <thead>\n",
       "    <tr style=\"text-align: right;\">\n",
       "      <th></th>\n",
       "      <th>President</th>\n",
       "      <th>Party</th>\n",
       "    </tr>\n",
       "    <tr>\n",
       "      <th>Years</th>\n",
       "      <th></th>\n",
       "      <th></th>\n",
       "    </tr>\n",
       "  </thead>\n",
       "  <tbody>\n",
       "    <tr>\n",
       "      <th>1797</th>\n",
       "      <td>John Adams</td>\n",
       "      <td>Federalist</td>\n",
       "    </tr>\n",
       "    <tr>\n",
       "      <th>1825</th>\n",
       "      <td>John Quincy Adams</td>\n",
       "      <td>Democratic-Republican</td>\n",
       "    </tr>\n",
       "    <tr>\n",
       "      <th>1837</th>\n",
       "      <td>Martin Van Buren</td>\n",
       "      <td>Democrat</td>\n",
       "    </tr>\n",
       "    <tr>\n",
       "      <th>1841</th>\n",
       "      <td>William Henry Harrison</td>\n",
       "      <td>Whig</td>\n",
       "    </tr>\n",
       "    <tr>\n",
       "      <th>1841</th>\n",
       "      <td>John Tyler</td>\n",
       "      <td>Whig</td>\n",
       "    </tr>\n",
       "    <tr>\n",
       "      <th>1845</th>\n",
       "      <td>James K. Polk</td>\n",
       "      <td>Democrat</td>\n",
       "    </tr>\n",
       "    <tr>\n",
       "      <th>1849</th>\n",
       "      <td>Zachary Taylor</td>\n",
       "      <td>Whig</td>\n",
       "    </tr>\n",
       "    <tr>\n",
       "      <th>1853</th>\n",
       "      <td>Franklin Pierce</td>\n",
       "      <td>Democrat</td>\n",
       "    </tr>\n",
       "    <tr>\n",
       "      <th>1857</th>\n",
       "      <td>James Buchanan</td>\n",
       "      <td>Democrat</td>\n",
       "    </tr>\n",
       "    <tr>\n",
       "      <th>1861</th>\n",
       "      <td>Abraham Lincoln</td>\n",
       "      <td>Republican</td>\n",
       "    </tr>\n",
       "    <tr>\n",
       "      <th>1865</th>\n",
       "      <td>Andrew Johnson</td>\n",
       "      <td>National Union</td>\n",
       "    </tr>\n",
       "    <tr>\n",
       "      <th>1877</th>\n",
       "      <td>Rutherford B. Hayes</td>\n",
       "      <td>Republican</td>\n",
       "    </tr>\n",
       "    <tr>\n",
       "      <th>1881</th>\n",
       "      <td>James A. Garfield</td>\n",
       "      <td>Republican</td>\n",
       "    </tr>\n",
       "    <tr>\n",
       "      <th>1881</th>\n",
       "      <td>Chester A. Arthur</td>\n",
       "      <td>Republican</td>\n",
       "    </tr>\n",
       "    <tr>\n",
       "      <th>1889</th>\n",
       "      <td>Benjamin Harrison</td>\n",
       "      <td>Republican</td>\n",
       "    </tr>\n",
       "    <tr>\n",
       "      <th>1897</th>\n",
       "      <td>William McKinley</td>\n",
       "      <td>Republican</td>\n",
       "    </tr>\n",
       "    <tr>\n",
       "      <th>1909</th>\n",
       "      <td>William Howard Taft</td>\n",
       "      <td>Republican</td>\n",
       "    </tr>\n",
       "    <tr>\n",
       "      <th>1921</th>\n",
       "      <td>Warren G. Harding</td>\n",
       "      <td>Republican</td>\n",
       "    </tr>\n",
       "    <tr>\n",
       "      <th>1925</th>\n",
       "      <td>Calvin Coolidge</td>\n",
       "      <td>Republican</td>\n",
       "    </tr>\n",
       "    <tr>\n",
       "      <th>1929</th>\n",
       "      <td>Herbert Hoover</td>\n",
       "      <td>Republican</td>\n",
       "    </tr>\n",
       "    <tr>\n",
       "      <th>1933</th>\n",
       "      <td>Franklin Roosevelt</td>\n",
       "      <td>Democrat</td>\n",
       "    </tr>\n",
       "    <tr>\n",
       "      <th>1937</th>\n",
       "      <td>Franklin Roosevelt</td>\n",
       "      <td>Democrat</td>\n",
       "    </tr>\n",
       "    <tr>\n",
       "      <th>1941</th>\n",
       "      <td>Franklin Roosevelt</td>\n",
       "      <td>Democrat</td>\n",
       "    </tr>\n",
       "    <tr>\n",
       "      <th>1961</th>\n",
       "      <td>John F. Kennedy</td>\n",
       "      <td>Democrat</td>\n",
       "    </tr>\n",
       "    <tr>\n",
       "      <th>1965</th>\n",
       "      <td>Lyndon B. Johnson</td>\n",
       "      <td>Democrat</td>\n",
       "    </tr>\n",
       "    <tr>\n",
       "      <th>1977</th>\n",
       "      <td>Jimmy Carter</td>\n",
       "      <td>Democrat</td>\n",
       "    </tr>\n",
       "    <tr>\n",
       "      <th>1989</th>\n",
       "      <td>George Bush</td>\n",
       "      <td>Republican</td>\n",
       "    </tr>\n",
       "    <tr>\n",
       "      <th>2017</th>\n",
       "      <td>Donald Trump</td>\n",
       "      <td>Republican</td>\n",
       "    </tr>\n",
       "  </tbody>\n",
       "</table>\n",
       "</div>"
      ],
      "text/plain": [
       "                    President                  Party\n",
       "Years                                               \n",
       "1797               John Adams             Federalist\n",
       "1825        John Quincy Adams  Democratic-Republican\n",
       "1837         Martin Van Buren               Democrat\n",
       "1841   William Henry Harrison                   Whig\n",
       "1841               John Tyler                   Whig\n",
       "1845            James K. Polk               Democrat\n",
       "1849           Zachary Taylor                   Whig\n",
       "1853          Franklin Pierce               Democrat\n",
       "1857           James Buchanan               Democrat\n",
       "1861          Abraham Lincoln             Republican\n",
       "1865           Andrew Johnson         National Union\n",
       "1877      Rutherford B. Hayes             Republican\n",
       "1881        James A. Garfield             Republican\n",
       "1881        Chester A. Arthur             Republican\n",
       "1889        Benjamin Harrison             Republican\n",
       "1897         William McKinley             Republican\n",
       "1909      William Howard Taft             Republican\n",
       "1921        Warren G. Harding             Republican\n",
       "1925          Calvin Coolidge             Republican\n",
       "1929           Herbert Hoover             Republican\n",
       "1933       Franklin Roosevelt               Democrat\n",
       "1937       Franklin Roosevelt               Democrat\n",
       "1941       Franklin Roosevelt               Democrat\n",
       "1961          John F. Kennedy               Democrat\n",
       "1965        Lyndon B. Johnson               Democrat\n",
       "1977             Jimmy Carter               Democrat\n",
       "1989              George Bush             Republican\n",
       "2017             Donald Trump             Republican"
      ]
     },
     "execution_count": 49,
     "metadata": {},
     "output_type": "execute_result"
    }
   ],
   "source": [
    "Presidents[~Presidents.President.isin(a[a==2].index)]"
   ]
  }
 ],
 "metadata": {
  "kernelspec": {
   "display_name": "Python 3",
   "language": "python",
   "name": "python3"
  },
  "language_info": {
   "codemirror_mode": {
    "name": "ipython",
    "version": 3
   },
   "file_extension": ".py",
   "mimetype": "text/x-python",
   "name": "python",
   "nbconvert_exporter": "python",
   "pygments_lexer": "ipython3",
   "version": "3.8.8"
  }
 },
 "nbformat": 4,
 "nbformat_minor": 5
}
