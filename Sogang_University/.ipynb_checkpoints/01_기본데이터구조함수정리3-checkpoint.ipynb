{
 "cells": [
  {
   "cell_type": "code",
   "execution_count": 2,
   "id": "f73a9e5f",
   "metadata": {},
   "outputs": [
    {
     "name": "stdout",
     "output_type": "stream",
     "text": [
      "[0, 1, 4, 9, 16, 25, 36, 49, 64, 81]\n"
     ]
    }
   ],
   "source": [
    "lst = [i * i for i in range(10)]\n",
    "print(lst)"
   ]
  },
  {
   "cell_type": "code",
   "execution_count": 4,
   "id": "d11f7084",
   "metadata": {},
   "outputs": [
    {
     "data": {
      "text/plain": [
       "[(1, 'a'), (1, 'b'), (1, 'c'), (3, 'a'), (3, 'b'), (3, 'c')]"
      ]
     },
     "execution_count": 4,
     "metadata": {},
     "output_type": "execute_result"
    }
   ],
   "source": [
    "[(x,y) for x in range(1,5) if x % 2 == 1 for y in 'abc']"
   ]
  },
  {
   "cell_type": "code",
   "execution_count": 7,
   "id": "de6ac84a",
   "metadata": {},
   "outputs": [
    {
     "data": {
      "text/plain": [
       "['go', 'went', 'do', 'did']"
      ]
     },
     "execution_count": 7,
     "metadata": {},
     "output_type": "execute_result"
    }
   ],
   "source": [
    "[x[:-3] if x.endswith('ing') else x\n",
    "    for x in ['going','went','doing','did']]"
   ]
  },
  {
   "cell_type": "code",
   "execution_count": 9,
   "id": "efa5e3c7",
   "metadata": {},
   "outputs": [
    {
     "data": {
      "text/plain": [
       "['walk', 'walk', 'walk']"
      ]
     },
     "execution_count": 9,
     "metadata": {},
     "output_type": "execute_result"
    }
   ],
   "source": [
    "[x[:-1] if x.endswith('s') else x[:-2] if x.endswith('ed') else x for x in ['walks','walked','walk']]"
   ]
  },
  {
   "cell_type": "code",
   "execution_count": 11,
   "id": "81b531d6",
   "metadata": {},
   "outputs": [
    {
     "data": {
      "text/plain": [
       "<generator object <genexpr> at 0x0000029DDCDCEC10>"
      ]
     },
     "execution_count": 11,
     "metadata": {},
     "output_type": "execute_result"
    }
   ],
   "source": [
    "# generator 메모리 절약\n",
    "(i for i in range(5))"
   ]
  },
  {
   "cell_type": "code",
   "execution_count": 12,
   "id": "848bc076",
   "metadata": {},
   "outputs": [
    {
     "data": {
      "text/plain": [
       "(0, 1, 2, 3, 4)"
      ]
     },
     "execution_count": 12,
     "metadata": {},
     "output_type": "execute_result"
    }
   ],
   "source": [
    "# tuple\n",
    "tuple(i for i in range(5))"
   ]
  },
  {
   "cell_type": "code",
   "execution_count": 14,
   "id": "e6864efa",
   "metadata": {},
   "outputs": [
    {
     "data": {
      "text/plain": [
       "{0, 1, 2, 3, 4}"
      ]
     },
     "execution_count": 14,
     "metadata": {},
     "output_type": "execute_result"
    }
   ],
   "source": [
    "{i for i in range(5)}"
   ]
  },
  {
   "cell_type": "code",
   "execution_count": 16,
   "id": "f962e3bf",
   "metadata": {},
   "outputs": [
    {
     "data": {
      "text/plain": [
       "{0: 0, 1: 1, 2: 4, 3: 9, 4: 16}"
      ]
     },
     "execution_count": 16,
     "metadata": {},
     "output_type": "execute_result"
    }
   ],
   "source": [
    "{i:i*i for i in range(5)}"
   ]
  },
  {
   "cell_type": "markdown",
   "id": "6d8c054f",
   "metadata": {},
   "source": [
    "### 연습문제 1\n",
    "##### 리스트 Female, Male의 두 원소로 구성된 튜플을 원소로 하는 리스트 names 출력하기. 튜플의 첫 원소를 Female의 원소로, 둘째 원소를 Male의 원소로 출력하기 위한 네모 칸에 들어갈 한 줄 코드는?"
   ]
  },
  {
   "cell_type": "code",
   "execution_count": 22,
   "id": "870eba1b",
   "metadata": {},
   "outputs": [
    {
     "data": {
      "text/plain": [
       "[('Susie', 'Tom'),\n",
       " ('Susie', 'Billy'),\n",
       " ('Susie', 'Jefferson'),\n",
       " ('Eva', 'Tom'),\n",
       " ('Eva', 'Billy'),\n",
       " ('Eva', 'Jefferson'),\n",
       " ('Stephanie', 'Tom'),\n",
       " ('Stephanie', 'Billy'),\n",
       " ('Stephanie', 'Jefferson')]"
      ]
     },
     "execution_count": 22,
     "metadata": {},
     "output_type": "execute_result"
    }
   ],
   "source": [
    "Female = ['Susie','Eva','Stephanie']\n",
    "Male = ['Tom','Billy','Jefferson']\n",
    "names = [(i,j) for i in Female for j in Male]\n",
    "names"
   ]
  },
  {
   "cell_type": "markdown",
   "id": "c5fb1939",
   "metadata": {},
   "source": [
    "### 연습문제 2\n",
    "##### 리스트 Female, Male 중 문자열 길이가 긴 원소와 문자열 길이를 첫 튜플로, 문자열 길이가 짧은 원소와 문자열 길이를 둘째 튜플(단,Female과 Male 원소의 문자열 길이가 같을 경우 Female 원소가 첫 원소)로 하는 튜플을 원소로 산출하는 리스트 names를 출력하기 위한 들어갈 한 줄 코드는?"
   ]
  },
  {
   "cell_type": "code",
   "execution_count": 25,
   "id": "e7a1493d",
   "metadata": {},
   "outputs": [
    {
     "data": {
      "text/plain": [
       "[(('Susie', 5), ('Tom', 3)),\n",
       " (('Susie', 5), ('Billy', 5)),\n",
       " (('Jefferson', 9), ('Susie', 5)),\n",
       " (('Eva', 3), ('Tom', 3)),\n",
       " (('Billy', 5), ('Eva', 3)),\n",
       " (('Jefferson', 9), ('Eva', 3)),\n",
       " (('Stephanie', 9), ('Tom', 3)),\n",
       " (('Stephanie', 9), ('Billy', 5)),\n",
       " (('Stephanie', 9), ('Jefferson', 9))]"
      ]
     },
     "execution_count": 25,
     "metadata": {},
     "output_type": "execute_result"
    }
   ],
   "source": [
    "Female = ['Susie','Eva','Stephanie']\n",
    "Male = ['Tom','Billy','Jefferson']\n",
    "names = [((i, len(i)), (j,len(j))) if len(i) >= len(j)\n",
    "         else ((j,len(j)),(i,len(i))) for i in Female for j in Male]\n",
    "names"
   ]
  },
  {
   "cell_type": "markdown",
   "id": "67fe398c",
   "metadata": {},
   "source": [
    "### 연습문제 3\n",
    "##### names 를  out.txt 파일로 출력"
   ]
  },
  {
   "cell_type": "code",
   "execution_count": 26,
   "id": "87e52b95",
   "metadata": {},
   "outputs": [],
   "source": [
    "f = open('out.txt','w').write('\\n'.join(i[0]+':'+j[0]+' = '+str(i[1])+':'+str(j[1]) for i,j in names))"
   ]
  }
 ],
 "metadata": {
  "kernelspec": {
   "display_name": "Python 3",
   "language": "python",
   "name": "python3"
  },
  "language_info": {
   "codemirror_mode": {
    "name": "ipython",
    "version": 3
   },
   "file_extension": ".py",
   "mimetype": "text/x-python",
   "name": "python",
   "nbconvert_exporter": "python",
   "pygments_lexer": "ipython3",
   "version": "3.8.8"
  }
 },
 "nbformat": 4,
 "nbformat_minor": 5
}
