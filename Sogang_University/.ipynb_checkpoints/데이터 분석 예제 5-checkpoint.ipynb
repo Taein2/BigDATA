{
 "cells": [
  {
   "cell_type": "markdown",
   "id": "0bea640f",
   "metadata": {},
   "source": [
    "## America vs Freedom\n",
    "- 관찰 결과\n",
    "1. America : 1900 <= I < 1950 과 1950 <= II 중앙값 통계적 유의미한 차이\n",
    "2. Freedom : 20C평균 / 중앙값 통계적 차이가 없음\n",
    "\n",
    "    \n",
    "- 미국 \n",
    "1. 1861 ~ 1965 남북전쟁\n",
    "2. 1939 ~ 1945 2차 대전, 1941 미국 참전"
   ]
  },
  {
   "cell_type": "markdown",
   "id": "643e844d",
   "metadata": {},
   "source": [
    "## 연습문제 1\n",
    "- AmericaFreedom.txt 파일을 데이터프레임 Address로 불러오시오."
   ]
  },
  {
   "cell_type": "code",
   "execution_count": 2,
   "id": "03db1154",
   "metadata": {},
   "outputs": [],
   "source": [
    "import pandas as pd\n",
    "Address = pd.read_csv('AmericaFreedom.txt',sep='\\t',index_col=0)"
   ]
  },
  {
   "cell_type": "markdown",
   "id": "ebf6227e",
   "metadata": {},
   "source": [
    "## 연습문제 2\n",
    "- 데이터프레임 Address의 Freedom 컬럼에 cumsum을 적용한 후 다음의 line chart를 만드시오."
   ]
  },
  {
   "cell_type": "code",
   "execution_count": 4,
   "id": "f0a2fb1d",
   "metadata": {},
   "outputs": [
    {
     "data": {
      "text/plain": [
       "<matplotlib.collections.LineCollection at 0x22aebdc6a60>"
      ]
     },
     "execution_count": 4,
     "metadata": {},
     "output_type": "execute_result"
    },
    {
     "data": {
      "image/png": "[encoded data removed]",
      "text/plain": [
       "<Figure size 432x288 with 1 Axes>"
      ]
     },
     "metadata": {
      "needs_background": "light"
     },
     "output_type": "display_data"
    }
   ],
   "source": [
    "%matplotlib inline\n",
    "import matplotlib.pyplot as plt\n",
    "a = Address.Freedom.cumsum()\n",
    "plt.rcParams['font.family'] = 'Malgun Gothic'\n",
    "a.plot()\n",
    "plt.title('Freedom 누적분포')\n",
    "plt.xticks([Address.index[0], 1861, 1939, Address.index[-1]],\n",
    "          rotation=90)\n",
    "plt.vlines([1861,1939],0,a.max(), linestyle=':')"
   ]
  },
  {
   "cell_type": "markdown",
   "id": "d68dcf9b",
   "metadata": {},
   "source": [
    "## 연습문제 3\n",
    "-  Freedom df 만들기\n",
    "1. Period 컬럼 삽입 \n",
    "2. 1861 > 행인덱스 >= 1789 : I\n",
    "3. 1939 > 행인덱스 >= 1861 : II\n",
    "4. 행인덱스 >= 1939 : III"
   ]
  },
  {
   "cell_type": "code",
   "execution_count": 5,
   "id": "1158c6c4",
   "metadata": {},
   "outputs": [],
   "source": [
    "Freedom = pd.concat([pd.DataFrame(Address.Freedom),\n",
    "                    pd.DataFrame({'Period':\n",
    "                                  ['I' if i < 1861 else 'II'\n",
    "                                  if i < 1939 else 'III'\n",
    "                                  for i in Address.Freedom.index]},\n",
    "                                index = Address.index)], axis = 1)"
   ]
  },
  {
   "cell_type": "code",
   "execution_count": 7,
   "id": "6fc2e49f",
   "metadata": {},
   "outputs": [
    {
     "data": {
      "text/html": [
       "<div>\n",
       "<style scoped>\n",
       "    .dataframe tbody tr th:only-of-type {\n",
       "        vertical-align: middle;\n",
       "    }\n",
       "\n",
       "    .dataframe tbody tr th {\n",
       "        vertical-align: top;\n",
       "    }\n",
       "\n",
       "    .dataframe thead th {\n",
       "        text-align: right;\n",
       "    }\n",
       "</style>\n",
       "<table border=\"1\" class=\"dataframe\">\n",
       "  <thead>\n",
       "    <tr style=\"text-align: right;\">\n",
       "      <th></th>\n",
       "      <th>Freedom</th>\n",
       "      <th>Period</th>\n",
       "    </tr>\n",
       "  </thead>\n",
       "  <tbody>\n",
       "    <tr>\n",
       "      <th>1789</th>\n",
       "      <td>0.000000</td>\n",
       "      <td>I</td>\n",
       "    </tr>\n",
       "    <tr>\n",
       "      <th>1793</th>\n",
       "      <td>0.000000</td>\n",
       "      <td>I</td>\n",
       "    </tr>\n",
       "    <tr>\n",
       "      <th>1797</th>\n",
       "      <td>0.000000</td>\n",
       "      <td>I</td>\n",
       "    </tr>\n",
       "    <tr>\n",
       "      <th>1801</th>\n",
       "      <td>0.002317</td>\n",
       "      <td>I</td>\n",
       "    </tr>\n",
       "    <tr>\n",
       "      <th>1805</th>\n",
       "      <td>0.000923</td>\n",
       "      <td>I</td>\n",
       "    </tr>\n",
       "  </tbody>\n",
       "</table>\n",
       "</div>"
      ],
      "text/plain": [
       "       Freedom Period\n",
       "1789  0.000000      I\n",
       "1793  0.000000      I\n",
       "1797  0.000000      I\n",
       "1801  0.002317      I\n",
       "1805  0.000923      I"
      ]
     },
     "execution_count": 7,
     "metadata": {},
     "output_type": "execute_result"
    }
   ],
   "source": [
    "Freedom.head()"
   ]
  },
  {
   "cell_type": "code",
   "execution_count": 8,
   "id": "c17c169a",
   "metadata": {},
   "outputs": [
    {
     "data": {
      "text/html": [
       "<div>\n",
       "<style scoped>\n",
       "    .dataframe tbody tr th:only-of-type {\n",
       "        vertical-align: middle;\n",
       "    }\n",
       "\n",
       "    .dataframe tbody tr th {\n",
       "        vertical-align: top;\n",
       "    }\n",
       "\n",
       "    .dataframe thead th {\n",
       "        text-align: right;\n",
       "    }\n",
       "</style>\n",
       "<table border=\"1\" class=\"dataframe\">\n",
       "  <thead>\n",
       "    <tr style=\"text-align: right;\">\n",
       "      <th></th>\n",
       "      <th>Freedom</th>\n",
       "      <th>Period</th>\n",
       "    </tr>\n",
       "  </thead>\n",
       "  <tbody>\n",
       "    <tr>\n",
       "      <th>2001</th>\n",
       "      <td>0.000632</td>\n",
       "      <td>III</td>\n",
       "    </tr>\n",
       "    <tr>\n",
       "      <th>2005</th>\n",
       "      <td>0.005350</td>\n",
       "      <td>III</td>\n",
       "    </tr>\n",
       "    <tr>\n",
       "      <th>2009</th>\n",
       "      <td>0.000837</td>\n",
       "      <td>III</td>\n",
       "    </tr>\n",
       "    <tr>\n",
       "      <th>2013</th>\n",
       "      <td>0.001908</td>\n",
       "      <td>III</td>\n",
       "    </tr>\n",
       "    <tr>\n",
       "      <th>2017</th>\n",
       "      <td>0.000000</td>\n",
       "      <td>III</td>\n",
       "    </tr>\n",
       "  </tbody>\n",
       "</table>\n",
       "</div>"
      ],
      "text/plain": [
       "       Freedom Period\n",
       "2001  0.000632    III\n",
       "2005  0.005350    III\n",
       "2009  0.000837    III\n",
       "2013  0.001908    III\n",
       "2017  0.000000    III"
      ]
     },
     "execution_count": 8,
     "metadata": {},
     "output_type": "execute_result"
    }
   ],
   "source": [
    "Freedom.tail()"
   ]
  },
  {
   "cell_type": "markdown",
   "id": "ce5a278b",
   "metadata": {},
   "source": [
    "## box plot"
   ]
  },
  {
   "cell_type": "code",
   "execution_count": 11,
   "id": "932e68eb",
   "metadata": {},
   "outputs": [
    {
     "data": {
      "text/plain": [
       "<AxesSubplot:title={'center':'Freedom'}, xlabel='Period'>"
      ]
     },
     "execution_count": 11,
     "metadata": {},
     "output_type": "execute_result"
    },
    {
     "data": {
      "image/png": "[encoded data removed]",
      "text/plain": [
       "<Figure size 432x288 with 1 Axes>"
      ]
     },
     "metadata": {
      "needs_background": "light"
     },
     "output_type": "display_data"
    }
   ],
   "source": [
    "Freedom.boxplot(column = 'Freedom', by='Period', grid = False) #grid 격자"
   ]
  },
  {
   "cell_type": "markdown",
   "id": "2cb1fac6",
   "metadata": {},
   "source": [
    "- by에 명목척도 레벨별 column 수치척도 값들 box plot으로 출력\n",
    "- I 보다 II에서 II보단 III에서 더 많이 사용됨. III의 경우는 완전한 정규분포는 아니지만 정규분포에 가까움. II는 50%정도는 빈도가 없는 정도,, I도 거의 마찬가지"
   ]
  },
  {
   "cell_type": "markdown",
   "id": "b0a24cca",
   "metadata": {},
   "source": [
    "## 두 표본 이상 : 평균 / 중앙값 비교\n",
    "- 정규분포\n",
    "1. 정규성 검정\n",
    "2. 등분산 검정\n",
    "3. one-way ANOVA(등분산) 평균비교\n",
    "4. Tukey HSD (post-hoc test)\n",
    "\n",
    "- 비정규분포\n",
    "1. 정규성 검정\n",
    "2. Kruskal-Wallis rank sum test (중앙값 비교)\n",
    "3. Dunn's test (post-hoc test)\n",
    "\n",
    "-------------------------------------------------\n",
    "3개 이상의 평균 중앙값을 비교할 경우에 많이 사용\n",
    "2개 이상일 two sample 쪽 사용 (데이터 분석 예제 4 파일 보기)"
   ]
  },
  {
   "cell_type": "markdown",
   "id": "caf3f996",
   "metadata": {},
   "source": [
    "## ANOVA : 통계적 가정 검정"
   ]
  },
  {
   "cell_type": "code",
   "execution_count": 19,
   "id": "0785537e",
   "metadata": {},
   "outputs": [
    {
     "data": {
      "text/plain": [
       "ShapiroResult(statistic=0.9144636988639832, pvalue=0.0005818750942125916)"
      ]
     },
     "execution_count": 19,
     "metadata": {},
     "output_type": "execute_result"
    }
   ],
   "source": [
    "from statsmodels.formula.api import ols\n",
    "model = ols('Freedom ~ C(Period)', data = Freedom).fit()  # R style 선형 모형\n",
    "from scipy import stats\n",
    "stats.shapiro(model.resid) # 선형모형 잔차에 대한 정규성 검정"
   ]
  },
  {
   "cell_type": "markdown",
   "id": "d08d2c5f",
   "metadata": {},
   "source": [
    "- 잔차를 보면 0.05보다 작게 나왔지만, 아주 작지는 않음,, \n",
    "- 통과했다고 가정하에 실습 진행"
   ]
  },
  {
   "cell_type": "code",
   "execution_count": 20,
   "id": "b893672f",
   "metadata": {},
   "outputs": [
    {
     "data": {
      "text/plain": [
       "LeveneResult(statistic=5.894724021161564, pvalue=0.004791902411076718)"
      ]
     },
     "execution_count": 20,
     "metadata": {},
     "output_type": "execute_result"
    }
   ],
   "source": [
    "stats.levene(Freedom.Freedom[Freedom.Period=='I'],\n",
    "            Freedom.Freedom[Freedom.Period=='II'],\n",
    "            Freedom.Freedom[Freedom.Period=='III'])"
   ]
  },
  {
   "cell_type": "markdown",
   "id": "f8622caa",
   "metadata": {},
   "source": [
    "- level별로 따로 사용 pvalue 는 0.05보다 작으므로 분산이 등분산이 아님"
   ]
  },
  {
   "cell_type": "markdown",
   "id": "1eed76bc",
   "metadata": {},
   "source": [
    "## one-way ANOVA, TukeyHSD"
   ]
  },
  {
   "cell_type": "code",
   "execution_count": 21,
   "id": "eb47bb8a",
   "metadata": {},
   "outputs": [
    {
     "data": {
      "text/plain": [
       "F_onewayResult(statistic=13.584454744710904, pvalue=1.605155354902386e-05)"
      ]
     },
     "execution_count": 21,
     "metadata": {},
     "output_type": "execute_result"
    }
   ],
   "source": [
    "stats.f_oneway(Freedom.Freedom[Freedom.Period=='I'],\n",
    "              Freedom.Freedom[Freedom.Period=='II'],\n",
    "              Freedom.Freedom[Freedom.Period=='III'])"
   ]
  },
  {
   "cell_type": "markdown",
   "id": "dd51e609",
   "metadata": {},
   "source": [
    "- one way anova를 통해서는 어떤 값이 다른지 평균차이에 대해서는 알수없기에 tukeyHSD 테스트 진행"
   ]
  },
  {
   "cell_type": "code",
   "execution_count": 23,
   "id": "5181f3c7",
   "metadata": {},
   "outputs": [
    {
     "data": {
      "text/html": [
       "<table class=\"simpletable\">\n",
       "<caption>Multiple Comparison of Means - Tukey HSD, FWER=0.05</caption>\n",
       "<tr>\n",
       "  <th>group1</th> <th>group2</th> <th>meandiff</th> <th>p-adj</th>  <th>lower</th>   <th>upper</th> <th>reject</th>\n",
       "</tr>\n",
       "<tr>\n",
       "     <td>I</td>     <td>II</td>    <td>0.0001</td>   <td>0.9</td>  <td>-0.0007</td> <td>0.0009</td>  <td>False</td>\n",
       "</tr>\n",
       "<tr>\n",
       "     <td>I</td>     <td>III</td>   <td>0.0015</td>  <td>0.001</td> <td>0.0007</td>  <td>0.0023</td>  <td>True</td> \n",
       "</tr>\n",
       "<tr>\n",
       "    <td>II</td>     <td>III</td>   <td>0.0015</td>  <td>0.001</td> <td>0.0007</td>  <td>0.0022</td>  <td>True</td> \n",
       "</tr>\n",
       "</table>"
      ],
      "text/plain": [
       "<class 'statsmodels.iolib.table.SimpleTable'>"
      ]
     },
     "execution_count": 23,
     "metadata": {},
     "output_type": "execute_result"
    }
   ],
   "source": [
    "from statsmodels.stats.multicomp import pairwise_tukeyhsd\n",
    "hsd = pairwise_tukeyhsd(Freedom.Freedom, Freedom.Period)\n",
    "hsd.summary()"
   ]
  },
  {
   "cell_type": "markdown",
   "id": "3ece973c",
   "metadata": {},
   "source": [
    "- p-adj값을 보았을 경우 level I과 II는 같고, level III만 다름"
   ]
  },
  {
   "cell_type": "markdown",
   "id": "ee6a83b6",
   "metadata": {},
   "source": [
    "## Kruskal-Wallis , Dunn"
   ]
  },
  {
   "cell_type": "code",
   "execution_count": 24,
   "id": "e4165afb",
   "metadata": {},
   "outputs": [
    {
     "data": {
      "text/plain": [
       "KruskalResult(statistic=17.784286292262617, pvalue=0.00013746473504788813)"
      ]
     },
     "execution_count": 24,
     "metadata": {},
     "output_type": "execute_result"
    }
   ],
   "source": [
    "stats.kruskal(Freedom.Freedom[Freedom.Period=='I'],\n",
    "             Freedom.Freedom[Freedom.Period=='II'],\n",
    "             Freedom.Freedom[Freedom.Period=='III'])"
   ]
  },
  {
   "cell_type": "markdown",
   "id": "2943248b",
   "metadata": {},
   "source": [
    "- p-value가 0.05보다 작으므로 적어도 하나이상의 중간값에서 차이가 있다. 허나 여기서도 어떤값에서 차이인지는 알 수 없기에 posthocs test 실행"
   ]
  },
  {
   "cell_type": "code",
   "execution_count": 29,
   "id": "cc71f233",
   "metadata": {},
   "outputs": [
    {
     "data": {
      "text/html": [
       "<div>\n",
       "<style scoped>\n",
       "    .dataframe tbody tr th:only-of-type {\n",
       "        vertical-align: middle;\n",
       "    }\n",
       "\n",
       "    .dataframe tbody tr th {\n",
       "        vertical-align: top;\n",
       "    }\n",
       "\n",
       "    .dataframe thead th {\n",
       "        text-align: right;\n",
       "    }\n",
       "</style>\n",
       "<table border=\"1\" class=\"dataframe\">\n",
       "  <thead>\n",
       "    <tr style=\"text-align: right;\">\n",
       "      <th></th>\n",
       "      <th>I</th>\n",
       "      <th>II</th>\n",
       "      <th>III</th>\n",
       "    </tr>\n",
       "  </thead>\n",
       "  <tbody>\n",
       "    <tr>\n",
       "      <th>I</th>\n",
       "      <td>1.000000</td>\n",
       "      <td>0.892282</td>\n",
       "      <td>0.000257</td>\n",
       "    </tr>\n",
       "    <tr>\n",
       "      <th>II</th>\n",
       "      <td>0.892282</td>\n",
       "      <td>1.000000</td>\n",
       "      <td>0.000299</td>\n",
       "    </tr>\n",
       "    <tr>\n",
       "      <th>III</th>\n",
       "      <td>0.000257</td>\n",
       "      <td>0.000299</td>\n",
       "      <td>1.000000</td>\n",
       "    </tr>\n",
       "  </tbody>\n",
       "</table>\n",
       "</div>"
      ],
      "text/plain": [
       "            I        II       III\n",
       "I    1.000000  0.892282  0.000257\n",
       "II   0.892282  1.000000  0.000299\n",
       "III  0.000257  0.000299  1.000000"
      ]
     },
     "execution_count": 29,
     "metadata": {},
     "output_type": "execute_result"
    }
   ],
   "source": [
    "import scikit_posthocs as sp\n",
    "sp.posthoc_dunn(Freedom, val_col='Freedom',group_col='Period')"
   ]
  },
  {
   "cell_type": "markdown",
   "id": "dafdbabe",
   "metadata": {},
   "source": [
    "## 연습문제 4\n",
    "- Freedom의 1869년부터 최근까지(Republican과 Democrat만 포함됨)\n",
    "- 데이터프레임과 US_Presidents.txt Party 컬럼을 합하여 하나의 데이터프레임 FreedomParty를 만드시오."
   ]
  },
  {
   "cell_type": "code",
   "execution_count": 31,
   "id": "b55a4dd7",
   "metadata": {},
   "outputs": [],
   "source": [
    "Presidents = pd.read_csv('US_Presidents.txt',sep='\\t',index_col =0)\n",
    "FreedomParty = pd.concat([Freedom,\n",
    "                         Presidents.Party.loc[Address.index]], axis=1)\n",
    "FreedomParty = FreedomParty.loc[FreedomParty.index >= 1869]"
   ]
  },
  {
   "cell_type": "code",
   "execution_count": 32,
   "id": "96c16d16",
   "metadata": {},
   "outputs": [
    {
     "data": {
      "text/html": [
       "<div>\n",
       "<style scoped>\n",
       "    .dataframe tbody tr th:only-of-type {\n",
       "        vertical-align: middle;\n",
       "    }\n",
       "\n",
       "    .dataframe tbody tr th {\n",
       "        vertical-align: top;\n",
       "    }\n",
       "\n",
       "    .dataframe thead th {\n",
       "        text-align: right;\n",
       "    }\n",
       "</style>\n",
       "<table border=\"1\" class=\"dataframe\">\n",
       "  <thead>\n",
       "    <tr style=\"text-align: right;\">\n",
       "      <th></th>\n",
       "      <th>Freedom</th>\n",
       "      <th>Period</th>\n",
       "      <th>Party</th>\n",
       "    </tr>\n",
       "  </thead>\n",
       "  <tbody>\n",
       "    <tr>\n",
       "      <th>1869</th>\n",
       "      <td>0.000000</td>\n",
       "      <td>II</td>\n",
       "      <td>Republican</td>\n",
       "    </tr>\n",
       "    <tr>\n",
       "      <th>1873</th>\n",
       "      <td>0.000000</td>\n",
       "      <td>II</td>\n",
       "      <td>Republican</td>\n",
       "    </tr>\n",
       "    <tr>\n",
       "      <th>1877</th>\n",
       "      <td>0.000000</td>\n",
       "      <td>II</td>\n",
       "      <td>Republican</td>\n",
       "    </tr>\n",
       "    <tr>\n",
       "      <th>1881</th>\n",
       "      <td>0.002017</td>\n",
       "      <td>II</td>\n",
       "      <td>Republican</td>\n",
       "    </tr>\n",
       "    <tr>\n",
       "      <th>1881</th>\n",
       "      <td>0.002017</td>\n",
       "      <td>II</td>\n",
       "      <td>Republican</td>\n",
       "    </tr>\n",
       "  </tbody>\n",
       "</table>\n",
       "</div>"
      ],
      "text/plain": [
       "       Freedom Period       Party\n",
       "1869  0.000000     II  Republican\n",
       "1873  0.000000     II  Republican\n",
       "1877  0.000000     II  Republican\n",
       "1881  0.002017     II  Republican\n",
       "1881  0.002017     II  Republican"
      ]
     },
     "execution_count": 32,
     "metadata": {},
     "output_type": "execute_result"
    }
   ],
   "source": [
    "FreedomParty.head()"
   ]
  },
  {
   "cell_type": "markdown",
   "id": "53e034cf",
   "metadata": {},
   "source": [
    "## box plot"
   ]
  },
  {
   "cell_type": "code",
   "execution_count": 33,
   "id": "dc500b92",
   "metadata": {},
   "outputs": [
    {
     "data": {
      "text/plain": [
       "<AxesSubplot:title={'center':'Freedom'}, xlabel='[Period, Party]'>"
      ]
     },
     "execution_count": 33,
     "metadata": {},
     "output_type": "execute_result"
    },
    {
     "data": {
      "image/png": "[encoded data removed]",
      "text/plain": [
       "<Figure size 432x288 with 1 Axes>"
      ]
     },
     "metadata": {
      "needs_background": "light"
     },
     "output_type": "display_data"
    }
   ],
   "source": [
    "FreedomParty.boxplot(column = 'Freedom', by = ['Period','Party'], grid=False)"
   ]
  },
  {
   "cell_type": "markdown",
   "id": "5338a18c",
   "metadata": {},
   "source": [
    "- 두개의 명목척도 , 하나의 수치척도\n",
    "- 공화당보다 민주당이 더 많이 사용함을 확인 "
   ]
  },
  {
   "cell_type": "markdown",
   "id": "57af154e",
   "metadata": {},
   "source": [
    "## two way ANOVA"
   ]
  },
  {
   "cell_type": "code",
   "execution_count": 34,
   "id": "6527edca",
   "metadata": {},
   "outputs": [
    {
     "data": {
      "text/plain": [
       "ShapiroResult(statistic=0.9536089897155762, pvalue=0.10875400900840759)"
      ]
     },
     "execution_count": 34,
     "metadata": {},
     "output_type": "execute_result"
    }
   ],
   "source": [
    "from statsmodels.formula.api import ols\n",
    "model = ols('Freedom ~ C(Period) + C(Party) + C(Period):C(Party)',\n",
    "           data = FreedomParty).fit()\n",
    "from scipy import stats\n",
    "stats.shapiro(model.resid)"
   ]
  },
  {
   "cell_type": "markdown",
   "id": "1422105e",
   "metadata": {},
   "source": [
    "- p-value를 보니 정규분포임 등분산인지 확인해보자"
   ]
  },
  {
   "cell_type": "code",
   "execution_count": 35,
   "id": "4ad71842",
   "metadata": {},
   "outputs": [
    {
     "data": {
      "text/html": [
       "<div>\n",
       "<style scoped>\n",
       "    .dataframe tbody tr th:only-of-type {\n",
       "        vertical-align: middle;\n",
       "    }\n",
       "\n",
       "    .dataframe tbody tr th {\n",
       "        vertical-align: top;\n",
       "    }\n",
       "\n",
       "    .dataframe thead th {\n",
       "        text-align: right;\n",
       "    }\n",
       "</style>\n",
       "<table border=\"1\" class=\"dataframe\">\n",
       "  <thead>\n",
       "    <tr style=\"text-align: right;\">\n",
       "      <th></th>\n",
       "      <th>df</th>\n",
       "      <th>sum_sq</th>\n",
       "      <th>mean_sq</th>\n",
       "      <th>F</th>\n",
       "      <th>PR(&gt;F)</th>\n",
       "    </tr>\n",
       "  </thead>\n",
       "  <tbody>\n",
       "    <tr>\n",
       "      <th>C(Period)</th>\n",
       "      <td>1.0</td>\n",
       "      <td>1.716778e-05</td>\n",
       "      <td>1.716778e-05</td>\n",
       "      <td>11.507091</td>\n",
       "      <td>0.001734</td>\n",
       "    </tr>\n",
       "    <tr>\n",
       "      <th>C(Party)</th>\n",
       "      <td>1.0</td>\n",
       "      <td>7.153778e-07</td>\n",
       "      <td>7.153778e-07</td>\n",
       "      <td>0.479498</td>\n",
       "      <td>0.493219</td>\n",
       "    </tr>\n",
       "    <tr>\n",
       "      <th>C(Period):C(Party)</th>\n",
       "      <td>1.0</td>\n",
       "      <td>6.506294e-07</td>\n",
       "      <td>6.506294e-07</td>\n",
       "      <td>0.436099</td>\n",
       "      <td>0.513334</td>\n",
       "    </tr>\n",
       "    <tr>\n",
       "      <th>Residual</th>\n",
       "      <td>35.0</td>\n",
       "      <td>5.221755e-05</td>\n",
       "      <td>1.491930e-06</td>\n",
       "      <td>NaN</td>\n",
       "      <td>NaN</td>\n",
       "    </tr>\n",
       "  </tbody>\n",
       "</table>\n",
       "</div>"
      ],
      "text/plain": [
       "                      df        sum_sq       mean_sq          F    PR(>F)\n",
       "C(Period)            1.0  1.716778e-05  1.716778e-05  11.507091  0.001734\n",
       "C(Party)             1.0  7.153778e-07  7.153778e-07   0.479498  0.493219\n",
       "C(Period):C(Party)   1.0  6.506294e-07  6.506294e-07   0.436099  0.513334\n",
       "Residual            35.0  5.221755e-05  1.491930e-06        NaN       NaN"
      ]
     },
     "execution_count": 35,
     "metadata": {},
     "output_type": "execute_result"
    }
   ],
   "source": [
    "from statsmodels.stats.anova import anova_lm\n",
    "anova_lm(model)"
   ]
  },
  {
   "cell_type": "markdown",
   "id": "9c5086e9",
   "metadata": {},
   "source": [
    "- PR(>F) 를 보니 Period에서는 차이가 있다. "
   ]
  }
 ],
 "metadata": {
  "kernelspec": {
   "display_name": "Python 3",
   "language": "python",
   "name": "python3"
  },
  "language_info": {
   "codemirror_mode": {
    "name": "ipython",
    "version": 3
   },
   "file_extension": ".py",
   "mimetype": "text/x-python",
   "name": "python",
   "nbconvert_exporter": "python",
   "pygments_lexer": "ipython3",
   "version": "3.8.8"
  }
 },
 "nbformat": 4,
 "nbformat_minor": 5
}
