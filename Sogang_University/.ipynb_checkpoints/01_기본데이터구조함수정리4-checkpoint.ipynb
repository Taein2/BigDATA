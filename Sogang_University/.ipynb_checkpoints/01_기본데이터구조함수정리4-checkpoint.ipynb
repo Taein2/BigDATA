{
 "cells": [
  {
   "cell_type": "code",
   "execution_count": 154,
   "id": "d47c7883",
   "metadata": {},
   "outputs": [],
   "source": [
    "import collections"
   ]
  },
  {
   "cell_type": "code",
   "execution_count": 155,
   "id": "aa9626ae",
   "metadata": {},
   "outputs": [],
   "source": [
    "a = 'apple\\tapple\\tbanana'"
   ]
  },
  {
   "cell_type": "code",
   "execution_count": 156,
   "id": "aa969e60",
   "metadata": {},
   "outputs": [
    {
     "data": {
      "text/plain": [
       "Counter({'a': 5, 'p': 4, 'l': 2, 'e': 2, '\\t': 2, 'b': 1, 'n': 2})"
      ]
     },
     "execution_count": 156,
     "metadata": {},
     "output_type": "execute_result"
    }
   ],
   "source": [
    "collections.Counter(a)"
   ]
  },
  {
   "cell_type": "code",
   "execution_count": 157,
   "id": "ad560723",
   "metadata": {},
   "outputs": [
    {
     "data": {
      "text/plain": [
       "collections.Counter"
      ]
     },
     "execution_count": 157,
     "metadata": {},
     "output_type": "execute_result"
    }
   ],
   "source": [
    "type(collections.Counter(a)) # counter 데이터 구조 (dic과 구분)"
   ]
  },
  {
   "cell_type": "code",
   "execution_count": 158,
   "id": "da60bd3a",
   "metadata": {},
   "outputs": [
    {
     "data": {
      "text/plain": [
       "[('a', 5), ('p', 4), ('l', 2), ('e', 2), ('\\t', 2), ('n', 2), ('b', 1)]"
      ]
     },
     "execution_count": 158,
     "metadata": {},
     "output_type": "execute_result"
    }
   ],
   "source": [
    "collections.Counter(a).most_common()"
   ]
  },
  {
   "cell_type": "code",
   "execution_count": 159,
   "id": "075ba8b6",
   "metadata": {},
   "outputs": [
    {
     "data": {
      "text/plain": [
       "Counter({'a': 5, 'p': 4, 'l': 2, 'e': 2, '\\t': 2, 'b': 1, 'n': 2})"
      ]
     },
     "execution_count": 159,
     "metadata": {},
     "output_type": "execute_result"
    }
   ],
   "source": [
    "from collections import Counter\n",
    "b = Counter(a)\n",
    "b"
   ]
  },
  {
   "cell_type": "code",
   "execution_count": 160,
   "id": "23d3903c",
   "metadata": {},
   "outputs": [
    {
     "name": "stdout",
     "output_type": "stream",
     "text": [
      "dict_items([('a', 5), ('p', 4), ('l', 2), ('e', 2), ('\\t', 2), ('b', 1), ('n', 2)])\n",
      "dict_keys(['a', 'p', 'l', 'e', '\\t', 'b', 'n'])\n",
      "dict_values([5, 4, 2, 2, 2, 1, 2])\n"
     ]
    }
   ],
   "source": [
    "print(b.items())\n",
    "print(b.keys())\n",
    "print(b.values())"
   ]
  },
  {
   "cell_type": "code",
   "execution_count": 161,
   "id": "7f1d4bfb",
   "metadata": {},
   "outputs": [
    {
     "name": "stdout",
     "output_type": "stream",
     "text": [
      "<re.Match object; span=(0, 1), match='1'>\n",
      "<class 're.Match'>\n",
      "None\n",
      "<class 'NoneType'>\n"
     ]
    }
   ],
   "source": [
    "# regular expression\n",
    "import re\n",
    "print(re.match('1','1234'))\n",
    "print(type(re.match('1','1324')))\n",
    "\n",
    "print(re.match('2','1234')) # 시작에 2가 아니라 None\n",
    "print(type(re.match('2','1234')))"
   ]
  },
  {
   "cell_type": "code",
   "execution_count": 162,
   "id": "f9bf4423",
   "metadata": {},
   "outputs": [
    {
     "name": "stdout",
     "output_type": "stream",
     "text": [
      "3456\n",
      "3456abc\n",
      "3456abc\n"
     ]
    }
   ],
   "source": [
    "# 숫자문자의 연쇄인가\n",
    "print(re.match('\\d+','3456abc\\t\\n.+?*').group())\n",
    "# 숫자문자 연쇄뒤에 숫자문자 or 자연언어문자의 연쇄\n",
    "print(re.match('\\d+\\w+','3456abc\\t\\n.+?*').group())\n",
    "# 숫자문자 or 자연어 뒤에 + 1회 이상 반복\n",
    "print(re.match('[\\w]+', '3456abc\\t\\n.').group())"
   ]
  },
  {
   "cell_type": "code",
   "execution_count": 163,
   "id": "e5d49de3",
   "metadata": {},
   "outputs": [
    {
     "data": {
      "text/plain": [
       "'3456abc\\t\\n'"
      ]
     },
     "execution_count": 163,
     "metadata": {},
     "output_type": "execute_result"
    }
   ],
   "source": [
    "# 숫자문자 자연어문자 뒤에 화이트스패이스 문자 + 1회이상 반복 \n",
    "# print로 찍히면 화이트스패이스 문자들은 적용되서 나옴\n",
    "re.match('[\\w\\s]+', '3456abc\\t\\n.+?*').group() "
   ]
  },
  {
   "cell_type": "code",
   "execution_count": 164,
   "id": "0b4073b5",
   "metadata": {},
   "outputs": [
    {
     "data": {
      "text/plain": [
       "'3456abc\\t\\n.+?*'"
      ]
     },
     "execution_count": 164,
     "metadata": {},
     "output_type": "execute_result"
    }
   ],
   "source": [
    "# 화이트스패이스 이외의 문자 \n",
    "re.match('[\\w\\s\\S]+','3456abc\\t\\n.+?*').group()"
   ]
  },
  {
   "cell_type": "code",
   "execution_count": 165,
   "id": "3293ce61",
   "metadata": {},
   "outputs": [
    {
     "data": {
      "text/plain": [
       "<re.Match object; span=(0, 2), match='\\t\\n'>"
      ]
     },
     "execution_count": 165,
     "metadata": {},
     "output_type": "execute_result"
    }
   ],
   "source": [
    "# 가장 먼저 일치하는 문자열 출력\n",
    "re.search('\\s+','\\t\\n123\\t\\nabc\\t\\n')"
   ]
  },
  {
   "cell_type": "code",
   "execution_count": 166,
   "id": "f8bd222b",
   "metadata": {},
   "outputs": [
    {
     "data": {
      "text/plain": [
       "<re.Match object; span=(10, 13), match='\\n\\n\\n'>"
      ]
     },
     "execution_count": 166,
     "metadata": {},
     "output_type": "execute_result"
    }
   ],
   "source": [
    "re.search('\\s+$','\\t\\n123\\n\\tabc\\n\\n\\n')"
   ]
  },
  {
   "cell_type": "code",
   "execution_count": 167,
   "id": "834fbedc",
   "metadata": {},
   "outputs": [
    {
     "data": {
      "text/plain": [
       "'\\n\\n\\n'"
      ]
     },
     "execution_count": 167,
     "metadata": {},
     "output_type": "execute_result"
    }
   ],
   "source": [
    "re.search('\\s+$','\\t\\n123\\n\\tabc\\n\\n\\n').group()"
   ]
  },
  {
   "cell_type": "code",
   "execution_count": 168,
   "id": "64ee1fc4",
   "metadata": {},
   "outputs": [
    {
     "data": {
      "text/plain": [
       "('\\n\\n\\n',)"
      ]
     },
     "execution_count": 168,
     "metadata": {},
     "output_type": "execute_result"
    }
   ],
   "source": [
    "re.search('(\\s+)$','\\t\\n123\\n\\tabc\\n\\n\\n').groups()"
   ]
  },
  {
   "cell_type": "code",
   "execution_count": 169,
   "id": "e26b7b98",
   "metadata": {},
   "outputs": [
    {
     "data": {
      "text/plain": [
       "('\\n',)"
      ]
     },
     "execution_count": 169,
     "metadata": {},
     "output_type": "execute_result"
    }
   ],
   "source": [
    "re.search('(\\s)+$','\\t\\n123\\n\\tabc\\n\\n\\n').groups()"
   ]
  },
  {
   "cell_type": "code",
   "execution_count": 170,
   "id": "ddd52d10",
   "metadata": {},
   "outputs": [
    {
     "data": {
      "text/plain": [
       "[('park', '010-1234-5678')]"
      ]
     },
     "execution_count": 170,
     "metadata": {},
     "output_type": "execute_result"
    }
   ],
   "source": [
    "# re.findall 출력 데이터 구조 list\n",
    "re.findall('(\\w+)\\s+(\\d+[-]\\d+[-]\\d+)','park 010-1234-5678')"
   ]
  },
  {
   "cell_type": "code",
   "execution_count": 171,
   "id": "62409bf1",
   "metadata": {},
   "outputs": [
    {
     "data": {
      "text/plain": [
       "[('park', '010-1234-5678', '1234-5678')]"
      ]
     },
     "execution_count": 171,
     "metadata": {},
     "output_type": "execute_result"
    }
   ],
   "source": [
    "# 3개 그룹\n",
    "re.findall('(\\w+)\\s+(\\d+[-](\\d+[-]\\d+))','park 010-1234-5678')"
   ]
  },
  {
   "cell_type": "code",
   "execution_count": 172,
   "id": "28b8615a",
   "metadata": {},
   "outputs": [
    {
     "data": {
      "text/plain": [
       "[('park', '010-1234-5678', '1234', '5678')]"
      ]
     },
     "execution_count": 172,
     "metadata": {},
     "output_type": "execute_result"
    }
   ],
   "source": [
    "# 4개 그룹\n",
    "re.findall('(\\w+)\\s+(\\d+[-](\\d+)[-](\\d+))','park 010-1234-5678')"
   ]
  },
  {
   "cell_type": "code",
   "execution_count": 173,
   "id": "d312dde5",
   "metadata": {},
   "outputs": [
    {
     "data": {
      "text/plain": [
       "['', '123', 'abc', '']"
      ]
     },
     "execution_count": 173,
     "metadata": {},
     "output_type": "execute_result"
    }
   ],
   "source": [
    "# re.split 문자열 메소드 split은 정규표현식이 적용되지 않음\n",
    "re.split('\\W+','\\t\\n123..abc..\\n\\n\\n')"
   ]
  },
  {
   "cell_type": "code",
   "execution_count": 174,
   "id": "8d08a2df",
   "metadata": {},
   "outputs": [
    {
     "data": {
      "text/plain": [
       "['', '123..abc..\\n\\n\\n']"
      ]
     },
     "execution_count": 174,
     "metadata": {},
     "output_type": "execute_result"
    }
   ],
   "source": [
    "re.split('\\W+','\\t\\n123..abc..\\n\\n\\n',1)"
   ]
  },
  {
   "cell_type": "code",
   "execution_count": 175,
   "id": "ec0d2a40",
   "metadata": {},
   "outputs": [
    {
     "data": {
      "text/plain": [
       "['', '\\t\\n', '123', '..', 'abc', '..\\n\\n\\n', '']"
      ]
     },
     "execution_count": 175,
     "metadata": {},
     "output_type": "execute_result"
    }
   ],
   "source": [
    "re.split('(\\W+)','\\t\\n123..abc..\\n\\n\\n')"
   ]
  },
  {
   "cell_type": "code",
   "execution_count": 176,
   "id": "92bcc7f8",
   "metadata": {},
   "outputs": [
    {
     "data": {
      "text/plain": [
       "['', '\\n', '123', '.', 'abc', '\\n', '']"
      ]
     },
     "execution_count": 176,
     "metadata": {},
     "output_type": "execute_result"
    }
   ],
   "source": [
    "re.split('(\\W)+','\\t\\n123..abc..\\n\\n\\n')"
   ]
  },
  {
   "cell_type": "code",
   "execution_count": 177,
   "id": "dd6fe88f",
   "metadata": {},
   "outputs": [
    {
     "data": {
      "text/plain": [
       "'white and white painting'"
      ]
     },
     "execution_count": 177,
     "metadata": {},
     "output_type": "execute_result"
    }
   ],
   "source": [
    "# re.sub\n",
    "re.sub('red|blue','white','red and blue painting')"
   ]
  },
  {
   "cell_type": "code",
   "execution_count": 178,
   "id": "2f0b7437",
   "metadata": {},
   "outputs": [
    {
     "data": {
      "text/plain": [
       "'white and blue painting'"
      ]
     },
     "execution_count": 178,
     "metadata": {},
     "output_type": "execute_result"
    }
   ],
   "source": [
    "# 가장 먼저나온거 한개\n",
    "re.sub('red|blue','white','red and blue painting',1)"
   ]
  },
  {
   "cell_type": "code",
   "execution_count": 179,
   "id": "c3f8ccff",
   "metadata": {},
   "outputs": [
    {
     "data": {
      "text/plain": [
       "'white blue painting'"
      ]
     },
     "execution_count": 179,
     "metadata": {},
     "output_type": "execute_result"
    }
   ],
   "source": [
    "re.sub('(red|blue) and','white','red and blue painting')"
   ]
  },
  {
   "cell_type": "code",
   "execution_count": 180,
   "id": "361439f7",
   "metadata": {},
   "outputs": [
    {
     "data": {
      "text/plain": [
       "'red white painting'"
      ]
     },
     "execution_count": 180,
     "metadata": {},
     "output_type": "execute_result"
    }
   ],
   "source": [
    "re.sub('and (red|blue)','white','red and blue painting')"
   ]
  },
  {
   "cell_type": "code",
   "execution_count": 181,
   "id": "eb42929a",
   "metadata": {},
   "outputs": [
    {
     "data": {
      "text/plain": [
       "'C:\\\\Users\\\\82103\\\\Desktop\\\\BigDATA\\\\Sogang_University'"
      ]
     },
     "execution_count": 181,
     "metadata": {},
     "output_type": "execute_result"
    }
   ],
   "source": [
    "# os.getcwd, os.listdir\n",
    "import os\n",
    "os.getcwd()"
   ]
  },
  {
   "cell_type": "code",
   "execution_count": 182,
   "id": "3d419c4b",
   "metadata": {},
   "outputs": [
    {
     "data": {
      "text/plain": [
       "['.ipynb_checkpoints',\n",
       " '01_data',\n",
       " '01_기본데이터구조함수정리1.ipynb',\n",
       " '01_기본데이터구조함수정리2.ipynb',\n",
       " '01_기본데이터구조함수정리3.ipynb',\n",
       " '01_기본데이터구조함수정리4.ipynb',\n",
       " 'out.txt',\n",
       " 'out.txt2',\n",
       " 'out3.txt',\n",
       " 'README.md']"
      ]
     },
     "execution_count": 182,
     "metadata": {},
     "output_type": "execute_result"
    }
   ],
   "source": [
    "os.listdir()"
   ]
  },
  {
   "cell_type": "code",
   "execution_count": 183,
   "id": "bcce1293",
   "metadata": {},
   "outputs": [
    {
     "name": "stdout",
     "output_type": "stream",
     "text": [
      "out.txt\n",
      "out3.txt\n"
     ]
    }
   ],
   "source": [
    "for file in os.listdir('./'):\n",
    "    if file.endswith('.txt'):\n",
    "        print(file)"
   ]
  },
  {
   "cell_type": "markdown",
   "id": "d92fd9bd",
   "metadata": {},
   "source": [
    "### 연습문제1\n",
    "##### 작업 폴더 01_data 폴더 사용\n",
    "##### 1. 확장자 txt 파일 모두 불러오기\n",
    "##### 2. 텍스트를 소문자 변환 후 어휘 단위 분리\n",
    "##### 3. 알파벳 또는 숫자문자가 포함된 어휘만을 추출\n",
    "##### 4. 어휘 앞 그리고 뒤의 문장부호 하나 이상 연쇄 제거\n",
    "##### 5. 어휘별 빈도 산출\n",
    "##### 6. 빈도내림차순으로 정렬하여 오른쪽과 같이 현재 작업 폴더에 out.txt 파일로 출력(하나의 라인에 어휘+탭+빈도)"
   ]
  },
  {
   "cell_type": "code",
   "execution_count": 184,
   "id": "7a840945",
   "metadata": {},
   "outputs": [
    {
     "data": {
      "text/plain": [
       "2176"
      ]
     },
     "execution_count": 184,
     "metadata": {},
     "output_type": "execute_result"
    }
   ],
   "source": [
    "import os, re\n",
    "from collections import Counter\n",
    "a = ' '.join(open('./01_data/'+i).read() for i in os.listdir('./01_data') if i.endswith('.txt'))\n",
    "b = a.lower().split()\n",
    "c = [re.sub('^\\W+|\\W+$','',i) for i in b if re.search('\\w',i)]\n",
    "open('out.txt2','w').write('\\n'.join(i + '\\t' + str(j) for i,j in Counter(c).most_common()))\n"
   ]
  },
  {
   "cell_type": "markdown",
   "id": "3f982a6f",
   "metadata": {},
   "source": [
    "### 연습문제2\n",
    "##### 작업 폴더 01_data 폴더 사용\n",
    "##### 1. 확장자 txt 파일 모두 불러오기\n",
    "##### 2. 문장부호만을 추출\n",
    "##### 3. 빈도내림차순 정렬\n",
    "##### 4. 현재 작업 폴더에 out.txt 파일로 출력(하나의 라인에 어휘+탭+빈도)"
   ]
  },
  {
   "cell_type": "code",
   "execution_count": 185,
   "id": "86f15e06",
   "metadata": {},
   "outputs": [
    {
     "data": {
      "text/plain": [
       "21"
      ]
     },
     "execution_count": 185,
     "metadata": {},
     "output_type": "execute_result"
    }
   ],
   "source": [
    "import os,re\n",
    "from collections import Counter\n",
    "a = ' '.join(open('./01_data/' + i).read() for i in os.listdir('./01_data') if i.endswith('.txt'))\n",
    "b = re.findall('\\W', re.sub('\\s+','',a))\n",
    "\n",
    "open('out3.txt','w').write('\\n'.join(i + '\\t' + str(j) for i,j in Counter(b).most_common()))"
   ]
  }
 ],
 "metadata": {
  "kernelspec": {
   "display_name": "Python 3",
   "language": "python",
   "name": "python3"
  },
  "language_info": {
   "codemirror_mode": {
    "name": "ipython",
    "version": 3
   },
   "file_extension": ".py",
   "mimetype": "text/x-python",
   "name": "python",
   "nbconvert_exporter": "python",
   "pygments_lexer": "ipython3",
   "version": "3.8.8"
  }
 },
 "nbformat": 4,
 "nbformat_minor": 5
}
