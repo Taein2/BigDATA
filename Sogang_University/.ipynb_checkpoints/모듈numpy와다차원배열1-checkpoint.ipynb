{
 "cells": [
  {
   "cell_type": "code",
   "execution_count": 1,
   "id": "53bfa795",
   "metadata": {},
   "outputs": [],
   "source": [
    "import numpy as np"
   ]
  },
  {
   "cell_type": "code",
   "execution_count": 2,
   "id": "f5c3f840",
   "metadata": {},
   "outputs": [],
   "source": [
    "a = [6,7.5,8,0,1]"
   ]
  },
  {
   "cell_type": "code",
   "execution_count": 3,
   "id": "47733745",
   "metadata": {},
   "outputs": [],
   "source": [
    "b = np.array(a)"
   ]
  },
  {
   "cell_type": "code",
   "execution_count": 4,
   "id": "b066581d",
   "metadata": {},
   "outputs": [
    {
     "name": "stdout",
     "output_type": "stream",
     "text": [
      "[6, 7.5, 8, 0, 1]\n",
      "[6.  7.5 8.  0.  1. ]\n"
     ]
    }
   ],
   "source": [
    "print(a)\n",
    "print(b) # (통계분석에 적합한 구조특성을 선택)"
   ]
  },
  {
   "cell_type": "code",
   "execution_count": 6,
   "id": "79ff9ba2",
   "metadata": {},
   "outputs": [
    {
     "name": "stdout",
     "output_type": "stream",
     "text": [
      "<class 'list'>\n",
      "<class 'numpy.ndarray'>\n"
     ]
    }
   ],
   "source": [
    "print(type(a))\n",
    "print(type(b)) #list(b)로하면 list로 변경은 되지만 실수형으로 변환됌"
   ]
  },
  {
   "cell_type": "code",
   "execution_count": 14,
   "id": "55d29b21",
   "metadata": {},
   "outputs": [
    {
     "data": {
      "text/plain": [
       "array('abcd', dtype='<U4')"
      ]
     },
     "execution_count": 14,
     "metadata": {},
     "output_type": "execute_result"
    }
   ],
   "source": [
    "# ndarray와 데이터구조, 차원\n",
    "a = 'abcd'; b = list(a); c = tuple(a)\n",
    "d = dict((('a',1),('b',2)))\n",
    "e = set(a)\n",
    "\n",
    "np.array(a) # 차원이 없음"
   ]
  },
  {
   "cell_type": "code",
   "execution_count": 15,
   "id": "65a7f6e6",
   "metadata": {},
   "outputs": [
    {
     "data": {
      "text/plain": [
       "array(['a', 'b', 'c', 'd'], dtype='<U1')"
      ]
     },
     "execution_count": 15,
     "metadata": {},
     "output_type": "execute_result"
    }
   ],
   "source": [
    "np.array(b)"
   ]
  },
  {
   "cell_type": "code",
   "execution_count": 16,
   "id": "63ee60be",
   "metadata": {},
   "outputs": [
    {
     "data": {
      "text/plain": [
       "array(['a', 'b', 'c', 'd'], dtype='<U1')"
      ]
     },
     "execution_count": 16,
     "metadata": {},
     "output_type": "execute_result"
    }
   ],
   "source": [
    "np.array(c)"
   ]
  },
  {
   "cell_type": "code",
   "execution_count": 17,
   "id": "141aadb8",
   "metadata": {},
   "outputs": [
    {
     "data": {
      "text/plain": [
       "array({'a': 1, 'b': 2}, dtype=object)"
      ]
     },
     "execution_count": 17,
     "metadata": {},
     "output_type": "execute_result"
    }
   ],
   "source": [
    "np.array(d)  # 차원이 없음"
   ]
  },
  {
   "cell_type": "code",
   "execution_count": 19,
   "id": "41e41a76",
   "metadata": {},
   "outputs": [
    {
     "data": {
      "text/plain": [
       "array({'c', 'b', 'a', 'd'}, dtype=object)"
      ]
     },
     "execution_count": 19,
     "metadata": {},
     "output_type": "execute_result"
    }
   ],
   "source": [
    "np.array(e)  # 차원이 없음"
   ]
  },
  {
   "cell_type": "code",
   "execution_count": 25,
   "id": "86f5d62d",
   "metadata": {},
   "outputs": [
    {
     "name": "stdout",
     "output_type": "stream",
     "text": [
      "1 4 4 1 1\n",
      "() (4,) (4,) () ()\n"
     ]
    }
   ],
   "source": [
    "# size, shape\n",
    "print(np.array(a).size,end = \" \")\n",
    "print(np.array(b).size,end = \" \") # 4개의 원소로 구성\n",
    "print(np.array(c).size,end = \" \") # 4개의 원소로 구성\n",
    "print(np.array(d).size,end = \" \")\n",
    "print(np.array(e).size)\n",
    "print(np.array(a).shape,end = \" \")\n",
    "print(np.array(b).shape,end = \" \") # ,하나에 숫자 하나이니깐 1차원\n",
    "print(np.array(c).shape,end = \" \") # ,하나에 숫자 하나이니깐 1차원\n",
    "print(np.array(d).shape,end = \" \")\n",
    "print(np.array(e).shape)\n",
    "# 차원 탐색을 먼저 해야 잘 다룰 수 있다."
   ]
  },
  {
   "cell_type": "code",
   "execution_count": 27,
   "id": "a98a8d69",
   "metadata": {},
   "outputs": [
    {
     "data": {
      "text/plain": [
       "array([{'a': 1, 'b': 2}, {'c', 'b', 'a', 'd'}], dtype=object)"
      ]
     },
     "execution_count": 27,
     "metadata": {},
     "output_type": "execute_result"
    }
   ],
   "source": [
    "np.array([d,e])"
   ]
  },
  {
   "cell_type": "code",
   "execution_count": 29,
   "id": "2b4f48d6",
   "metadata": {},
   "outputs": [
    {
     "name": "stdout",
     "output_type": "stream",
     "text": [
      "2 (2,) "
     ]
    }
   ],
   "source": [
    "print(np.array([d,e]).size,end= \" \")\n",
    "print(np.array([d,e]).shape,end= \" \")"
   ]
  },
  {
   "cell_type": "code",
   "execution_count": 30,
   "id": "3b009db8",
   "metadata": {},
   "outputs": [
    {
     "data": {
      "text/plain": [
       "array(['a', 'b', 'c', 'd'], dtype='<U1')"
      ]
     },
     "execution_count": 30,
     "metadata": {},
     "output_type": "execute_result"
    }
   ],
   "source": [
    "f = np.array(b)\n",
    "f"
   ]
  },
  {
   "cell_type": "code",
   "execution_count": 36,
   "id": "af264a49",
   "metadata": {},
   "outputs": [
    {
     "name": "stdout",
     "output_type": "stream",
     "text": [
      "4\n",
      "[['a' 'b']\n",
      " ['c' 'd']]\n"
     ]
    }
   ],
   "source": [
    "f.shape = (2,2)\n",
    "print(f.size)\n",
    "print(f)"
   ]
  },
  {
   "cell_type": "code",
   "execution_count": 39,
   "id": "e4041700",
   "metadata": {},
   "outputs": [
    {
     "name": "stdout",
     "output_type": "stream",
     "text": [
      "4\n",
      "[['a' 'b' 'c' 'd']]\n"
     ]
    }
   ],
   "source": [
    "f.shape = (1,4)\n",
    "print(f.size)\n",
    "print(f)"
   ]
  },
  {
   "cell_type": "code",
   "execution_count": 42,
   "id": "4c74da56",
   "metadata": {},
   "outputs": [
    {
     "name": "stdout",
     "output_type": "stream",
     "text": [
      "4\n",
      "[['a']\n",
      " ['b']\n",
      " ['c']\n",
      " ['d']]\n"
     ]
    }
   ],
   "source": [
    "f.shape = (4,1)\n",
    "print(f.size)\n",
    "print(f)"
   ]
  },
  {
   "cell_type": "code",
   "execution_count": 49,
   "id": "b6a919fb",
   "metadata": {},
   "outputs": [
    {
     "name": "stdout",
     "output_type": "stream",
     "text": [
      "[6.  7.5 8.  1. ]\n",
      "[ 8.   9.5 10.   3. ]\n",
      "[36.   56.25 64.    1.  ]\n"
     ]
    }
   ],
   "source": [
    "a = np.array([6, 7.5, 8, 1])\n",
    "print(a)\n",
    "print(a + 2)\n",
    "print(a * list(a)) # 산술연사자 연산 가능\n"
   ]
  },
  {
   "cell_type": "code",
   "execution_count": 48,
   "id": "eaa4995c",
   "metadata": {},
   "outputs": [
    {
     "data": {
      "text/plain": [
       "array([[12., 15.],\n",
       "       [16.,  2.]])"
      ]
     },
     "execution_count": 48,
     "metadata": {},
     "output_type": "execute_result"
    }
   ],
   "source": [
    "a.shape = (2,2)\n",
    "a+a"
   ]
  },
  {
   "cell_type": "code",
   "execution_count": 53,
   "id": "875b3cbb",
   "metadata": {},
   "outputs": [
    {
     "name": "stdout",
     "output_type": "stream",
     "text": [
      "8\n",
      "(2, 2, 2)\n"
     ]
    }
   ],
   "source": [
    "# ndarray 입력과 차원\n",
    "a = [[1,2,3,4],[5,6,7,8]]\n",
    "b = np.array(a)\n",
    "print(b.size)\n",
    "b.shape = (2,2,2) #차원의 값과 사이즈의 갯수가 일치해야함\n",
    "print(b.shape)c"
   ]
  },
  {
   "cell_type": "code",
   "execution_count": 54,
   "id": "68a392e2",
   "metadata": {},
   "outputs": [
    {
     "name": "stdout",
     "output_type": "stream",
     "text": [
      "<U1 int32 float64 "
     ]
    }
   ],
   "source": [
    "a = np.array(['a','b','c'])\n",
    "b = np.array([1,2,3])\n",
    "c = np.array([1,2.,3])\n",
    "print(a.dtype,end = \" \")\n",
    "print(b.dtype,end = \" \")\n",
    "print(c.dtype,end = \" \")"
   ]
  },
  {
   "cell_type": "code",
   "execution_count": 57,
   "id": "52734ad2",
   "metadata": {},
   "outputs": [
    {
     "name": "stdout",
     "output_type": "stream",
     "text": [
      "int32\n",
      "float64\n",
      "<U11\n"
     ]
    }
   ],
   "source": [
    "print(np.array([b,b]).dtype)\n",
    "print(np.array([b,c]).dtype)  # 실수 정수 --> 실수\n",
    "print(np.array([a,b]).dtype)  # 수치 문자열 --> 문자열"
   ]
  },
  {
   "cell_type": "code",
   "execution_count": 59,
   "id": "4de8014c",
   "metadata": {},
   "outputs": [
    {
     "data": {
      "text/plain": [
       "dtype('float64')"
      ]
     },
     "execution_count": 59,
     "metadata": {},
     "output_type": "execute_result"
    }
   ],
   "source": [
    "np.array([1,2,3], dtype='float').dtype  # 변경 가능"
   ]
  },
  {
   "cell_type": "markdown",
   "id": "179fea85",
   "metadata": {},
   "source": [
    "### 연습문제 1 : 코드 완성"
   ]
  },
  {
   "cell_type": "code",
   "execution_count": 79,
   "id": "745fadaf",
   "metadata": {},
   "outputs": [
    {
     "data": {
      "text/plain": [
       "[10, 20, 30, 40, 50, 60, 70, 80]"
      ]
     },
     "execution_count": 79,
     "metadata": {},
     "output_type": "execute_result"
    }
   ],
   "source": [
    "a = [1,2,3,4,5,6,7,8]\n",
    "# b = [i * 10 for i in a] 도 가능한데 문제 요구는 np이용\n",
    "b = list(np.array(a) * 10)\n",
    "b"
   ]
  },
  {
   "cell_type": "code",
   "execution_count": 74,
   "id": "f74a265a",
   "metadata": {},
   "outputs": [
    {
     "data": {
      "text/plain": [
       "array([10., 20., 30., 40., 50., 60., 70., 80.])"
      ]
     },
     "execution_count": 74,
     "metadata": {},
     "output_type": "execute_result"
    }
   ],
   "source": [
    "c = np.array(b,dtype='float')\n",
    "c"
   ]
  },
  {
   "cell_type": "code",
   "execution_count": 80,
   "id": "c09f96cf",
   "metadata": {},
   "outputs": [
    {
     "data": {
      "text/plain": [
       "array([[10., 20., 30., 40.],\n",
       "       [50., 60., 70., 80.]])"
      ]
     },
     "execution_count": 80,
     "metadata": {},
     "output_type": "execute_result"
    }
   ],
   "source": [
    "c.shape = (2,4)\n",
    "c"
   ]
  },
  {
   "cell_type": "markdown",
   "id": "5a342918",
   "metadata": {},
   "source": [
    "### 연습문제 2 : 코드 완성"
   ]
  },
  {
   "cell_type": "code",
   "execution_count": 83,
   "id": "e04370c1",
   "metadata": {},
   "outputs": [
    {
     "name": "stdout",
     "output_type": "stream",
     "text": [
      "(8,)\n"
     ]
    }
   ],
   "source": [
    "a = [1,2,3,4,5,6,7,8]\n",
    "b = np.array(a)\n",
    "print(b.shape)"
   ]
  },
  {
   "cell_type": "code",
   "execution_count": 96,
   "id": "2fca8985",
   "metadata": {},
   "outputs": [
    {
     "name": "stdout",
     "output_type": "stream",
     "text": [
      "[[1 2 3 4 5 6 7 8]]\n"
     ]
    }
   ],
   "source": [
    "a = [1,2,3,4,5,6,7,8]\n",
    "b = np.array(a)\n",
    "b.shape = (1,8)\n",
    "print(b)"
   ]
  },
  {
   "cell_type": "code",
   "execution_count": 95,
   "id": "e34be23c",
   "metadata": {},
   "outputs": [
    {
     "name": "stdout",
     "output_type": "stream",
     "text": [
      "[[ 2  4  6  8]\n",
      " [10 12 14 16]]\n"
     ]
    }
   ],
   "source": [
    "a = np.array([1,2,3,4,5,6,7,8])\n",
    "a.shape = (2,4)\n",
    "print(a + a)"
   ]
  }
 ],
 "metadata": {
  "kernelspec": {
   "display_name": "Python 3",
   "language": "python",
   "name": "python3"
  },
  "language_info": {
   "codemirror_mode": {
    "name": "ipython",
    "version": 3
   },
   "file_extension": ".py",
   "mimetype": "text/x-python",
   "name": "python",
   "nbconvert_exporter": "python",
   "pygments_lexer": "ipython3",
   "version": "3.8.8"
  }
 },
 "nbformat": 4,
 "nbformat_minor": 5
}
