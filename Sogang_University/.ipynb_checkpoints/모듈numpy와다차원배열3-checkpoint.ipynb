{
 "cells": [
  {
   "cell_type": "code",
   "execution_count": 1,
   "id": "069827ca",
   "metadata": {},
   "outputs": [
    {
     "data": {
      "text/plain": [
       "array([[1, 2, 3, 4],\n",
       "       [5, 6, 7, 8]])"
      ]
     },
     "execution_count": 1,
     "metadata": {},
     "output_type": "execute_result"
    }
   ],
   "source": [
    "# 2차원 ndarray 값 변경 \n",
    "import numpy as np\n",
    "b = np.arange(1,9).reshape(2,4)\n",
    "b"
   ]
  },
  {
   "cell_type": "code",
   "execution_count": 3,
   "id": "af0516c0",
   "metadata": {},
   "outputs": [
    {
     "data": {
      "text/plain": [
       "array([[4, 4, 4, 4],\n",
       "       [5, 6, 7, 8]])"
      ]
     },
     "execution_count": 3,
     "metadata": {},
     "output_type": "execute_result"
    }
   ],
   "source": [
    "b[0:1] = 4\n",
    "b"
   ]
  },
  {
   "cell_type": "code",
   "execution_count": 5,
   "id": "8a8f6fcb",
   "metadata": {},
   "outputs": [
    {
     "data": {
      "text/plain": [
       "array([[5, 5, 5, 5],\n",
       "       [5, 6, 7, 8]])"
      ]
     },
     "execution_count": 5,
     "metadata": {},
     "output_type": "execute_result"
    }
   ],
   "source": [
    "b[0:1] = [5]\n",
    "b"
   ]
  },
  {
   "cell_type": "code",
   "execution_count": 6,
   "id": "f598e6fb",
   "metadata": {},
   "outputs": [
    {
     "data": {
      "text/plain": [
       "array([[1, 2, 3, 4],\n",
       "       [5, 6, 7, 8]])"
      ]
     },
     "execution_count": 6,
     "metadata": {},
     "output_type": "execute_result"
    }
   ],
   "source": [
    "b[0:1] = [1,2,3,4]\n",
    "b"
   ]
  },
  {
   "cell_type": "code",
   "execution_count": 7,
   "id": "e2963957",
   "metadata": {},
   "outputs": [
    {
     "data": {
      "text/plain": [
       "array([[12, 13, 14, 15],\n",
       "       [12, 13, 14, 15]])"
      ]
     },
     "execution_count": 7,
     "metadata": {},
     "output_type": "execute_result"
    }
   ],
   "source": [
    "b[0:2] = np.arange(12,16)\n",
    "b"
   ]
  },
  {
   "cell_type": "code",
   "execution_count": 8,
   "id": "f06e8719",
   "metadata": {},
   "outputs": [
    {
     "data": {
      "text/plain": [
       "array([[12, 13, 14, 15],\n",
       "       [16, 17, 18, 19]])"
      ]
     },
     "execution_count": 8,
     "metadata": {},
     "output_type": "execute_result"
    }
   ],
   "source": [
    "b[0:2] = [[12,13,14,15],[16,17,18,19]]\n",
    "b"
   ]
  },
  {
   "cell_type": "code",
   "execution_count": 10,
   "id": "cdc71066",
   "metadata": {},
   "outputs": [
    {
     "data": {
      "text/plain": [
       "array([[102, 103, 104, 105],\n",
       "       [106, 107, 108, 109]])"
      ]
     },
     "execution_count": 10,
     "metadata": {},
     "output_type": "execute_result"
    }
   ],
   "source": [
    "b[0:2] = np.arange(102,110).reshape(2,4) # reshape로 2차원으로 변경\n",
    "b"
   ]
  },
  {
   "cell_type": "code",
   "execution_count": 11,
   "id": "11dc0d42",
   "metadata": {},
   "outputs": [
    {
     "data": {
      "text/plain": [
       "array([[  4,   4, 104, 105],\n",
       "       [  4,   4, 108, 109]])"
      ]
     },
     "execution_count": 11,
     "metadata": {},
     "output_type": "execute_result"
    }
   ],
   "source": [
    "b[0:2,0:2] = 4\n",
    "b"
   ]
  },
  {
   "cell_type": "code",
   "execution_count": 13,
   "id": "40b3cea1",
   "metadata": {},
   "outputs": [
    {
     "data": {
      "text/plain": [
       "array([[ 14,  14, 104, 105],\n",
       "       [ 14,  14, 108, 109]])"
      ]
     },
     "execution_count": 13,
     "metadata": {},
     "output_type": "execute_result"
    }
   ],
   "source": [
    "b[:2,:2] = [14]\n",
    "b"
   ]
  },
  {
   "cell_type": "code",
   "execution_count": 14,
   "id": "1be46d54",
   "metadata": {},
   "outputs": [
    {
     "data": {
      "text/plain": [
       "array([[ 15,  16, 104, 105],\n",
       "       [ 15,  16, 108, 109]])"
      ]
     },
     "execution_count": 14,
     "metadata": {},
     "output_type": "execute_result"
    }
   ],
   "source": [
    "b[:2,:2] = [15,16]\n",
    "b"
   ]
  },
  {
   "cell_type": "code",
   "execution_count": 15,
   "id": "a6d59858",
   "metadata": {},
   "outputs": [
    {
     "data": {
      "text/plain": [
       "array([[ 15,  16, 104, 105],\n",
       "       [ 17,  18, 108, 109]])"
      ]
     },
     "execution_count": 15,
     "metadata": {},
     "output_type": "execute_result"
    }
   ],
   "source": [
    "b[:2,:2] = [[15,16],[17,18]]\n",
    "b"
   ]
  },
  {
   "cell_type": "code",
   "execution_count": 21,
   "id": "b9489932",
   "metadata": {},
   "outputs": [
    {
     "name": "stdout",
     "output_type": "stream",
     "text": [
      "[0 1 2 3 4 5 6 7 8 9]\n",
      "[1 3 5]\n",
      "[ 0  1  2  3  4 15  6 17  8 19]\n",
      "[ 0  2  2  6  4 30  6 34  8 38]\n"
     ]
    }
   ],
   "source": [
    "# Fancy indexing : 1 차원\n",
    "d = np.arange(10)\n",
    "print(d)\n",
    "#인덱스값이 존재하면 추출\n",
    "print(d[[1,3,5]])\n",
    "d[[-1,-3,-5]] += 10\n",
    "print(d)\n",
    "d[range(1,10,2)] *= 2\n",
    "print(d)"
   ]
  },
  {
   "cell_type": "code",
   "execution_count": 22,
   "id": "196d7d22",
   "metadata": {},
   "outputs": [
    {
     "name": "stdout",
     "output_type": "stream",
     "text": [
      "[[ 0  1  2  3]\n",
      " [ 4  5  6  7]\n",
      " [ 8  9 10 11]\n",
      " [12 13 14 15]]\n"
     ]
    }
   ],
   "source": [
    "# Fancy indexing : 2 차원\n",
    "a = np.arange(16).reshape(4,4)\n",
    "print(a)"
   ]
  },
  {
   "cell_type": "code",
   "execution_count": 29,
   "id": "88d0f580",
   "metadata": {},
   "outputs": [
    {
     "name": "stdout",
     "output_type": "stream",
     "text": [
      "[[12 13 14 15]\n",
      " [ 0  1  2  3]\n",
      " [ 4  5  6  7]]\n",
      "---------------\n",
      "[[4 5 6 7]\n",
      " [4 5 6 7]]\n",
      "---------------\n",
      "[14  2  6]\n"
     ]
    }
   ],
   "source": [
    "print(a[[3,0,1]])\n",
    "print('---------------')\n",
    "print(a[[-3,-3]])\n",
    "print('---------------')\n",
    "print(a[[3,0,1],2])"
   ]
  },
  {
   "cell_type": "code",
   "execution_count": 30,
   "id": "43dbedf0",
   "metadata": {},
   "outputs": [
    {
     "data": {
      "text/plain": [
       "array([[ 0,  1,  2,  3],\n",
       "       [ 4,  5,  6,  7],\n",
       "       [ 8,  9, 10, 11],\n",
       "       [12, 13, 14, 15]])"
      ]
     },
     "execution_count": 30,
     "metadata": {},
     "output_type": "execute_result"
    }
   ],
   "source": [
    "a = np.arange(16).reshape(4,4)\n",
    "a"
   ]
  },
  {
   "cell_type": "code",
   "execution_count": 32,
   "id": "6d18b06b",
   "metadata": {},
   "outputs": [
    {
     "data": {
      "text/plain": [
       "array([[12, 13, 14, 15],\n",
       "       [ 0,  1,  2,  3],\n",
       "       [ 4,  5,  6,  7]])"
      ]
     },
     "execution_count": 32,
     "metadata": {},
     "output_type": "execute_result"
    }
   ],
   "source": [
    "a[[3,0,1]]"
   ]
  },
  {
   "cell_type": "code",
   "execution_count": 33,
   "id": "b635c47b",
   "metadata": {},
   "outputs": [
    {
     "data": {
      "text/plain": [
       "array([[4, 5, 6, 7],\n",
       "       [4, 5, 6, 7]])"
      ]
     },
     "execution_count": 33,
     "metadata": {},
     "output_type": "execute_result"
    }
   ],
   "source": [
    "a[[-3,-3]]"
   ]
  },
  {
   "cell_type": "code",
   "execution_count": 34,
   "id": "ff8f8c86",
   "metadata": {},
   "outputs": [
    {
     "data": {
      "text/plain": [
       "array([14,  2,  6])"
      ]
     },
     "execution_count": 34,
     "metadata": {},
     "output_type": "execute_result"
    }
   ],
   "source": [
    "a[[3,0,1],2]"
   ]
  },
  {
   "cell_type": "code",
   "execution_count": 35,
   "id": "bda65ada",
   "metadata": {},
   "outputs": [
    {
     "data": {
      "text/plain": [
       "array([14,  2,  6])"
      ]
     },
     "execution_count": 35,
     "metadata": {},
     "output_type": "execute_result"
    }
   ],
   "source": [
    "a[[3,0,1],[2]]"
   ]
  },
  {
   "cell_type": "code",
   "execution_count": 36,
   "id": "c6c4f257",
   "metadata": {},
   "outputs": [
    {
     "data": {
      "text/plain": [
       "array([12,  1,  6])"
      ]
     },
     "execution_count": 36,
     "metadata": {},
     "output_type": "execute_result"
    }
   ],
   "source": [
    "a[[3,0,1],[0,1,2]] # 3행 0열 , 0행 1열, 1행 2열"
   ]
  },
  {
   "cell_type": "code",
   "execution_count": 39,
   "id": "043497d8",
   "metadata": {},
   "outputs": [
    {
     "data": {
      "text/plain": [
       "array([[ 1],\n",
       "       [ 5],\n",
       "       [ 9],\n",
       "       [13]])"
      ]
     },
     "execution_count": 39,
     "metadata": {},
     "output_type": "execute_result"
    }
   ],
   "source": [
    "a[np.arange(4),1:2]"
   ]
  },
  {
   "cell_type": "code",
   "execution_count": 41,
   "id": "2a2f299c",
   "metadata": {},
   "outputs": [
    {
     "data": {
      "text/plain": [
       "array([[ 1,  2],\n",
       "       [ 5,  6],\n",
       "       [ 9, 10],\n",
       "       [13, 14]])"
      ]
     },
     "execution_count": 41,
     "metadata": {},
     "output_type": "execute_result"
    }
   ],
   "source": [
    "a[np.arange(4),1:3]"
   ]
  },
  {
   "cell_type": "code",
   "execution_count": 43,
   "id": "41804044",
   "metadata": {},
   "outputs": [
    {
     "data": {
      "text/plain": [
       "array([[ 1,  2,  3],\n",
       "       [ 5,  6,  7],\n",
       "       [ 9, 10, 11],\n",
       "       [13, 14, 15]])"
      ]
     },
     "execution_count": 43,
     "metadata": {},
     "output_type": "execute_result"
    }
   ],
   "source": [
    "a[np.arange(4),1:10]"
   ]
  },
  {
   "cell_type": "code",
   "execution_count": 44,
   "id": "ffcd86a2",
   "metadata": {},
   "outputs": [
    {
     "data": {
      "text/plain": [
       "array([ 0,  4,  8, 12])"
      ]
     },
     "execution_count": 44,
     "metadata": {},
     "output_type": "execute_result"
    }
   ],
   "source": [
    "a[np.arange(4), np.arange(1)]"
   ]
  },
  {
   "cell_type": "code",
   "execution_count": 45,
   "id": "36eda693",
   "metadata": {},
   "outputs": [
    {
     "data": {
      "text/plain": [
       "array([ 0,  5, 10, 15])"
      ]
     },
     "execution_count": 45,
     "metadata": {},
     "output_type": "execute_result"
    }
   ],
   "source": [
    "a[np.arange(4),np.arange(4)]"
   ]
  },
  {
   "cell_type": "code",
   "execution_count": 47,
   "id": "5a1efcdd",
   "metadata": {},
   "outputs": [
    {
     "data": {
      "text/plain": [
       "array([[ 0,  1,  2,  3],\n",
       "       [ 4,  5,  6,  7],\n",
       "       [ 8,  9, 10, 11],\n",
       "       [12, 13, 14, 15]])"
      ]
     },
     "execution_count": 47,
     "metadata": {},
     "output_type": "execute_result"
    }
   ],
   "source": [
    "a"
   ]
  },
  {
   "cell_type": "code",
   "execution_count": 48,
   "id": "114cc045",
   "metadata": {},
   "outputs": [
    {
     "data": {
      "text/plain": [
       "array([[4, 5, 6, 7]])"
      ]
     },
     "execution_count": 48,
     "metadata": {},
     "output_type": "execute_result"
    }
   ],
   "source": [
    "# 기존 python 인덱싱처럼 사용할 수 있기 때문에 혼란 유도\n",
    "a[[0,1,2,3][1:2]]"
   ]
  },
  {
   "cell_type": "code",
   "execution_count": 49,
   "id": "2a3da791",
   "metadata": {},
   "outputs": [
    {
     "data": {
      "text/plain": [
       "array([[ 4,  5,  6,  7],\n",
       "       [ 8,  9, 10, 11]])"
      ]
     },
     "execution_count": 49,
     "metadata": {},
     "output_type": "execute_result"
    }
   ],
   "source": [
    "a[[0,1,2,3][1:3]]"
   ]
  },
  {
   "cell_type": "code",
   "execution_count": 51,
   "id": "10511234",
   "metadata": {},
   "outputs": [
    {
     "data": {
      "text/plain": [
       "array([4, 5, 6, 7])"
      ]
     },
     "execution_count": 51,
     "metadata": {},
     "output_type": "execute_result"
    }
   ],
   "source": [
    "a[[0,1,2,3][1]]"
   ]
  },
  {
   "cell_type": "code",
   "execution_count": 53,
   "id": "c0ab101c",
   "metadata": {},
   "outputs": [
    {
     "data": {
      "text/plain": [
       "array([['Bob', 'Joe', 'Will'],\n",
       "       ['Will', 'Bob', 'Joe']], dtype='<U4')"
      ]
     },
     "execution_count": 53,
     "metadata": {},
     "output_type": "execute_result"
    }
   ],
   "source": [
    "# 조건 검색\n",
    "names = np.array([['Bob','Joe','Will'],['Will','Bob','Joe']])\n",
    "names"
   ]
  },
  {
   "cell_type": "code",
   "execution_count": 54,
   "id": "43aab109",
   "metadata": {},
   "outputs": [
    {
     "data": {
      "text/plain": [
       "array([[ True, False, False],\n",
       "       [False,  True, False]])"
      ]
     },
     "execution_count": 54,
     "metadata": {},
     "output_type": "execute_result"
    }
   ],
   "source": [
    "names == 'Bob'"
   ]
  },
  {
   "cell_type": "code",
   "execution_count": 55,
   "id": "c856a0e6",
   "metadata": {},
   "outputs": [
    {
     "data": {
      "text/plain": [
       "array(['Bob', 'Bob'], dtype='<U4')"
      ]
     },
     "execution_count": 55,
     "metadata": {},
     "output_type": "execute_result"
    }
   ],
   "source": [
    "names[names=='Bob'] # 1차원의 ndarray 로 출력"
   ]
  },
  {
   "cell_type": "code",
   "execution_count": 59,
   "id": "c45133e6",
   "metadata": {},
   "outputs": [
    {
     "name": "stdout",
     "output_type": "stream",
     "text": [
      "['Joe' 'Will' 'Will' 'Joe']\n",
      "['Joe' 'Will' 'Will' 'Joe']\n"
     ]
    }
   ],
   "source": [
    "print(names[names != 'Bob']) \n",
    "print(names[~(names == 'Bob')])"
   ]
  },
  {
   "cell_type": "code",
   "execution_count": 60,
   "id": "7d1dbb4a",
   "metadata": {},
   "outputs": [
    {
     "data": {
      "text/plain": [
       "array([['Jane', 'Joe', 'Will'],\n",
       "       ['Will', 'Jane', 'Joe']], dtype='<U4')"
      ]
     },
     "execution_count": 60,
     "metadata": {},
     "output_type": "execute_result"
    }
   ],
   "source": [
    "names[names=='Bob'] = 'Jane' # 치환문 2 차원\n",
    "names"
   ]
  },
  {
   "cell_type": "markdown",
   "id": "ae8e19aa",
   "metadata": {},
   "source": [
    "### 연습문제 1 코드 완성"
   ]
  },
  {
   "cell_type": "code",
   "execution_count": 62,
   "id": "e05d399f",
   "metadata": {},
   "outputs": [
    {
     "data": {
      "text/plain": [
       "array([[ 1,  2,  3,  4,  5],\n",
       "       [ 6,  7,  8,  9, 10],\n",
       "       [11, 12, 13, 14, 15],\n",
       "       [16, 17, 18, 19, 20]])"
      ]
     },
     "execution_count": 62,
     "metadata": {},
     "output_type": "execute_result"
    }
   ],
   "source": [
    "a = np.arange(1,21).reshape(4,5)\n",
    "a"
   ]
  },
  {
   "cell_type": "code",
   "execution_count": 63,
   "id": "5397eb7c",
   "metadata": {},
   "outputs": [
    {
     "data": {
      "text/plain": [
       "array([[ 1,  3,  5],\n",
       "       [11, 13, 15]])"
      ]
     },
     "execution_count": 63,
     "metadata": {},
     "output_type": "execute_result"
    }
   ],
   "source": [
    "a[::2,::2]"
   ]
  },
  {
   "cell_type": "markdown",
   "id": "90e476c9",
   "metadata": {},
   "source": [
    "### 연습문제 2 ndarray 변환"
   ]
  },
  {
   "cell_type": "code",
   "execution_count": 64,
   "id": "19b8a5ca",
   "metadata": {},
   "outputs": [
    {
     "data": {
      "text/plain": [
       "array([[100,   2, 100,   4, 100],\n",
       "       [  6, 100,   8, 100,  10],\n",
       "       [100,  12, 100,  14, 100],\n",
       "       [ 16, 100,  18, 100,  20]])"
      ]
     },
     "execution_count": 64,
     "metadata": {},
     "output_type": "execute_result"
    }
   ],
   "source": [
    "a[a%2 == 1] = 100\n",
    "a"
   ]
  }
 ],
 "metadata": {
  "kernelspec": {
   "display_name": "Python 3",
   "language": "python",
   "name": "python3"
  },
  "language_info": {
   "codemirror_mode": {
    "name": "ipython",
    "version": 3
   },
   "file_extension": ".py",
   "mimetype": "text/x-python",
   "name": "python",
   "nbconvert_exporter": "python",
   "pygments_lexer": "ipython3",
   "version": "3.8.8"
  }
 },
 "nbformat": 4,
 "nbformat_minor": 5
}
