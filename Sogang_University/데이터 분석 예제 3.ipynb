{
 "cells": [
  {
   "cell_type": "markdown",
   "id": "1965cd2d",
   "metadata": {},
   "source": [
    "## 데이터 파일 : InauguralAddress 폴더\n",
    "- 1789~2017년 미국 대통령 취임 연설문 58개"
   ]
  },
  {
   "cell_type": "markdown",
   "id": "e3c2c55c",
   "metadata": {},
   "source": [
    "## 연습문제 1\n",
    "#### 1. 각 파일 텍스트로부터 알파벳 / 숫자 포함 어휘 추출하여 소문자 변환\n",
    "#### 2. 각 파일에서 분포하는 'america' 와 'freedom' 의 상대빈도를 추출하여 데이터프레임 Address의 컬럼 America, Freedom 만들기\n",
    "#### 3. 파일명에서 취임년도를 추출하여 데이터프레임 Address의 인덱스로 생성"
   ]
  },
  {
   "cell_type": "code",
   "execution_count": 20,
   "id": "6018fc1a",
   "metadata": {},
   "outputs": [],
   "source": [
    "import os, re\n",
    "import pandas as pd\n",
    "Years = []\n",
    "America = []\n",
    "Freedom = []\n",
    "for i in os.listdir('./InauguralAddress'):\n",
    "    n = [j.lower() \n",
    "         for j in open('./InauguralAddress/' + i,errors='ignore').read().split() \n",
    "         if re.search('\\w',j)]\n",
    "    Years.append(re.match('\\d{4}',i).group())\n",
    "    America.append(n.count('america')/len(n))\n",
    "    Freedom.append(n.count('freedom')/len(n))\n",
    "Address = pd.DataFrame({'America':America, 'Freedom':Freedom},\n",
    "                      index = Years)"
   ]
  },
  {
   "cell_type": "code",
   "execution_count": 21,
   "id": "074a9985",
   "metadata": {},
   "outputs": [
    {
     "data": {
      "text/plain": [
       "(58, 2)"
      ]
     },
     "execution_count": 21,
     "metadata": {},
     "output_type": "execute_result"
    }
   ],
   "source": [
    "Address.shape"
   ]
  },
  {
   "cell_type": "markdown",
   "id": "ab369f40",
   "metadata": {},
   "source": [
    "## 기술 통계"
   ]
  },
  {
   "cell_type": "code",
   "execution_count": 22,
   "id": "53723991",
   "metadata": {},
   "outputs": [
    {
     "data": {
      "text/html": [
       "<div>\n",
       "<style scoped>\n",
       "    .dataframe tbody tr th:only-of-type {\n",
       "        vertical-align: middle;\n",
       "    }\n",
       "\n",
       "    .dataframe tbody tr th {\n",
       "        vertical-align: top;\n",
       "    }\n",
       "\n",
       "    .dataframe thead th {\n",
       "        text-align: right;\n",
       "    }\n",
       "</style>\n",
       "<table border=\"1\" class=\"dataframe\">\n",
       "  <thead>\n",
       "    <tr style=\"text-align: right;\">\n",
       "      <th></th>\n",
       "      <th>America</th>\n",
       "      <th>Freedom</th>\n",
       "    </tr>\n",
       "  </thead>\n",
       "  <tbody>\n",
       "    <tr>\n",
       "      <th>count</th>\n",
       "      <td>58.000000</td>\n",
       "      <td>58.000000</td>\n",
       "    </tr>\n",
       "    <tr>\n",
       "      <th>mean</th>\n",
       "      <td>0.001025</td>\n",
       "      <td>0.000965</td>\n",
       "    </tr>\n",
       "    <tr>\n",
       "      <th>std</th>\n",
       "      <td>0.001525</td>\n",
       "      <td>0.001240</td>\n",
       "    </tr>\n",
       "    <tr>\n",
       "      <th>min</th>\n",
       "      <td>0.000000</td>\n",
       "      <td>0.000000</td>\n",
       "    </tr>\n",
       "    <tr>\n",
       "      <th>25%</th>\n",
       "      <td>0.000000</td>\n",
       "      <td>0.000000</td>\n",
       "    </tr>\n",
       "    <tr>\n",
       "      <th>50%</th>\n",
       "      <td>0.000000</td>\n",
       "      <td>0.000553</td>\n",
       "    </tr>\n",
       "    <tr>\n",
       "      <th>75%</th>\n",
       "      <td>0.001845</td>\n",
       "      <td>0.001454</td>\n",
       "    </tr>\n",
       "    <tr>\n",
       "      <th>max</th>\n",
       "      <td>0.006181</td>\n",
       "      <td>0.005350</td>\n",
       "    </tr>\n",
       "  </tbody>\n",
       "</table>\n",
       "</div>"
      ],
      "text/plain": [
       "         America    Freedom\n",
       "count  58.000000  58.000000\n",
       "mean    0.001025   0.000965\n",
       "std     0.001525   0.001240\n",
       "min     0.000000   0.000000\n",
       "25%     0.000000   0.000000\n",
       "50%     0.000000   0.000553\n",
       "75%     0.001845   0.001454\n",
       "max     0.006181   0.005350"
      ]
     },
     "execution_count": 22,
     "metadata": {},
     "output_type": "execute_result"
    }
   ],
   "source": [
    "Address.describe()"
   ]
  },
  {
   "cell_type": "markdown",
   "id": "5766b69b",
   "metadata": {},
   "source": [
    "## 연습문제 2\n",
    "- 데이터프레임 Address를 이용하여 다음의 boxplot을 만들고 분포적 특성을 해석해보시오."
   ]
  },
  {
   "cell_type": "code",
   "execution_count": 23,
   "id": "c7a4e1e6",
   "metadata": {},
   "outputs": [
    {
     "data": {
      "text/plain": [
       "<AxesSubplot:>"
      ]
     },
     "execution_count": 23,
     "metadata": {},
     "output_type": "execute_result"
    },
    {
     "data": {
      "image/png": "[encoded data removed]",
      "text/plain": [
       "<Figure size 432x288 with 1 Axes>"
      ]
     },
     "metadata": {
      "needs_background": "light"
     },
     "output_type": "display_data"
    }
   ],
   "source": [
    "%matplotlib inline\n",
    "import matplotlib.pyplot as plt\n",
    "Address.boxplot()"
   ]
  },
  {
   "cell_type": "markdown",
   "id": "f7596308",
   "metadata": {},
   "source": [
    "- 1차적 목표 : 정규분포냐 아니냐, 정규분포가 아니다. \n",
    "- 중간값을 기준으로 1사분위와 3사분위 사이 간격이 다르고,최대값과 최소값의 간격도 다르다\n",
    "- 이상치가 존재"
   ]
  },
  {
   "cell_type": "markdown",
   "id": "388d474a",
   "metadata": {},
   "source": [
    "## 연습문제 3\n",
    "- 데이터프레임 Address를 이용하여 다음의 line-chart를 만들고 분포적 특성을 해석하시오."
   ]
  },
  {
   "cell_type": "code",
   "execution_count": 26,
   "id": "5cf2bb01",
   "metadata": {},
   "outputs": [
    {
     "data": {
      "text/plain": [
       "Text(0, 0.5, '상대빈도')"
      ]
     },
     "execution_count": 26,
     "metadata": {},
     "output_type": "execute_result"
    },
    {
     "data": {
      "image/png": "[encoded data removed]",
      "text/plain": [
       "<Figure size 432x288 with 1 Axes>"
      ]
     },
     "metadata": {
      "needs_background": "light"
     },
     "output_type": "display_data"
    }
   ],
   "source": [
    "Address.columns.name = '어휘'\n",
    "plt.rcParams['font.family'] = 'Malgun Gothic'\n",
    "Address.plot()\n",
    "plt.title('추세도')\n",
    "plt.xlabel('년도')\n",
    "plt.ylabel('상대빈도')"
   ]
  },
  {
   "cell_type": "markdown",
   "id": "08e16d27",
   "metadata": {},
   "source": [
    "- 시대의 시대정신이자 미래의 비전을 제시하는 어휘들을 많이 사용되었을 것임.\n",
    "- america와 freedom이 점차 많이 강조되고 있음\n",
    "- america와 freedom이 미국 정치에서 상관성이 높을 가능성이 높다는 것을 알 수 있음"
   ]
  },
  {
   "cell_type": "markdown",
   "id": "6996cf7b",
   "metadata": {},
   "source": [
    "## 연습문제 4\n",
    "- 데이터프레임 Address를 이용하여 다음의 scatter plot을 만들고, 단순선형 회귀선(simple linear regression line)을 삽입하시오."
   ]
  },
  {
   "cell_type": "code",
   "execution_count": 30,
   "id": "4705f407",
   "metadata": {},
   "outputs": [
    {
     "data": {
      "text/plain": [
       "[<matplotlib.lines.Line2D at 0x136878dd3a0>]"
      ]
     },
     "execution_count": 30,
     "metadata": {},
     "output_type": "execute_result"
    },
    {
     "data": {
      "image/png": "[encoded data removed]",
      "text/plain": [
       "<Figure size 432x288 with 1 Axes>"
      ]
     },
     "metadata": {
      "needs_background": "light"
     },
     "output_type": "display_data"
    }
   ],
   "source": [
    "import numpy as np\n",
    "a, b = np.polyfit(Address['America'],Address['Freedom'], 1)\n",
    "plt.scatter(Address['America'],Address['Freedom'])\n",
    "plt.xlabel('America')\n",
    "plt.ylabel('Freedom')\n",
    "plt.plot(Address['America'], a * Address['America'] + b, '-r')"
   ]
  },
  {
   "cell_type": "markdown",
   "id": "00da751b",
   "metadata": {},
   "source": [
    "- 1차 방정식 단순 선형 회귀\n",
    "- 상관성을 따져볼 경우 회귀선 근처에 점들이 나타나지 않기에 정규분포 x\n",
    "- 선형성 x"
   ]
  },
  {
   "cell_type": "markdown",
   "id": "7e825fe6",
   "metadata": {},
   "source": [
    "## 상관분석"
   ]
  },
  {
   "cell_type": "code",
   "execution_count": null,
   "id": "79b130ca",
   "metadata": {},
   "outputs": [],
   "source": [
    "# 정규분포, 선형성 : pearson\n",
    "# 비정규분포, 비선형 : kendall, spearman\n",
    "\n",
    "# 상관계수는 -1 ~ 1사이의 값 0에 근접하면 상관성이 낮고 1또는 -1에 근접하면 높음\n",
    "Address.corr(method='pearson')"
   ]
  },
  {
   "cell_type": "code",
   "execution_count": 33,
   "id": "38e68ea4",
   "metadata": {},
   "outputs": [
    {
     "data": {
      "text/html": [
       "<div>\n",
       "<style scoped>\n",
       "    .dataframe tbody tr th:only-of-type {\n",
       "        vertical-align: middle;\n",
       "    }\n",
       "\n",
       "    .dataframe tbody tr th {\n",
       "        vertical-align: top;\n",
       "    }\n",
       "\n",
       "    .dataframe thead th {\n",
       "        text-align: right;\n",
       "    }\n",
       "</style>\n",
       "<table border=\"1\" class=\"dataframe\">\n",
       "  <thead>\n",
       "    <tr style=\"text-align: right;\">\n",
       "      <th>어휘</th>\n",
       "      <th>America</th>\n",
       "      <th>Freedom</th>\n",
       "    </tr>\n",
       "    <tr>\n",
       "      <th>어휘</th>\n",
       "      <th></th>\n",
       "      <th></th>\n",
       "    </tr>\n",
       "  </thead>\n",
       "  <tbody>\n",
       "    <tr>\n",
       "      <th>America</th>\n",
       "      <td>1.000000</td>\n",
       "      <td>0.366278</td>\n",
       "    </tr>\n",
       "    <tr>\n",
       "      <th>Freedom</th>\n",
       "      <td>0.366278</td>\n",
       "      <td>1.000000</td>\n",
       "    </tr>\n",
       "  </tbody>\n",
       "</table>\n",
       "</div>"
      ],
      "text/plain": [
       "어휘        America   Freedom\n",
       "어휘                         \n",
       "America  1.000000  0.366278\n",
       "Freedom  0.366278  1.000000"
      ]
     },
     "execution_count": 33,
     "metadata": {},
     "output_type": "execute_result"
    }
   ],
   "source": [
    "Address.corr(method='kendall')"
   ]
  },
  {
   "cell_type": "code",
   "execution_count": 34,
   "id": "ef3232f1",
   "metadata": {},
   "outputs": [
    {
     "data": {
      "text/html": [
       "<div>\n",
       "<style scoped>\n",
       "    .dataframe tbody tr th:only-of-type {\n",
       "        vertical-align: middle;\n",
       "    }\n",
       "\n",
       "    .dataframe tbody tr th {\n",
       "        vertical-align: top;\n",
       "    }\n",
       "\n",
       "    .dataframe thead th {\n",
       "        text-align: right;\n",
       "    }\n",
       "</style>\n",
       "<table border=\"1\" class=\"dataframe\">\n",
       "  <thead>\n",
       "    <tr style=\"text-align: right;\">\n",
       "      <th>어휘</th>\n",
       "      <th>America</th>\n",
       "      <th>Freedom</th>\n",
       "    </tr>\n",
       "    <tr>\n",
       "      <th>어휘</th>\n",
       "      <th></th>\n",
       "      <th></th>\n",
       "    </tr>\n",
       "  </thead>\n",
       "  <tbody>\n",
       "    <tr>\n",
       "      <th>America</th>\n",
       "      <td>1.000000</td>\n",
       "      <td>0.462073</td>\n",
       "    </tr>\n",
       "    <tr>\n",
       "      <th>Freedom</th>\n",
       "      <td>0.462073</td>\n",
       "      <td>1.000000</td>\n",
       "    </tr>\n",
       "  </tbody>\n",
       "</table>\n",
       "</div>"
      ],
      "text/plain": [
       "어휘        America   Freedom\n",
       "어휘                         \n",
       "America  1.000000  0.462073\n",
       "Freedom  0.462073  1.000000"
      ]
     },
     "execution_count": 34,
     "metadata": {},
     "output_type": "execute_result"
    }
   ],
   "source": [
    "Address.corr(method='spearman')"
   ]
  },
  {
   "cell_type": "markdown",
   "id": "ffdf5059",
   "metadata": {},
   "source": [
    "- 양수일 경우에는 두 경우는 positive 하다. 하나가 증가하면 나머지도 증가한다.\n",
    "- 음의 상관성은 하나의 변수가 증가하면 다른 변수의 값이 감소한다. 반비례"
   ]
  },
  {
   "cell_type": "markdown",
   "id": "855bac38",
   "metadata": {},
   "source": [
    "## 상관계수\n",
    " - small 0.1 , medium 0.3 , large 0.5\n",
    " - 위의 경우는 spearman이 가장 낫다."
   ]
  },
  {
   "cell_type": "markdown",
   "id": "be54f507",
   "metadata": {},
   "source": [
    "## cumsum"
   ]
  },
  {
   "cell_type": "code",
   "execution_count": 35,
   "id": "f90fab63",
   "metadata": {},
   "outputs": [
    {
     "data": {
      "text/plain": [
       "<AxesSubplot:>"
      ]
     },
     "execution_count": 35,
     "metadata": {},
     "output_type": "execute_result"
    },
    {
     "data": {
      "image/png": "[encoded data removed]",
      "text/plain": [
       "<Figure size 432x288 with 1 Axes>"
      ]
     },
     "metadata": {
      "needs_background": "light"
     },
     "output_type": "display_data"
    }
   ],
   "source": [
    "Address.cumsum().plot()"
   ]
  },
  {
   "cell_type": "markdown",
   "id": "fcada6d7",
   "metadata": {},
   "source": [
    "- 추세 라인 차트를 만들어 볼 수 있음 누적합계니깐 상승은 당연하지만\n",
    "- 1900년도에서 본격적으로 사용되기 시작함.\n",
    "- 1950년까지 1차 기울기 1950년부터 2차 기울기 2차 대전 종료 이후 예상 가능\n",
    "- freedom이 더 많이 사용되었지만 근래에는 america가 더 많이 사용되고있음\n",
    "- 비정규 분포지만 양의 상관성을 알 수 있었는데, cumsum을 통해서도 알 수 있음"
   ]
  },
  {
   "cell_type": "markdown",
   "id": "004ccab5",
   "metadata": {},
   "source": [
    "## pct_change"
   ]
  },
  {
   "cell_type": "code",
   "execution_count": 36,
   "id": "271f8714",
   "metadata": {},
   "outputs": [
    {
     "data": {
      "text/plain": [
       "<AxesSubplot:>"
      ]
     },
     "execution_count": 36,
     "metadata": {},
     "output_type": "execute_result"
    },
    {
     "data": {
      "image/png": "[encoded data removed]",
      "text/plain": [
       "<Figure size 432x288 with 1 Axes>"
      ]
     },
     "metadata": {
      "needs_background": "light"
     },
     "output_type": "display_data"
    }
   ],
   "source": [
    "Address.pct_change().plot()"
   ]
  },
  {
   "cell_type": "markdown",
   "id": "eb52008f",
   "metadata": {},
   "source": [
    "- 세계2차대전 종전 이후의 증가를 확인가능\n",
    "- 어떤 해에는 아주 많이 언급됨"
   ]
  },
  {
   "cell_type": "markdown",
   "id": "6942e82a",
   "metadata": {},
   "source": [
    "## 연습문제 5\n",
    "- 데이터프레임 Address를 AmericaFreedom.txt 파일로 저장하시오."
   ]
  },
  {
   "cell_type": "code",
   "execution_count": 38,
   "id": "a3289323",
   "metadata": {},
   "outputs": [],
   "source": [
    "Address.to_csv('AmericaFreedom.txt',sep = '\\t')"
   ]
  }
 ],
 "metadata": {
  "kernelspec": {
   "display_name": "Python 3",
   "language": "python",
   "name": "python3"
  },
  "language_info": {
   "codemirror_mode": {
    "name": "ipython",
    "version": 3
   },
   "file_extension": ".py",
   "mimetype": "text/x-python",
   "name": "python",
   "nbconvert_exporter": "python",
   "pygments_lexer": "ipython3",
   "version": "3.8.8"
  }
 },
 "nbformat": 4,
 "nbformat_minor": 5
}
