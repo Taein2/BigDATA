{
 "cells": [
  {
   "cell_type": "code",
   "execution_count": 1,
   "id": "6e763b9c",
   "metadata": {},
   "outputs": [
    {
     "data": {
      "text/plain": [
       "0    11\n",
       "1    28\n",
       "2    72\n",
       "3     3\n",
       "4     5\n",
       "5     8\n",
       "dtype: int64"
      ]
     },
     "execution_count": 1,
     "metadata": {},
     "output_type": "execute_result"
    }
   ],
   "source": [
    "import pandas as pd\n",
    "S = pd.Series([11,28,72,3,5,8])\n",
    "S"
   ]
  },
  {
   "cell_type": "code",
   "execution_count": 6,
   "id": "9b118a30",
   "metadata": {},
   "outputs": [
    {
     "name": "stdout",
     "output_type": "stream",
     "text": [
      "<class 'pandas.core.series.Series'>\n",
      "[11 28 72  3  5  8]\n",
      "<class 'numpy.ndarray'>\n",
      "RangeIndex(start=0, stop=6, step=1)\n",
      "<class 'pandas.core.indexes.range.RangeIndex'>\n"
     ]
    }
   ],
   "source": [
    "print(type(S))\n",
    "print(S.values)\n",
    "print(type(S.values))\n",
    "print(S.index)\n",
    "print(type(S.index))"
   ]
  },
  {
   "cell_type": "code",
   "execution_count": 11,
   "id": "869ac148",
   "metadata": {},
   "outputs": [
    {
     "name": "stdout",
     "output_type": "stream",
     "text": [
      "0    11\n",
      "1    28\n",
      "dtype: int64\n",
      "\n",
      "0    (a, 2)\n",
      "1    (b, 1)\n",
      "dtype: object\n",
      "\n",
      "a    2\n",
      "b    1\n",
      "dtype: int64\n",
      "\n",
      "0    abc\n",
      "dtype: object\n",
      "\n",
      "0    a\n",
      "1    b\n",
      "2    c\n",
      "dtype: object\n"
     ]
    }
   ],
   "source": [
    "# set은 사용 불가\n",
    "print(pd.Series((11,28)))\n",
    "print()\n",
    "print(pd.Series((('a',2),('b',1))))\n",
    "print()\n",
    "print(pd.Series({'a':2,'b':1}))\n",
    "print()\n",
    "print(pd.Series('abc'))\n",
    "print()\n",
    "print(pd.Series(list('abc')))\n",
    "#pd.Series({11,28})"
   ]
  },
  {
   "cell_type": "code",
   "execution_count": 16,
   "id": "61370d5c",
   "metadata": {},
   "outputs": [
    {
     "name": "stdout",
     "output_type": "stream",
     "text": [
      "0    1\n",
      "1    2\n",
      "2    1\n",
      "dtype: int32\n",
      "a             abc\n",
      "b    [0, 1, 2, 3]\n",
      "dtype: object\n",
      "a    [[0, 1], [2, 3]]\n",
      "b        [0, 1, 2, 3]\n",
      "dtype: object\n"
     ]
    }
   ],
   "source": [
    "import numpy as np\n",
    "print(pd.Series(np.array([1,2,1])))\n",
    "print(pd.Series({'a':'abc','b':np.arange(4)}))\n",
    "print(pd.Series({'a':np.arange(4).reshape(2,2),'b':np.arange(4)}))"
   ]
  },
  {
   "cell_type": "markdown",
   "id": "e1de4526",
   "metadata": {},
   "source": [
    "# 숫자 인덱싱, 슬라이싱"
   ]
  },
  {
   "cell_type": "code",
   "execution_count": 17,
   "id": "84542270",
   "metadata": {},
   "outputs": [
    {
     "data": {
      "text/plain": [
       "1    11\n",
       "3    28\n",
       "5    72\n",
       "dtype: int64"
      ]
     },
     "execution_count": 17,
     "metadata": {},
     "output_type": "execute_result"
    }
   ],
   "source": [
    "a = pd.Series([11,28,72], index=range(1,6,2))\n",
    "a"
   ]
  },
  {
   "cell_type": "code",
   "execution_count": 19,
   "id": "fe33f948",
   "metadata": {},
   "outputs": [
    {
     "data": {
      "text/plain": [
       "RangeIndex(start=1, stop=6, step=2)"
      ]
     },
     "execution_count": 19,
     "metadata": {},
     "output_type": "execute_result"
    }
   ],
   "source": [
    "a.index"
   ]
  },
  {
   "cell_type": "code",
   "execution_count": 20,
   "id": "f9063f97",
   "metadata": {},
   "outputs": [
    {
     "data": {
      "text/plain": [
       "pandas.core.indexes.range.RangeIndex"
      ]
     },
     "execution_count": 20,
     "metadata": {},
     "output_type": "execute_result"
    }
   ],
   "source": [
    "type(a.index)"
   ]
  },
  {
   "cell_type": "code",
   "execution_count": 31,
   "id": "7b610ddd",
   "metadata": {},
   "outputs": [
    {
     "name": "stdout",
     "output_type": "stream",
     "text": [
      "1    11\n",
      "dtype: int64\n",
      "3    28\n",
      "5    72\n",
      "dtype: int64\n"
     ]
    }
   ],
   "source": [
    "print(a[0:1])\n",
    "print(a[1:3])"
   ]
  },
  {
   "cell_type": "code",
   "execution_count": 32,
   "id": "88c55222",
   "metadata": {},
   "outputs": [
    {
     "data": {
      "text/plain": [
       "1     NaN\n",
       "3    28.0\n",
       "5    72.0\n",
       "dtype: float64"
      ]
     },
     "execution_count": 32,
     "metadata": {},
     "output_type": "execute_result"
    }
   ],
   "source": [
    "a[1] = None\n",
    "a"
   ]
  },
  {
   "cell_type": "code",
   "execution_count": 33,
   "id": "80e45247",
   "metadata": {},
   "outputs": [
    {
     "data": {
      "text/plain": [
       "nan"
      ]
     },
     "execution_count": 33,
     "metadata": {},
     "output_type": "execute_result"
    }
   ],
   "source": [
    "a[1]"
   ]
  },
  {
   "cell_type": "code",
   "execution_count": 34,
   "id": "ab8ce71e",
   "metadata": {},
   "outputs": [
    {
     "data": {
      "text/plain": [
       "1     NaN\n",
       "3    10.0\n",
       "5     NaN\n",
       "dtype: float64"
      ]
     },
     "execution_count": 34,
     "metadata": {},
     "output_type": "execute_result"
    }
   ],
   "source": [
    "a[1:3] = [10,np.nan]\n",
    "a"
   ]
  },
  {
   "cell_type": "code",
   "execution_count": 36,
   "id": "9577506f",
   "metadata": {},
   "outputs": [
    {
     "data": {
      "text/plain": [
       "5   NaN\n",
       "dtype: float64"
      ]
     },
     "execution_count": 36,
     "metadata": {},
     "output_type": "execute_result"
    }
   ],
   "source": [
    "a[2:3]"
   ]
  },
  {
   "cell_type": "code",
   "execution_count": 38,
   "id": "548a9f64",
   "metadata": {},
   "outputs": [
    {
     "name": "stdout",
     "output_type": "stream",
     "text": [
      "<class 'float'>\n",
      "None\n"
     ]
    }
   ],
   "source": [
    "print(type(np.nan))\n",
    "print(None)"
   ]
  },
  {
   "cell_type": "code",
   "execution_count": 42,
   "id": "3aff11b6",
   "metadata": {},
   "outputs": [
    {
     "data": {
      "text/plain": [
       "1     0\n",
       "3    10\n",
       "5     0\n",
       "dtype: int32"
      ]
     },
     "execution_count": 42,
     "metadata": {},
     "output_type": "execute_result"
    }
   ],
   "source": [
    "a.fillna(0).astype('int')"
   ]
  },
  {
   "cell_type": "code",
   "execution_count": 43,
   "id": "0f0c2b2d",
   "metadata": {},
   "outputs": [
    {
     "data": {
      "text/plain": [
       "a    11\n",
       "b    28\n",
       "c    72\n",
       "dtype: int64"
      ]
     },
     "execution_count": 43,
     "metadata": {},
     "output_type": "execute_result"
    }
   ],
   "source": [
    "b = pd.Series([11,28,72], index = list('abc'))\n",
    "b"
   ]
  },
  {
   "cell_type": "code",
   "execution_count": 46,
   "id": "64fbbe52",
   "metadata": {},
   "outputs": [
    {
     "name": "stdout",
     "output_type": "stream",
     "text": [
      "28\n",
      "b    28\n",
      "c    72\n",
      "dtype: int64\n"
     ]
    }
   ],
   "source": [
    "print(b['b'])\n",
    "print(b['b':'c']) # 문자 인덱싱은 뒤까지 포함해서 결과 출력"
   ]
  },
  {
   "cell_type": "code",
   "execution_count": 45,
   "id": "5acfdd09",
   "metadata": {},
   "outputs": [
    {
     "data": {
      "text/plain": [
       "11"
      ]
     },
     "execution_count": 45,
     "metadata": {},
     "output_type": "execute_result"
    }
   ],
   "source": [
    "b[0]"
   ]
  },
  {
   "cell_type": "code",
   "execution_count": 47,
   "id": "9f325670",
   "metadata": {},
   "outputs": [
    {
     "data": {
      "text/plain": [
       "a    11\n",
       "dtype: int64"
      ]
     },
     "execution_count": 47,
     "metadata": {},
     "output_type": "execute_result"
    }
   ],
   "source": [
    "b[0:1]"
   ]
  },
  {
   "cell_type": "code",
   "execution_count": 52,
   "id": "f2fda492",
   "metadata": {},
   "outputs": [
    {
     "data": {
      "text/plain": [
       "Index(['a', 'b', 'c'], dtype='object')"
      ]
     },
     "execution_count": 52,
     "metadata": {},
     "output_type": "execute_result"
    }
   ],
   "source": [
    "b.index"
   ]
  },
  {
   "cell_type": "code",
   "execution_count": 53,
   "id": "69656846",
   "metadata": {},
   "outputs": [
    {
     "data": {
      "text/plain": [
       "array([11, 28, 72], dtype=int64)"
      ]
     },
     "execution_count": 53,
     "metadata": {},
     "output_type": "execute_result"
    }
   ],
   "source": [
    "b.values"
   ]
  },
  {
   "cell_type": "code",
   "execution_count": 57,
   "id": "e94007c2",
   "metadata": {},
   "outputs": [],
   "source": [
    "b.index = ['b','a','c'] # 인덱스 값 변경"
   ]
  },
  {
   "cell_type": "code",
   "execution_count": 58,
   "id": "9415c84c",
   "metadata": {},
   "outputs": [
    {
     "data": {
      "text/plain": [
       "b    11\n",
       "a    28\n",
       "dtype: int64"
      ]
     },
     "execution_count": 58,
     "metadata": {},
     "output_type": "execute_result"
    }
   ],
   "source": [
    "b['b':'a']"
   ]
  },
  {
   "cell_type": "markdown",
   "id": "ff9497aa",
   "metadata": {},
   "source": [
    "# 인덱스 자격"
   ]
  },
  {
   "cell_type": "code",
   "execution_count": 59,
   "id": "49300c48",
   "metadata": {},
   "outputs": [
    {
     "data": {
      "text/plain": [
       "0    11\n",
       "1    28\n",
       "2    72\n",
       "dtype: int64"
      ]
     },
     "execution_count": 59,
     "metadata": {},
     "output_type": "execute_result"
    }
   ],
   "source": [
    "b.index = range(3)\n",
    "b"
   ]
  },
  {
   "cell_type": "code",
   "execution_count": 61,
   "id": "6f602d4c",
   "metadata": {},
   "outputs": [
    {
     "data": {
      "text/plain": [
       "(a,)    11\n",
       "(b,)    28\n",
       "(c,)    72\n",
       "dtype: int64"
      ]
     },
     "execution_count": 61,
     "metadata": {},
     "output_type": "execute_result"
    }
   ],
   "source": [
    "b.index = [('a',),('b',),('c',)]\n",
    "b #숫자 tuple만 가능 index값으로는 set dict와 같이 변경가능한 값은 안됨"
   ]
  },
  {
   "cell_type": "markdown",
   "id": "74c82b1b",
   "metadata": {},
   "source": [
    "# Fancy indexing"
   ]
  },
  {
   "cell_type": "code",
   "execution_count": 65,
   "id": "5fa2976b",
   "metadata": {},
   "outputs": [
    {
     "data": {
      "text/plain": [
       "a    11\n",
       "b    28\n",
       "b    72\n",
       "dtype: int64"
      ]
     },
     "execution_count": 65,
     "metadata": {},
     "output_type": "execute_result"
    }
   ],
   "source": [
    "c = pd.Series([11,28,72], index = ['a','b','b'])\n",
    "c"
   ]
  },
  {
   "cell_type": "code",
   "execution_count": 63,
   "id": "f4478396",
   "metadata": {},
   "outputs": [
    {
     "data": {
      "text/plain": [
       "b    28\n",
       "b    72\n",
       "dtype: int64"
      ]
     },
     "execution_count": 63,
     "metadata": {},
     "output_type": "execute_result"
    }
   ],
   "source": [
    "c['b']"
   ]
  },
  {
   "cell_type": "code",
   "execution_count": 66,
   "id": "3f016391",
   "metadata": {},
   "outputs": [
    {
     "data": {
      "text/plain": [
       "b    28\n",
       "b    72\n",
       "a    11\n",
       "dtype: int64"
      ]
     },
     "execution_count": 66,
     "metadata": {},
     "output_type": "execute_result"
    }
   ],
   "source": [
    "c[['b','a']] # b가 먼저 출력됨"
   ]
  },
  {
   "cell_type": "code",
   "execution_count": 67,
   "id": "6d8ecbf5",
   "metadata": {},
   "outputs": [
    {
     "data": {
      "text/plain": [
       "a    11\n",
       "b    72\n",
       "dtype: int64"
      ]
     },
     "execution_count": 67,
     "metadata": {},
     "output_type": "execute_result"
    }
   ],
   "source": [
    "c[[0,2]]"
   ]
  },
  {
   "cell_type": "markdown",
   "id": "210e8ffb",
   "metadata": {},
   "source": [
    "# 연습문제 1 \n",
    "## 다음의 변수 A로 만드시오."
   ]
  },
  {
   "cell_type": "code",
   "execution_count": 68,
   "id": "57009551",
   "metadata": {},
   "outputs": [],
   "source": [
    "import pandas as pd\n",
    "A = pd.Series(list('abc')*2 , index = [k for j in [[i] * i for i in range(1,4)] for k in j])"
   ]
  },
  {
   "cell_type": "code",
   "execution_count": 70,
   "id": "fda4d2c9",
   "metadata": {},
   "outputs": [
    {
     "data": {
      "text/plain": [
       "1    a\n",
       "2    b\n",
       "2    c\n",
       "3    a\n",
       "3    b\n",
       "3    c\n",
       "dtype: object"
      ]
     },
     "execution_count": 70,
     "metadata": {},
     "output_type": "execute_result"
    }
   ],
   "source": [
    "A"
   ]
  },
  {
   "cell_type": "markdown",
   "id": "13ce7d09",
   "metadata": {},
   "source": [
    "# 연습문제 2\n",
    "## A로부터 Series 2개로 추출하시오."
   ]
  },
  {
   "cell_type": "code",
   "execution_count": 71,
   "id": "1365b586",
   "metadata": {},
   "outputs": [
    {
     "data": {
      "text/plain": [
       "3    a\n",
       "3    b\n",
       "3    c\n",
       "2    b\n",
       "2    c\n",
       "dtype: object"
      ]
     },
     "execution_count": 71,
     "metadata": {},
     "output_type": "execute_result"
    }
   ],
   "source": [
    "A[[3,2]]"
   ]
  },
  {
   "cell_type": "code",
   "execution_count": 72,
   "id": "047f5d0c",
   "metadata": {},
   "outputs": [
    {
     "data": {
      "text/plain": [
       "1    a\n",
       "2    b\n",
       "2    c\n",
       "3    a\n",
       "3    b\n",
       "dtype: object"
      ]
     },
     "execution_count": 72,
     "metadata": {},
     "output_type": "execute_result"
    }
   ],
   "source": [
    "A[0:5]"
   ]
  }
 ],
 "metadata": {
  "kernelspec": {
   "display_name": "Python 3",
   "language": "python",
   "name": "python3"
  },
  "language_info": {
   "codemirror_mode": {
    "name": "ipython",
    "version": 3
   },
   "file_extension": ".py",
   "mimetype": "text/x-python",
   "name": "python",
   "nbconvert_exporter": "python",
   "pygments_lexer": "ipython3",
   "version": "3.8.8"
  }
 },
 "nbformat": 4,
 "nbformat_minor": 5
}
